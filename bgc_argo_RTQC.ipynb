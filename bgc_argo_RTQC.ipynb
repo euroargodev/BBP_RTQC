{
 "cells": [
  {
   "cell_type": "code",
   "execution_count": 1,
   "metadata": {
    "code_folding": [
     0
    ]
   },
   "outputs": [],
   "source": [
    "# set theme\n",
    "!jt -t oceans16"
   ]
  },
  {
   "cell_type": "code",
   "execution_count": 2,
   "metadata": {
    "code_folding": [
     0
    ]
   },
   "outputs": [
    {
     "data": {
      "text/html": [
       "<style>.container { width:100% !important; }</style>"
      ],
      "text/plain": [
       "<IPython.core.display.HTML object>"
      ]
     },
     "metadata": {},
     "output_type": "display_data"
    }
   ],
   "source": [
    "# this is to make the Jupyter notebook as wide as the screen (on the Mac at least)\n",
    "from IPython.core.display import display, HTML\n",
    "display(HTML(\"<style>.container { width:100% !important; }</style>\"))\n",
    "%config InlineBackend.figure_format ='retina'"
   ]
  },
  {
   "cell_type": "markdown",
   "metadata": {},
   "source": [
    "### Import needed modules"
   ]
  },
  {
   "cell_type": "code",
   "execution_count": 3,
   "metadata": {},
   "outputs": [],
   "source": [
    "import numpy as np\n",
    "import xarray as xr\n",
    "import scipy.interpolate as spint\n",
    "import os\n",
    "import glob\n",
    "\n",
    "# Plotting\n",
    "import matplotlib.pyplot as plt\n",
    "import matplotlib.colors as colors\n",
    "import cartopy.crs as ccrs\n",
    "import cartopy.feature as cfeature\n",
    "import matplotlib.ticker as mticker\n",
    "from mpl_toolkits.axes_grid1 import make_axes_locatable\n",
    "import matplotlib as mpl\n",
    "\n",
    "import ipdb\n",
    "\n",
    "# from pylab import *\n",
    "from matplotlib import dates\n",
    "\n",
    "from datetime import datetime, timedelta\n",
    "from datetime import date\n",
    "\n",
    "import cmocean\n",
    "import matplotlib.dates as mdates\n",
    "\n",
    "# import holteandtalley as ht\n",
    "import gsw\n",
    "\n",
    "from bgc import plot_bbp, plot_flags, medfilt1\n",
    "\n",
    "# from BGC_Argo_BBP_RTQC import BBP_Spike_test, global_range_test_BBP700\n",
    "# from BGC_Argo_BBP_RTQC import global_range_test_BBP700 #, BBP_Spike_test\n",
    "\n",
    "import subprocess\n",
    "\n",
    "import warnings\n",
    "warnings.filterwarnings('ignore')\n",
    "    \n",
    "# import inspect #https://www.stefaanlippens.net/python_inspect/\n",
    "import pickle\n",
    "\n",
    "import gc\n",
    "from parfor import pmap\n",
    "\n"
   ]
  },
  {
   "cell_type": "code",
   "execution_count": null,
   "metadata": {},
   "outputs": [],
   "source": []
  },
  {
   "cell_type": "code",
   "execution_count": 4,
   "metadata": {
    "code_folding": [
     0
    ]
   },
   "outputs": [],
   "source": [
    "# function to define adaptive median filtering based on Christina Schallemberg's suggestion for CHLA\n",
    "def adaptive_medfilt1(x, y, PLOT=False):\n",
    "    # applies a median filtering followin Christina Schlallemberb's recommendations\n",
    "    # x is PRES\n",
    "    # y is BBP\n",
    "    \n",
    "    \n",
    "#     x = PRES[innan]\n",
    "#     y = BBP700[innan]\n",
    "\n",
    "    # compute x resolution\n",
    "    xres = np.diff(x)\n",
    "\n",
    "    # initialise medfiltered array\n",
    "    ymf = np.zeros(y.shape)*np.nan\n",
    "\n",
    "    ir_LT1 = np.where(xres<1)[0]\n",
    "    if np.any(ir_LT1):\n",
    "        win_LT1 = 11.\n",
    "        ymf[ir_LT1] = medfilt1(y[ir_LT1], win_LT1)   \n",
    "\n",
    "    ir_13 = np.where((xres>=1) & (xres<=3))[0]\n",
    "    if np.any(ir_13):\n",
    "        win_13 = 7.\n",
    "        ymf[ir_13] = medfilt1(y[ir_13], win_13)   \n",
    "\n",
    "    ir_GT3 = np.where(xres>3)[0]\n",
    "    if np.any(ir_GT3):\n",
    "        win_GT3 = 5.\n",
    "        ymf[ir_GT3] = medfilt1(y[ir_GT3], win_GT3)   \n",
    "\n",
    "    if PLOT:\n",
    "        plt.plot(np.log10(y), x, 'o')\n",
    "        plt.plot(np.log10(ymf), x, 'r-')\n",
    "    \n",
    "    return ymf\n"
   ]
  },
  {
   "cell_type": "markdown",
   "metadata": {},
   "source": [
    "# Implement different RTQC for BBP data using B-files"
   ]
  },
  {
   "cell_type": "markdown",
   "metadata": {},
   "source": [
    "## Tests that do not remove the entire profile"
   ]
  },
  {
   "cell_type": "markdown",
   "metadata": {},
   "source": [
    "### GLOBAL RANGE TEST (test order code \"A\")\n",
    "<br>\n",
    "#### Objective:\n",
    "To detect and flag values of BBP532 and BBP700 that are outside the expected range.\n",
    "<br>\n",
    "<br>\n",
    "#### What is done:\n",
    "Check that:<br>\n",
    "<code> medfilt1(BBP700) </code>  is in range [0, 0.001] m$^{-1} $.<br>\n",
    "<code> medfilt1(BBP532) </code> is in range [0, 0.001] m$^{-1} $.<br>\n",
    "<br>\n",
    "The value of <code>A_MAX_BBP700=0.001</code> is taken as a very conservative estimate based on histograms in fig 2 of Bisson et al., 2019, 10.1364/OE.27.030191\n",
    "<br>\n",
    "<br>\n",
    "#### QC flag if test fails\n",
    "3\n",
    "<br>\n",
    "Note: the entire profile is flagged, if any negative point is found (because if there is a negative value, then\n",
    "it is worth looking at the profile during DMQC).\n",
    "<br>\n",
    "__________________________________________________________________________________________\n"
   ]
  },
  {
   "cell_type": "code",
   "execution_count": 5,
   "metadata": {
    "code_folding": [
     7
    ]
   },
   "outputs": [],
   "source": [
    "##################################################################\n",
    "##################################################################\n",
    "# test parameters defined outside function to make them global variables\n",
    "A_MIN_BBP700 = 0 # [1/m]\n",
    "A_MAX_BBP700 = 0.01 # [1/m] REVISED VALUE (very conservative estimate based on histograms in fig 2 of Bisson et al., 2019, 10.1364/OE.27.030191)\n",
    "#     MAX_BBP700 = 0.1 # [1/m] NOTE that at least for BBP700 in 6901152, this value is above the saturation of the instrument (~0.077 1/m)\n",
    "\n",
    "def BBP_Global_range_test(BBP, BBPmf1, PRES, QC_Flags, QC_1st_failed_test, fn, VERBOSE=False, PLOT=False):\n",
    "    # BBP: nparray with all BBP data\n",
    "    # BBPmf1: median-filtered BBP data\n",
    "    # QC_Flags: array with QC flags\n",
    "    # QC_flag_1st_failed_test: array with info on which test failed QC_TEST_CODE\n",
    "    # fn: name of corresponding B-file\n",
    "    #\n",
    "    # WHAT IS DONE: Then this tests fails, only the failing points are flagged (QC=3)\n",
    "   \n",
    "    FORCE_PLOT = False # this is to plot even if the test does not fails\n",
    "    \n",
    "    QC = 3\n",
    "    QC_TEST_CODE = 'A'    \n",
    "#     ISBAD = np.array([])\n",
    "    ISBAD = np.zeros(len(BBPmf1), dtype=bool) # flag for noisy profile\n",
    "\n",
    "     \n",
    "    # this is the test \n",
    "    ibad = np.where( (BBPmf1 > A_MAX_BBP700) | (BBPmf1 < A_MIN_BBP700) )[0]\n",
    "    ISBAD[ibad] = 1\n",
    "    if np.any(ISBAD==1): # If ISBAD is not empty\n",
    "        # flag entire profile if any negative value is found\n",
    "        if np.any(BBPmf1 < A_MIN_BBP700):\n",
    "            ISBAD = np.where(BBPmf1)\n",
    "\n",
    "        # apply flag\n",
    "        QC_Flags[ISBAD] = QC\n",
    "        QC_1st_failed_test[ISBAD] = QC_TEST_CODE\n",
    "        \n",
    "        if VERBOSE:\n",
    "            print('Failed Global_Range_test')\n",
    "            print('applying QC=' + str(QC) + '...')\n",
    "            \n",
    "        if PLOT:\n",
    "            plot_failed_QC_test(BBP, BBPmf1, PRES, ISBAD, QC_Flags, QC_1st_failed_test, QC_TEST_CODE, fn, VERBOSE, FORCE_PLOT)\n",
    "        \n",
    "    return QC_Flags, QC_1st_failed_test\n"
   ]
  },
  {
   "cell_type": "markdown",
   "metadata": {},
   "source": [
    "### SURFACE HOOK TEST (test order code \"D\")\n",
    "<br>\n",
    "#### Objective:\n",
    "To detect and flag values of BBP532 and BBP700 that are negative near the surface.\n",
    "<br>\n",
    "<br>\n",
    "#### What is done:\n",
    "Check that:<br>\n",
    "<code> BBP700 </code>  is greater than 0 m$^{-1}$ in the top 5 dbars.<br>\n",
    "<code> BBP532 </code>  is greater than 0 m$^{-1}$ in the top 5 dbars.<br>\n",
    "<br>\n",
    "This test is needed because the medfilt1(BBP) used in the Global Range Test remove these few negative values near the surface. \n",
    "This likely needed because of some miscalibration in the pressure that cause the BBP meter to collect data outside of the water.\n",
    "<br>\n",
    "<br>\n",
    "#### QC flag if test fails\n",
    "3\n",
    "<br>\n",
    "<br>\n",
    "__________________________________________________________________________________________\n"
   ]
  },
  {
   "cell_type": "code",
   "execution_count": 6,
   "metadata": {
    "code_folding": [
     6
    ]
   },
   "outputs": [],
   "source": [
    "##################################################################\n",
    "##################################################################\n",
    "# test parameters defined outside function to make them global variables\n",
    "D_MIN_BBP700 = 0 # [1/m]\n",
    "D_ISURF = 5 # [dbars] pressure threshold above which to check for negative values\n",
    "\n",
    "def BBP_Surface_hook_test(BBP, BBPmf1, PRES, QC_Flags, QC_1st_failed_test, fn, VERBOSE=False, PLOT=False):\n",
    "    # BBP: nparray with all BBP data\n",
    "    # BBPmf1: median-filtered BBP data\n",
    "    # QC_Flags: array with QC flags\n",
    "    # QC_flag_1st_failed_test: array with info on which test failed QC_TEST_CODE\n",
    "    # fn: name of corresponding B-file\n",
    "    #\n",
    "    # WHAT IS DONE: Then this tests fails, only the failing points are flagged (QC=3)\n",
    "   \n",
    "    FORCE_PLOT = False # this is to plot even if the test does not fails\n",
    "    \n",
    "    QC = 3\n",
    "    QC_TEST_CODE = 'D'    \n",
    "    ISBAD = np.zeros(len(BBPmf1), dtype=bool) # initialise flag\n",
    "    iSURF  = np.where(PRES<=D_ISURF)[0]\n",
    "     \n",
    "    # this is the test \n",
    "    ibad = np.where(  (BBP[iSURF] < D_MIN_BBP700) )[0]\n",
    "    ISBAD[ibad] = 1\n",
    "    if np.any(ISBAD==1): # If ISBAD is not empty\n",
    "        # apply flag\n",
    "        QC_Flags[ISBAD] = QC\n",
    "        QC_1st_failed_test[ISBAD] = QC_TEST_CODE\n",
    "        \n",
    "        if VERBOSE:\n",
    "            print('Failed Surface_hook_test')\n",
    "            print('applying QC=' + str(QC) + '...')\n",
    "            \n",
    "        if PLOT:\n",
    "            plot_failed_QC_test(BBP, BBPmf1, PRES, ISBAD, QC_Flags, QC_1st_failed_test, QC_TEST_CODE, fn, VERBOSE, FORCE_PLOT)\n",
    "        \n",
    "    return QC_Flags, QC_1st_failed_test\n"
   ]
  },
  {
   "cell_type": "markdown",
   "metadata": {},
   "source": [
    "## Tests that flag the entire profile"
   ]
  },
  {
   "cell_type": "markdown",
   "metadata": {},
   "source": [
    "### NEGATIVE NON-SURFACE TEST (test order code \"F\")\n",
    "<br>\n",
    "#### Objective:\n",
    "To detect and flag values of BBP532 and BBP700 that are negative below the surface.\n",
    "<br>\n",
    "<br>\n",
    "#### What is done:\n",
    "Check that:<br>\n",
    "<code> BBP700 </code>  is less than 0 m$^{-1}$ below 5 dbars.<br>\n",
    "<code> BBP532 </code>  is less than 0 m$^{-1}$ below 5 dbars.<br>\n",
    "<br>\n",
    "This test is needed because the medfilt1(BBP) used in the Global Range Test remove these few negative values near the surface. \n",
    "<br>\n",
    "<br>\n",
    "#### QC flag if test fails\n",
    "3\n",
    "<br>\n",
    "<br>\n",
    "__________________________________________________________________________________________\n"
   ]
  },
  {
   "cell_type": "code",
   "execution_count": 7,
   "metadata": {
    "code_folding": [
     6
    ]
   },
   "outputs": [],
   "source": [
    "##################################################################\n",
    "##################################################################\n",
    "# test parameters defined outside function to make them global variables\n",
    "# D_MIN_BBP700 = 0 # [1/m]\n",
    "# D_ISURF = 5 # [dbars] pressure threshold above which to check for negative values\n",
    "## example csiro/5905022/profiles/BD5905022_053.nc\n",
    "def BBP_Negative_nonsurface_test(BBP, PRES, QC_Flags, QC_1st_failed_test, fn, VERBOSE=False, PLOT=False):\n",
    "    # BBP: nparray with all BBP data\n",
    "    # BBPmf1: median-filtered BBP data\n",
    "    # QC_Flags: array with QC flags\n",
    "    # QC_flag_1st_failed_test: array with info on which test failed QC_TEST_CODE\n",
    "    # fn: name of corresponding B-file\n",
    "    #\n",
    "    # WHAT IS DONE: Then this tests fails, only the failing points are flagged (QC=3)\n",
    "    FORCE_PLOT = False # this is to plot even if the test does not fails\n",
    "\n",
    "    QC = 3\n",
    "    QC_TEST_CODE = 'F'    \n",
    "    ISBAD = np.zeros(len(BBP), dtype=bool) # initialise flag\n",
    "#     ISBAD = np.array([])\n",
    "#     iDEEP  = np.where( PRES > D_ISURF )[0]\n",
    "     \n",
    "    # this is the test \n",
    "    ibad = np.where( (BBP < D_MIN_BBP700) & (PRES > D_ISURF) )[0] \n",
    "#     ipdb.set_trace()\n",
    "    if (ibad):\n",
    "        ISBAD[ibad] = 1\n",
    "        iQChigher = np.where(QC_Flags < QC) \n",
    "        if iQChigher:\n",
    "            if VERBOSE:\n",
    "                print('Failed BBP_Negative_nonsurface_test')\n",
    "                print('applying QC=' + str(QC) + '...')\n",
    "                \n",
    "            QC_Flags[iQChigher] = QC\n",
    "            QC_1st_failed_test[iQChigher] = QC_TEST_CODE\n",
    "            \n",
    "        if ((np.any(ISBAD)) & (PLOT==True)) | (FORCE_PLOT==True):\n",
    "            plot_failed_QC_test(BBP, BBP, PRES, ISBAD, QC_Flags, QC_1st_failed_test, QC_TEST_CODE, fn, VERBOSE, FORCE_PLOT)\n",
    "        \n",
    "    return QC_Flags, QC_1st_failed_test\n"
   ]
  },
  {
   "cell_type": "markdown",
   "metadata": {},
   "source": [
    "### BBP NOISY-PROFILE TEST  (test order code \"B\")\n",
    "<br>\n",
    "#### Objective:\n",
    "To detect and flag profiles of BBP that are affected by noisy data.\n",
    "<br><br>\n",
    "#### What is done:\n",
    "Compute <code> res = abs(BBP-medfilt1(BBP, 31))</code>.\n",
    "\n",
    "Flag profiles where at least <code>15%</code> of the profile has <code>res > 0.001</code>  m$^{-1}$.<br>\n",
    "<br><br>\n",
    "#### QC flag if test fails\n",
    "3\n",
    "<br>\n",
    "__________________________________________________________________________________________"
   ]
  },
  {
   "cell_type": "code",
   "execution_count": 8,
   "metadata": {
    "code_folding": [
     5
    ]
   },
   "outputs": [],
   "source": [
    "##################################################################\n",
    "##################################################################\n",
    "B_RES_THRESHOLD = 0.001 # [1/m] threshold for relative residuals\n",
    "B_FRACTION_OF_PROFILE_THAT_IS_OUTLIER = 0.15 # fraction of profile with relative residuals above REL_RES_THRESHOLD\n",
    "\n",
    "def BBP_Noisy_Profile_test(BBP, BBPmf1, PRES, QC_Flags, QC_1st_failed_test, fn, VERBOSE=False, PLOT=True):\n",
    "    # BBP: nparray with all BBP data\n",
    "    # BBPmf1: smooth BBP array (medfilt1(BBP700, 31)\n",
    "    # QC_Flags: array with QC flags\n",
    "    # QC_flag_1st_failed_test: array with info on which test failed QC_TEST_CODE\n",
    "    # fn: name of corresponding B-file\n",
    "    #\n",
    "    # WHAT IS DONE: When the test fails, all points in the profile are flagged (QC=3)\n",
    "    \n",
    "    QC = 3; # flag to apply if the result of the test is true\n",
    "    QC_TEST_CODE = 'B'\n",
    "    ISBAD = np.array([]) # flag for noisy profile\n",
    "    \n",
    "    FORCE_PLOT = False # plot even if the test does not fail (used when developing the test)\n",
    "\n",
    "#     rel_res = np.empty(BBP.shape)\n",
    "#     rel_res[:] = np.nan\n",
    "    \n",
    "    res = np.empty(BBP.shape)\n",
    "    res[:] = np.nan\n",
    "    \n",
    "\n",
    "\n",
    "    innan = np.where(~np.isnan(BBP))[0]\n",
    "    \n",
    "    if len(innan)>10: # if we have at least 10 points in the profile\n",
    "        res[innan] = np.abs(BBP[innan]-BBPmf1[innan])\n",
    "        ioutliers = np.where(abs(res)>B_RES_THRESHOLD)[0] # index of where the rel res are greater than the threshold\n",
    "\n",
    "        if len(ioutliers)/len(innan)>=B_FRACTION_OF_PROFILE_THAT_IS_OUTLIER: # this is the actual test: are there more than a certain fraction of points that are noisy?\n",
    "            ISBAD = ioutliers\n",
    "\n",
    "    # update QC_Flags to 3 when bad profiles are found\n",
    "    if len(ISBAD)>0:     \n",
    "        iQChigher = np.where(QC_Flags < QC) \n",
    "        if iQChigher:\n",
    "            if VERBOSE:\n",
    "                print('Failed BBP_Noisy_Profile_test')\n",
    "                print('applying QC=' + str(QC) + '...')\n",
    "                \n",
    "            QC_Flags[iQChigher] = QC\n",
    "            QC_1st_failed_test[iQChigher] = QC_TEST_CODE\n",
    "\n",
    "    if ((len(ISBAD)>0) & (PLOT==True)) | (FORCE_PLOT==True):\n",
    "        plot_failed_QC_test(res, res*0., PRES, ISBAD, QC_Flags, QC_1st_failed_test, QC_TEST_CODE, fn, VERBOSE, FORCE_PLOT)\n",
    "\n",
    "    \n",
    "    return QC_Flags, QC_1st_failed_test, res\n"
   ]
  },
  {
   "cell_type": "markdown",
   "metadata": {},
   "source": [
    "### BBP HIGH-DEEP-VALUES TEST  (test order code \"C\")\n",
    "<br>\n",
    "#### Objective:\n",
    "To detect and flag profiles of BBP that have at least some (5) points anomalously high values at depth. It could indicate multiple problems: wrong calibration coefficients, biofouling, bad sensor, grounding, etc.\n",
    "<br><br>\n",
    "#### What is done:\n",
    "Check if <code>median(BBP700)</code> below <code>800 dbars</code> is above a threshold of <code>0.0005 </code> m$^{-1}$.  (this is half the value typical for surface bbp in the oligotrophic ocean, smoothed bbp data at depth are expected to be lower than this value).\n",
    "\n",
    "Flag entire profile.\n",
    "<br><br>\n",
    "#### QC flag if test fails\n",
    "3\n",
    "<br>\n",
    "__________________________________________________________________________________________"
   ]
  },
  {
   "cell_type": "code",
   "execution_count": 9,
   "metadata": {
    "code_folding": [
     6
    ]
   },
   "outputs": [],
   "source": [
    "##################################################################\n",
    "##################################################################\n",
    "C_DEPTH_THRESH = 800 #[dbars] below this threshold we consider it \"deep\"\n",
    "C_DEEP_BBP700_THRESH = 0.0005 # [1/m] threshold for bbp at depth\n",
    "C_N_of_ANOM_POINTS = 5 # number of anomalous points required for the test to fail\n",
    "\n",
    "def BBP_High_Deep_Values_test(BBPmf1, PRES, QC_Flags, QC_1st_failed_test, fn, VERBOSE=False, PLOT=True):\n",
    "    # BBP: nparray with all BBP data\n",
    "    # BBPmf1: smooth BBP array (medfilt1(BBP700, 31)\n",
    "    # QC_Flags: array with QC flags\n",
    "    # QC_flag_1st_failed_test: array with info on which test failed QC_TEST_CODE\n",
    "    # fn: name of corresponding B-file\n",
    "    #\n",
    "    # WHAT IS DONE: When the test fails, all points in the profile are flagged (QC=3)\n",
    "\n",
    "    FORCE_PLOT = False # this is to plot even if the test does not fails\n",
    "        \n",
    "    QC = 3; # flag to apply if the result of the test is true\n",
    "    QC_TEST_CODE = 'C'\n",
    "    ISBAD = np.zeros(len(BBPmf1), dtype=bool) # flag for noisy profile\n",
    "    \n",
    "    # this is the test \n",
    "    iDEEP = np.where(PRES>C_DEPTH_THRESH)\n",
    "    if (np.nanmedian(BBPmf1[iDEEP]) > C_DEEP_BBP700_THRESH) & ( len(BBPmf1[iDEEP]) >= C_N_of_ANOM_POINTS):\n",
    "        ISBAD = np.ones(len(BBPmf1), dtype=bool)\n",
    "    \n",
    "    if np.any(ISBAD==1): # if ISBAD, then apply QC_flag=3  \n",
    "        iQChigher = np.where(QC_Flags < QC) # but first check that there are no QCflags > than the one we want to assign in this profile\n",
    "        if iQChigher:\n",
    "            if VERBOSE:\n",
    "                print('Failed High_Deep_Values_test')\n",
    "                print('applying QC=' + str(QC) + '...')\n",
    "\n",
    "                \n",
    "            QC_Flags[iQChigher] = QC\n",
    "            QC_1st_failed_test[iQChigher] = QC_TEST_CODE\n",
    "\n",
    "            if PLOT:\n",
    "                plot_failed_QC_test(BBPmf1, BBPmf1, PRES, ISBAD, QC_Flags, QC_1st_failed_test, QC_TEST_CODE, fn, VERBOSE, FORCE_PLOT)\n",
    "\n",
    "\n",
    " \n",
    "    return QC_Flags, QC_1st_failed_test\n"
   ]
  },
  {
   "cell_type": "markdown",
   "metadata": {},
   "source": [
    "### BBP MISSING-DATA TEST  (test order code \"E\")\n",
    "<br>\n",
    "#### Objective:\n",
    "To detect and flag profiles of BBP that have a large fraction of missing data. This test can also detect profiles that are too shallow with respect to the Argo mission.\n",
    "<br>\n",
    "<br>\n",
    "#### What is done:\n",
    "Ensure that we have at least 1 measurements every 100 dbars in the upper 1000 dbars.\n",
    "\n",
    "Flag entire profile.\n",
    "<br><br>\n",
    "#### QC flag if test fails\n",
    "1 if shallow profile: then do not flag as failing test<br>\n",
    "2 if continuous bins from the surface<br>\n",
    "3 if less than 2 data points in 100-dbar bins from 0 to 1000 dbars (because there maybe good profiles that are shallower than 1000 dbars)<br>\n",
    "4 if only data within one bin\n",
    "<br>\n",
    "__________________________________________________________________________________________"
   ]
  },
  {
   "cell_type": "code",
   "execution_count": 10,
   "metadata": {
    "code_folding": [
     2
    ]
   },
   "outputs": [],
   "source": [
    "##################################################################\n",
    "##################################################################\n",
    "def BBP_Missing_Data_test(BBP, PRES, QC_Flags, QC_1st_failed_test, fn, VERBOSE=False, PLOT=True):\n",
    "    # BBP: nparray with all BBP data\n",
    "    # QC_Flags: array with QC flags\n",
    "    # QC_flag_1st_failed_test: array with info on which test failed QC_TEST_CODE\n",
    "    # fn: name of corresponding B-file\n",
    "    #\n",
    "    # WHAT IS DONE: When the test fails, all points in the profile are flagged (QC=2)\n",
    "    \n",
    "    FORCE_PLOT = False # this is to plot even if the test does not fails\n",
    "        \n",
    "    QC_all = [np.nan, np.nan, np.nan, np.nan]    \n",
    "    QC_all[0] = 2 # flag to apply if we have less than 10 consecutive bins from the surface\n",
    "    QC_all[1] = 3 # flag to apply if the result of the test is true\n",
    "    QC_all[2] = 4 # flag to apply if there are data only within one size bin\n",
    "    QC_all[3] = 2 # if shallow profile\n",
    "    QC_TEST_CODE = 'E'\n",
    "    MIN_N_PERBIN = 1 # minimum number of points in each bin\n",
    "    ISBAD = 0 # flag for noisy profile\n",
    "    \n",
    "    # this is the test (check also that the corresponding flag have not been changed from the initial QC=1)\n",
    "    # bin the profile into 100-dbars bins\n",
    "    bins = np.linspace(50, 1000, 10) # create 10 bins between 0 and 1000 dbars\n",
    "    PRESbin = np.digitize(PRES, bins) # assign PRES values to each bin\n",
    "    bin_counts = np.zeros(bins.shape)*np.nan\n",
    "    for i in range(len(bins)):\n",
    "        if i==0:\n",
    "            bin_counts[i] = len(np.where(PRES<bins[i])[0])\n",
    "        else:\n",
    "            bin_counts[i] = len(np.where((PRES>=bins[i-1]) & (PRES<bins[i]))[0])\n",
    "            \n",
    "\n",
    "    # this is the actual test\n",
    "    if np.any(np.nonzero(bin_counts<MIN_N_PERBIN)[0]):\n",
    "        ISBAD = 1  \n",
    "        \n",
    "        # these statement below are for QC=2\n",
    "        nonempty = np.where(bin_counts>0)[0] # index of bins with data inside\n",
    "        if len(nonempty)>1:\n",
    "            test_bin = np.linspace(0, nonempty[-1], nonempty[-1]+1) # create array with consecutive indices from 0 to the last element of nonempty\n",
    "            # if there is only one bin with data then QC=4\n",
    "            if len(np.nonzero(bin_counts>MIN_N_PERBIN)[0])==1: \n",
    "                print(\"data only in one bin: QC=4\")\n",
    "                QC = QC_all[2]\n",
    "\n",
    "            # if there are consecutive bins from zero index \n",
    "            # and if not all bins contain data, then QC=2    \n",
    "            elif (np.all(test_bin==nonempty)) & (nonempty[-1]<9) & (np.nanmax(PRES) >= bins.max()): \n",
    "                print(\"shallow profile due to missing data: QC=2\")\n",
    "                QC = QC_all[0]\n",
    "                \n",
    "            # check if max(PRES)<maxPresbin to decide if this was a profile that was programmed to be shallow\n",
    "            elif (np.all(test_bin==nonempty)) & (nonempty[-1]<9) & (np.nanmax(PRES) < bins.max()): \n",
    "                print(\"shallow profile (maxPRES=\"+str(np.nanmax(PRES))+\" dbars): QC=2\")\n",
    "                # set ISBAD so that the test does not fail when it's a shallow profile\n",
    "#                 ISBAD = 0\n",
    "                QC = QC_all[3]\n",
    "                    \n",
    "\n",
    "            # if missing data in the profile, but not cosecutively from bottom, QC=3        \n",
    "            else:\n",
    "                print(\"data in some bins missing: QC=3\")\n",
    "                QC = QC_all[1]\n",
    "                \n",
    "        else: # this is for when we have no data at all, QC=4\n",
    "            print(\"no data at all: QC=4\")\n",
    "            QC = QC_all[2]\n",
    "\n",
    "\n",
    "                \n",
    "    if ISBAD==1: # if ISBAD, then apply QC_flag  \n",
    "        iQChigher = np.where(QC_Flags < QC) # but first check that there are no QCflags > than the one we want to assign in this profile\n",
    "        if iQChigher:\n",
    "            if VERBOSE:\n",
    "                print('Failed Missing_Data_test')\n",
    "                print('applying QC=' + str(QC) + '...')\n",
    "\n",
    "                \n",
    "            QC_Flags[iQChigher] = QC\n",
    "            QC_1st_failed_test[iQChigher] = QC_TEST_CODE\n",
    "\n",
    "            if PLOT:\n",
    "                plot_failed_QC_test(BBP, bin_counts, PRES, ISBAD, QC_Flags, QC_1st_failed_test, QC_TEST_CODE, fn, VERBOSE, FORCE_PLOT)\n",
    "\n",
    "\n",
    "    return QC_Flags, QC_1st_failed_test\n"
   ]
  },
  {
   "cell_type": "markdown",
   "metadata": {
    "code_folding": []
   },
   "source": [
    "## Apply tests"
   ]
  },
  {
   "cell_type": "markdown",
   "metadata": {},
   "source": [
    "### Create lists of WMOs that include BBP meters on different float types"
   ]
  },
  {
   "cell_type": "code",
   "execution_count": 11,
   "metadata": {
    "scrolled": false
   },
   "outputs": [
    {
     "name": "stdout",
     "output_type": "stream",
     "text": [
      "62\n",
      "0\n"
     ]
    }
   ],
   "source": [
    "MAIN_DIR = '/data/datasets/Argo/Original/'\n",
    "WORKING_DIR = '/fast_scratch/BGCArgo_plot/source/'\n",
    "\n",
    "base_cmdo = \"grep BBP700 \" + MAIN_DIR + \"dac/argo_bio-profile_index.txt | cut -d '/'\"\n",
    "# cmdo = base_cmdo + \" -f2 | uniq\"\n",
    "\n",
    "# WMO = subprocess.run(cmdo, shell=True, stdout=subprocess.PIPE).stdout.decode('utf-8').split('\\n')\n",
    "\n",
    "\n",
    "# cmdo2 = base_cmdo + \" -f1,2 | uniq\"\n",
    "# #aoml soccom floats\n",
    "# cmdo2 = \"grep BBP700 /data/datasets/Argo/Original/dac/argo_bio-profile_index.txt | awk -F \\\",\\\" '$3<=-35' |   cut -d '/' -f1,2  | uniq | grep aoml\" # these are SOCCOM floats\n",
    "# #aoml non-soccom floats\n",
    "# cmdo2 = \"grep BBP700 /data/datasets/Argo/Original/dac/argo_bio-profile_index.txt | awk -F \\\",\\\" '$3>-35' |   cut -d '/' -f1,2  | uniq | grep aoml\" # these are SOCCOM floats\n",
    "# #non-aoml floats\n",
    "# # cmdo2 = \"grep BBP700 /data/datasets/Argo/Original/dac/argo_bio-profile_index.txt |   cut -d '/' -f1,2  | uniq | grep  aoml\" # these are SOCCOM floats\n",
    "cmdo2 = \"grep BBP700 /data/datasets/Argo/Original/dac/argo_bio-profile_index.txt |   cut -d '/' -f1,2  | uniq \"  # all data\n",
    "wmo_dac = subprocess.run(cmdo2, shell=True, stdout=subprocess.PIPE).stdout.decode('utf-8').split('\\n')\n",
    "\n",
    "# WMO_dac = \n",
    "\n",
    "# add my floats\n",
    "# WMO_dac.append('bodc/6901174')\n",
    "# WMO_dac.append('bodc/6901152') #metbio002\n",
    "# WMO_dac.append('bodc/3901498')\n",
    "\n",
    "\n",
    "WMO_dac = np.asarray(wmo_dac[::10])\n",
    "print(len(WMO_dac))\n",
    "# type(WMO_dac)\n",
    "# istart = int(np.where(WMO_dac==\"csiro/5905397\")[0])\n",
    "istart = 0\n",
    "print(istart)"
   ]
  },
  {
   "cell_type": "code",
   "execution_count": 12,
   "metadata": {},
   "outputs": [
    {
     "data": {
      "text/plain": [
       "array(['aoml/1902303', 'aoml/5903717', 'aoml/5904181', 'aoml/5904468',\n",
       "       'aoml/5904478', 'aoml/5904676', 'aoml/5904687', 'aoml/5904841',\n",
       "       'aoml/5904857', 'aoml/5905070', 'aoml/5905080', 'aoml/5905108',\n",
       "       'aoml/5905366', 'aoml/5905376', 'aoml/5905969', 'aoml/5905991',\n",
       "       'aoml/5906002', 'aoml/5906033', 'aoml/5906206', 'aoml/5906226',\n",
       "       'aoml/5906246', 'aoml/5906302', 'aoml/5906313', 'aoml/5906434',\n",
       "       'bodc/3901498', 'bodc/6901183', 'coriolis/4901805',\n",
       "       'coriolis/6901032', 'coriolis/6901482', 'coriolis/6901494',\n",
       "       'coriolis/6901517', 'coriolis/6901527', 'coriolis/6901580',\n",
       "       'coriolis/6901648', 'coriolis/6901659', 'coriolis/6901769',\n",
       "       'coriolis/6901862', 'coriolis/6902024', 'coriolis/6902666',\n",
       "       'coriolis/6902734', 'coriolis/6902827', 'coriolis/6902901',\n",
       "       'coriolis/6902954', 'coriolis/6903093', 'coriolis/6903273',\n",
       "       'coriolis/6903569', 'coriolis/6903711', 'coriolis/7900560',\n",
       "       'coriolis/7900591', 'csio/2902762', 'csiro/5903630',\n",
       "       'csiro/5905022', 'csiro/5905397', 'csiro/7900918',\n",
       "       'incois/2902114', 'incois/2902158', 'incois/2902195',\n",
       "       'incois/2902216', 'incois/2902245', 'incois/2902277',\n",
       "       'jma/2903329', 'jma/2903672'], dtype='<U16')"
      ]
     },
     "execution_count": 12,
     "metadata": {},
     "output_type": "execute_result"
    }
   ],
   "source": [
    "WMO_dac"
   ]
  },
  {
   "cell_type": "code",
   "execution_count": 13,
   "metadata": {
    "code_folding": [
     3
    ]
   },
   "outputs": [],
   "source": [
    "##################################################################\n",
    "##################################################################\n",
    "# function to plot results of applying test to dataset\n",
    "def plot_failed_QC_test(BBP, BBPmf1, PRES, ISBAD, QC_Flags, QC_1st_failed_test, QC_TEST_CODE, fn, VERBOSE=False, FORCE_PLOT=False):\n",
    "    # BBP: nparray with all BBP data\n",
    "    # BBPmf1: median-filtered BBP data\n",
    "    # ISBAD: index marking the data that failed the QC test\n",
    "    # QC_Flags: array with QC flags\n",
    "    # QC_flag_1st_failed_test: array with info on which test failed QC_TEST_CODE\n",
    "    # QC_TEST_CODE: code of the failed test\n",
    "    #FORCE_PLOT: flag to plot the test plot even if the test has not failed\n",
    "    \n",
    "    DIR_OUT = './plots/'\n",
    "\n",
    "#     %matplotlib inline   \n",
    "#     plt.ioff() # this is needed to avoid showing the plot (i.e. only saving it)\n",
    "    \n",
    "    fig = plt.figure(figsize=(10, 10))\n",
    "\n",
    "    ax1 = fig.add_subplot(1,1,1)\n",
    "\n",
    "    innan = np.nonzero(~np.isnan(BBP))\n",
    "    \n",
    "    \n",
    "    # check that there are enough data to plot\n",
    "    if len(BBP)<2:\n",
    "        if VERBOSE:\n",
    "            print(\"not enough data to plot... exiting\")\n",
    "        return\n",
    "    \n",
    "\n",
    "    if (not (QC_TEST_CODE == \"0\")) & (FORCE_PLOT == False): # this is to plot the original profile \n",
    "        ax1.plot(BBP[ISBAD], PRES[ISBAD], 'o', ms=10, color='r', mfc='r', alpha=0.7)\n",
    "        ax1.plot(BBP[innan], PRES[innan], 'o-', ms=3, color='k', mfc='none', alpha=0.7) # <<<<<<<<<<<<<<<<<<\n",
    "\n",
    "    if QC_TEST_CODE!='E':\n",
    "        ax1.plot(BBP[innan], PRES[innan], 'o-', ms=3, color='k', mfc='none', alpha=0.7) # <<<<<<<<<<<<<<<<<<\n",
    "        ax1.plot(BBPmf1[innan], PRES[innan], '-', color='#41F11D', mfc='none', alpha=0.7)\n",
    "    \n",
    "\n",
    "    # test-specific additions\n",
    "    if (QC_TEST_CODE == \"A\") | (QC_TEST_CODE == \"0\") | (QC_TEST_CODE == \"D\") | (QC_TEST_CODE == \"F\"):\n",
    "        ax1.plot(BBP[innan], PRES[innan], 'o-', ms=3, color='k', mfc='none', alpha=0.7) # <<<<<<<<<<<<<<<<<<\n",
    "        ax1.plot(BBPmf1[innan], PRES[innan], '-', color='#41F11D', mfc='none', alpha=0.7)\n",
    "        ax1.plot(A_MAX_BBP700*np.ones(2), [-5, 2000], '--', color='r', mfc='none', alpha=0.7)\n",
    "        ax1.plot(A_MIN_BBP700*np.ones(2), [-5, 2000], '--', color='r', mfc='none', alpha=0.7)\n",
    "        \n",
    "    if QC_TEST_CODE == \"C\":\n",
    "        ax1.plot(C_DEEP_BBP700_THRESH*np.ones(2), [-5, 2000], '--', color='r', mfc='none', alpha=0.7)\n",
    "\n",
    "    if QC_TEST_CODE != 'B':\n",
    "#         ax1.set_xscale('log')\n",
    "        ax1.set_xlim((-0.001, 0.015))\n",
    "\n",
    "    elif QC_TEST_CODE =='B':\n",
    "        ax1.plot(B_RES_THRESHOLD*np.ones(2), [-5, 2000], '--', color='r', mfc='none', alpha=0.7)\n",
    "        ax1.set_xlim( (1e-6, 1e-2 ) )\n",
    "        ax1.set_xscale('log')\n",
    "#         rstd = (np.percentile(rel_res, 84) - np.percentile(rel_res, 16)/2.)\n",
    "#         ax1.text(-2, 100, str(rstd), fontsize=20)\n",
    "\n",
    "    if QC_TEST_CODE == \"E\":\n",
    "        bin_counts = BBPmf1+10.\n",
    "        ax1.cla()\n",
    "        bins = np.linspace(50, 1000, 10)\n",
    "        ax1.barh(bins-50, bin_counts/2000., height=97, zorder=0 )\n",
    "        ifail = np.where(bin_counts<10+1)\n",
    "        ax1.barh(bins[ifail]-50, bin_counts[ifail]/2000., height=97, color='r', zorder=1 )\n",
    "        ax1.plot(BBP, PRES, 'k.-', zorder=60)   \n",
    "        \n",
    "        \n",
    "#         ax1.plot(BBP, PRES, 'o', ms=10, color='r', mfc='r', alpha=0.7)\n",
    "    # ax1.set_ylim((np.nanpercentile(O2sat_surf,0.1), np.nanpercentile(O2sat_surf,99.1)))\n",
    "    # ax1.plot(BBP700[ibad[1],:], Y[ibad[1],:], 'o', ms=2, color='r', mfc='none', alpha=0.7)\n",
    "    \n",
    "        \n",
    "    ax1.grid('on')\n",
    "\n",
    "    ax1.set_ylim([-5, 2000])    \n",
    "    ax1.invert_yaxis()\n",
    "\n",
    "    ax1.set_xlabel('BBP [1/m]', fontsize=20)\n",
    "    ax1.set_ylabel('PRES [dbars]', fontsize=20)\n",
    "    ax1.set_title('QC='+QC_TEST_CODE+\" \"+fn.split('/')[-1], fontsize=20, color='r', fontweight='bold')\n",
    "\n",
    "    fname = DIR_OUT + \"/\" + fn.split('/')[-3] + \"/\" + fn.split('/')[-4] + \"_\" + fn.split('/')[-1] + \"_\" + QC_TEST_CODE+ \".png\"\n",
    "    fig.savefig(fname, dpi = 75) \n",
    "\n",
    "    # minimise memory leaks\n",
    "    plt.close(fig)\n",
    "    gc.collect()\n",
    "    \n",
    "# #     plt.ion()  # swtich interactive plotting back on again\n",
    "\n",
    "    \n",
    "# #     ipdb.set_trace()\n",
    "\n",
    "    return \n"
   ]
  },
  {
   "cell_type": "markdown",
   "metadata": {},
   "source": [
    "### Read profile data"
   ]
  },
  {
   "cell_type": "markdown",
   "metadata": {},
   "source": [
    "#### Open profile data for one WMO"
   ]
  },
  {
   "cell_type": "code",
   "execution_count": 14,
   "metadata": {
    "code_folding": [
     1
    ],
    "scrolled": true
   },
   "outputs": [],
   "source": [
    "# function to apply tests and plot results (needed in function form for parallel processing)\n",
    "def QC_wmo(iwmo, VERBOSE=True):   \n",
    "    \n",
    "    MAIN_DIR = '/data/datasets/Argo/Original/'\n",
    "    WORKING_DIR = '/fast_scratch/BGCArgo_plot/source/BBP_RTQC/'\n",
    "    DIR_OUT = './plots/'\n",
    "    PLOT = True\n",
    "\n",
    "    print(iwmo)\n",
    "\n",
    "    if len(iwmo)==0:\n",
    "        return\n",
    "#     if (iwmo.split('/')[0]!='coriolis'):\n",
    "#         continue\n",
    "    \n",
    "    fn2glob = MAIN_DIR + \"dac/\" + iwmo + \"/profiles/\" + \"B*\" + iwmo.split(\"/\")[-1] + \"*_[0-9][0-9][0-9].nc\"\n",
    "    fn_single_profiles = np.sort(glob.glob(fn2glob))\n",
    "\n",
    "    # create dir for output plots\n",
    "    dout = DIR_OUT + \"/\" + fn_single_profiles[0].split('/')[-3]\n",
    "    \n",
    "    if not os.path.isdir(dout):\n",
    "        os.mkdir(dout)\n",
    "        if VERBOSE:\n",
    "            print(\"created \" + dout)\n",
    "    else: # remove old plots from this dir\n",
    "        if VERBOSE:\n",
    "            print(\"removing old plots in \" + dout + \"...\")\n",
    "        oldfn = glob.glob(WORKING_DIR + DIR_OUT + iwmo.split(\"/\")[-1] + \"/*.p*\")\n",
    "        print(WORKING_DIR + DIR_OUT + iwmo.split(\"/\")[-1] + \"/*.p*\")\n",
    "        [os.remove(i) for i in oldfn]   \n",
    "        if VERBOSE:\n",
    "            print(\"...done\")\n",
    "        \n",
    "    \n",
    "    all_PRES = []\n",
    "    all_BBP700 = []\n",
    "    all_BBP700_QC_flag = []\n",
    "    all_BBP700_1st_fail = []\n",
    "    all_BBP700_norm = []\n",
    "\n",
    "    for fn_p in fn_single_profiles:\n",
    "        if VERBOSE:\n",
    "            print(fn_p)\n",
    "        ds = xr.open_dataset(fn_p)\n",
    "        \n",
    "        \n",
    "        # check if BBP700 is present\n",
    "        v = set(ds.data_vars)\n",
    "        if 'BBP700' not in v:\n",
    "            if VERBOSE:\n",
    "                print('no BBP700 for this cycle')\n",
    "            ds.close()\n",
    "            continue\n",
    "\n",
    "\n",
    "        # find N_PROF where the BBP700 data are stored     \n",
    "        tmp_bbp = ds.BBP700.values # note that BBP700[N_PROF,N_LEVELS]\n",
    "        tmp = [np.any(~np.isnan(tmp_bbp[i][:])) for i in range(tmp_bbp.shape[0])] # find which of the different columns of tmp_bbp has at least one non-NaN element\n",
    "        if np.any(tmp):\n",
    "            N_PROF = np.where(tmp)[0][0]\n",
    "        else:\n",
    "            if VERBOSE:\n",
    "                print(\"this profile has less than 5 data points: skipping \")\n",
    "            continue\n",
    "    \n",
    "    \n",
    "        BBP700 = ds.BBP700[N_PROF].values\n",
    "        PRES = ds.PRES[N_PROF].values\n",
    "        JULD = ds.JULD[N_PROF].values\n",
    "        \n",
    "        innan = np.where(~np.isnan(BBP700))[0]\n",
    "\n",
    "        # compute median filtered profile\n",
    "        BBP700mf1 = np.zeros(BBP700.shape)*np.nan\n",
    "#         MEDFILT_WIN = 31\n",
    "#         BBP700mf1[innan] = medfilt1(BBP700[innan], MEDFILT_WIN)\n",
    "        BBP700mf1[innan] = adaptive_medfilt1(PRES[innan], BBP700[innan])\n",
    "\n",
    "        # initialise arrays with QC flags[0,:] = 1 (good data)\n",
    "        BBP700_QC_flags = np.zeros(BBP700.shape)+1\n",
    "        BBP700_QC_1st_failed_test = np.full(shape=BBP700.shape, fill_value='0')\n",
    "\n",
    "        \n",
    "        # Plot original profile even if no QC flag is raisef\n",
    "        plot_failed_QC_test(BBP700, BBP700mf1, PRES, BBP700*np.nan, BBP700_QC_flags, BBP700_QC_1st_failed_test, '0', fn_p)\n",
    "        \n",
    "        \n",
    "        # GLOBAL-RANGE TEST for BBP700\n",
    "        BBP700_QC_flag, BBP700_QC_1st_failed_test = BBP_Global_range_test(BBP700, BBP700mf1, PRES, BBP700_QC_flags, BBP700_QC_1st_failed_test, fn_p, VERBOSE, PLOT)\n",
    "\n",
    "        # SURFACE-HOOK TEST for BBP700\n",
    "        BBP700_QC_flag, BBP700_QC_1st_failed_test = BBP_Surface_hook_test(BBP700, BBP700mf1, PRES, BBP700_QC_flags, BBP700_QC_1st_failed_test, fn_p, VERBOSE, PLOT)\n",
    "\n",
    "        # BBP_NOISY_PROFILE TEST\n",
    "        BBP700_QC_flag, BBP700_QC_1st_failed_test, rel_res = BBP_Noisy_Profile_test(BBP700, BBP700mf1, PRES, BBP700_QC_flags, BBP700_QC_1st_failed_test, fn_p, VERBOSE, PLOT)\n",
    "\n",
    "        # HIGH_DEEP_VALUES TEST\n",
    "        BBP700_QC_flag, BBP700_QC_1st_failed_test = BBP_High_Deep_Values_test(BBP700mf1, PRES, BBP700_QC_flags, BBP700_QC_1st_failed_test, fn_p, VERBOSE, PLOT)\n",
    "        \n",
    "        # MISSING_DATA TEST\n",
    "        BBP700_QC_flag, BBP700_QC_1st_failed_test = BBP_Missing_Data_test(BBP700, PRES, BBP700_QC_flags, BBP700_QC_1st_failed_test, fn_p, VERBOSE, PLOT)\n",
    "        \n",
    "        # NEGATIVE NON-SURFACE TEST\n",
    "#         print(PRES)\n",
    "        BBP700_QC_flag, BBP700_QC_1st_failed_test = BBP_Negative_nonsurface_test(BBP700, PRES, BBP700_QC_flags, BBP700_QC_1st_failed_test, fn_p, VERBOSE, PLOT)\n",
    "        \n",
    "        # PROFILE-STEP-CHANGE TEST (e.g., 6902737_262)\n",
    "        \n",
    "        # ANIMAL SPIKES\n",
    "\n",
    "        # GROUNDED_BBP TEST\n",
    "    \n",
    "        # STUCK-VALUE TEST\n",
    "\n",
    "        \n",
    "        ideep = np.where((np.asarray(PRES)>950.) & (np.asarray(PRES)<1050.))[0]\n",
    "#         if np.any((iwmo.split('/')[0]=='coriolis') &( np.asarray(BBP700mf1)[ideep]>0.001)):\n",
    "#             ipdb.set_trace()\n",
    "\n",
    "        # close dataset\n",
    "        ds.close()\n",
    "\n",
    "        # compute BBP700(z) - median(BBP700(z<800))\n",
    "        BBP700_norm = BBP700 - np.nanmedian(BBP700[PRES>800]) + 1e-3\n",
    "        all_BBP700_norm.extend(BBP700_norm)\n",
    "        \n",
    "        \n",
    "        # save results in res list\n",
    "        all_PRES.extend(PRES)\n",
    "        all_BBP700.extend(BBP700)\n",
    "        all_BBP700_QC_flag.extend(BBP700_QC_flag)\n",
    "        all_BBP700_1st_fail.extend(BBP700_QC_1st_failed_test)\n",
    "#         res.append([PRES, BBP700, BBP700_QC_flag, BBP700_QC_1st_failed_test, JULD])\n",
    "    \n",
    "#         ipdb.set_trace()    \n",
    "    \n",
    "    # save results in pickled file (https://www.datacamp.com/community/tutorials/pickle-python-tutorial)\n",
    "    fname = DIR_OUT + fn_p.split('/')[-3] + \"/\" + fn_p.split('/')[-4] + \"_\" + fn_p.split('/')[-1].split('.')[0].split('_')[0] +  \".pkl\"\n",
    "    fnout = open(fname,'wb')\n",
    "    pickle.dump([all_PRES, all_BBP700, all_BBP700_QC_flag, all_BBP700_1st_fail], fnout)\n",
    "    fnout.close()\n",
    "\n",
    "    del all_PRES, all_BBP700, all_BBP700_QC_flag, all_BBP700_1st_fail\n",
    "    gc.collect()\n",
    "    "
   ]
  },
  {
   "cell_type": "code",
   "execution_count": 32,
   "metadata": {
    "scrolled": true
   },
   "outputs": [],
   "source": [
    "# for ipro in WMO_dac[40:]:\n",
    "#     QC_wmo(ipro)"
   ]
  },
  {
   "cell_type": "code",
   "execution_count": null,
   "metadata": {},
   "outputs": [],
   "source": []
  },
  {
   "cell_type": "code",
   "execution_count": 31,
   "metadata": {
    "scrolled": true
   },
   "outputs": [
    {
     "data": {
      "text/plain": [
       "(array([43]),)"
      ]
     },
     "execution_count": 31,
     "metadata": {},
     "output_type": "execute_result"
    }
   ],
   "source": [
    "np.where(WMO_dac[:]=='coriolis/6903093')"
   ]
  },
  {
   "cell_type": "code",
   "execution_count": 17,
   "metadata": {
    "code_folding": [],
    "scrolled": true
   },
   "outputs": [
    {
     "name": "stderr",
     "output_type": "stream",
     "text": [
      "[Parallel(n_jobs=7)]: Using backend LokyBackend with 7 concurrent workers.\n",
      "[Parallel(n_jobs=7)]: Done   1 tasks      | elapsed:    4.7s\n",
      "[Parallel(n_jobs=7)]: Done   2 tasks      | elapsed:    6.2s\n",
      "[Parallel(n_jobs=7)]: Done   3 tasks      | elapsed:    6.9s\n",
      "[Parallel(n_jobs=7)]: Done   4 tasks      | elapsed:   19.8s\n",
      "[Parallel(n_jobs=7)]: Done   5 tasks      | elapsed:   40.0s\n",
      "[Parallel(n_jobs=7)]: Done   6 tasks      | elapsed:   40.0s\n",
      "[Parallel(n_jobs=7)]: Done   7 tasks      | elapsed:   43.1s\n",
      "[Parallel(n_jobs=7)]: Done   8 tasks      | elapsed:   46.3s\n",
      "[Parallel(n_jobs=7)]: Done   9 tasks      | elapsed:   50.3s\n",
      "[Parallel(n_jobs=7)]: Done  10 tasks      | elapsed:   59.1s\n",
      "[Parallel(n_jobs=7)]: Done  11 tasks      | elapsed:  1.1min\n",
      "[Parallel(n_jobs=7)]: Done  12 tasks      | elapsed:  1.1min\n",
      "[Parallel(n_jobs=7)]: Done  13 tasks      | elapsed:  1.2min\n",
      "[Parallel(n_jobs=7)]: Done  14 tasks      | elapsed:  1.2min\n",
      "[Parallel(n_jobs=7)]: Done  15 tasks      | elapsed:  1.3min\n",
      "[Parallel(n_jobs=7)]: Done  16 tasks      | elapsed:  1.3min\n",
      "[Parallel(n_jobs=7)]: Done  17 tasks      | elapsed:  1.3min\n",
      "[Parallel(n_jobs=7)]: Done  18 tasks      | elapsed:  1.4min\n",
      "[Parallel(n_jobs=7)]: Done  19 tasks      | elapsed:  1.4min\n",
      "[Parallel(n_jobs=7)]: Done  20 tasks      | elapsed:  1.4min\n",
      "[Parallel(n_jobs=7)]: Done  21 tasks      | elapsed:  1.4min\n",
      "[Parallel(n_jobs=7)]: Done  22 tasks      | elapsed:  1.4min\n",
      "[Parallel(n_jobs=7)]: Done  23 tasks      | elapsed:  1.4min\n",
      "[Parallel(n_jobs=7)]: Done  24 tasks      | elapsed:  1.4min\n",
      "[Parallel(n_jobs=7)]: Done  25 tasks      | elapsed:  1.5min\n",
      "[Parallel(n_jobs=7)]: Done  26 tasks      | elapsed:  1.7min\n",
      "[Parallel(n_jobs=7)]: Done  27 tasks      | elapsed:  2.0min\n",
      "[Parallel(n_jobs=7)]: Done  28 tasks      | elapsed:  2.2min\n",
      "[Parallel(n_jobs=7)]: Done  29 tasks      | elapsed:  2.6min\n",
      "[Parallel(n_jobs=7)]: Done  30 tasks      | elapsed:  2.7min\n",
      "[Parallel(n_jobs=7)]: Done  31 tasks      | elapsed:  2.7min\n",
      "[Parallel(n_jobs=7)]: Done  32 tasks      | elapsed:  2.7min\n",
      "[Parallel(n_jobs=7)]: Done  33 tasks      | elapsed:  3.1min\n",
      "[Parallel(n_jobs=7)]: Done  34 tasks      | elapsed:  3.2min\n",
      "[Parallel(n_jobs=7)]: Done  35 tasks      | elapsed:  3.7min\n",
      "[Parallel(n_jobs=7)]: Done  36 tasks      | elapsed:  3.9min\n",
      "[Parallel(n_jobs=7)]: Done  37 tasks      | elapsed:  4.0min\n",
      "[Parallel(n_jobs=7)]: Done  38 tasks      | elapsed:  4.0min\n",
      "[Parallel(n_jobs=7)]: Done  39 tasks      | elapsed:  4.1min\n",
      "[Parallel(n_jobs=7)]: Done  40 tasks      | elapsed:  4.1min\n",
      "[Parallel(n_jobs=7)]: Done  41 tasks      | elapsed:  4.1min\n",
      "[Parallel(n_jobs=7)]: Done  42 tasks      | elapsed:  4.1min\n",
      "[Parallel(n_jobs=7)]: Done  43 tasks      | elapsed:  4.1min\n",
      "[Parallel(n_jobs=7)]: Done  44 tasks      | elapsed:  4.1min\n",
      "[Parallel(n_jobs=7)]: Done  45 tasks      | elapsed:  4.1min\n",
      "[Parallel(n_jobs=7)]: Done  46 tasks      | elapsed:  4.1min\n",
      "[Parallel(n_jobs=7)]: Done  47 tasks      | elapsed:  4.1min\n",
      "[Parallel(n_jobs=7)]: Done  48 tasks      | elapsed:  4.1min\n",
      "[Parallel(n_jobs=7)]: Done  49 tasks      | elapsed:  4.1min\n",
      "[Parallel(n_jobs=7)]: Done  50 out of  53 | elapsed:  4.1min remaining:   14.7s\n"
     ]
    },
    {
     "ename": "ValueError",
     "evalue": "The truth value of an array with more than one element is ambiguous. Use a.any() or a.all()",
     "output_type": "error",
     "traceback": [
      "\u001b[0;31m---------------------------------------------------------------------------\u001b[0m",
      "\u001b[0;31mValueError\u001b[0m                                Traceback (most recent call last)",
      "\u001b[0;32m<ipython-input-17-1d6587670757>\u001b[0m in \u001b[0;36m<module>\u001b[0;34m\u001b[0m\n\u001b[1;32m      2\u001b[0m \u001b[0;31m#     QC_wmo(iwmo)\u001b[0m\u001b[0;34m\u001b[0m\u001b[0;34m\u001b[0m\u001b[0;34m\u001b[0m\u001b[0m\n\u001b[1;32m      3\u001b[0m \u001b[0;32mfrom\u001b[0m \u001b[0mjoblib\u001b[0m \u001b[0;32mimport\u001b[0m \u001b[0mdelayed\u001b[0m\u001b[0;34m,\u001b[0m \u001b[0mParallel\u001b[0m\u001b[0;34m\u001b[0m\u001b[0;34m\u001b[0m\u001b[0m\n\u001b[0;32m----> 4\u001b[0;31m \u001b[0mr\u001b[0m \u001b[0;34m=\u001b[0m \u001b[0mParallel\u001b[0m\u001b[0;34m(\u001b[0m\u001b[0mn_jobs\u001b[0m\u001b[0;34m=\u001b[0m\u001b[0;36m7\u001b[0m\u001b[0;34m,\u001b[0m \u001b[0mverbose\u001b[0m\u001b[0;34m=\u001b[0m\u001b[0;36m40\u001b[0m\u001b[0;34m)\u001b[0m\u001b[0;34m(\u001b[0m\u001b[0mdelayed\u001b[0m\u001b[0;34m(\u001b[0m\u001b[0mQC_wmo\u001b[0m\u001b[0;34m)\u001b[0m\u001b[0;34m(\u001b[0m\u001b[0miwmo\u001b[0m\u001b[0;34m)\u001b[0m \u001b[0;32mfor\u001b[0m \u001b[0miwmo\u001b[0m \u001b[0;32min\u001b[0m \u001b[0mWMO_dac\u001b[0m\u001b[0;34m[\u001b[0m\u001b[0;34m:\u001b[0m\u001b[0;34m]\u001b[0m\u001b[0;34m)\u001b[0m\u001b[0;34m\u001b[0m\u001b[0;34m\u001b[0m\u001b[0m\n\u001b[0m\u001b[1;32m      5\u001b[0m \u001b[0;34m\u001b[0m\u001b[0m\n\u001b[1;32m      6\u001b[0m \u001b[0;31m# r = Parallel(n_jobs=8, verbose=10)(delayed(np.sqrt)(iwmo) for iwmo in range(10000))\u001b[0m\u001b[0;34m\u001b[0m\u001b[0;34m\u001b[0m\u001b[0;34m\u001b[0m\u001b[0m\n",
      "\u001b[0;32m~/miniconda3/envs/OLTraj/lib/python3.7/site-packages/joblib/parallel.py\u001b[0m in \u001b[0;36m__call__\u001b[0;34m(self, iterable)\u001b[0m\n\u001b[1;32m   1052\u001b[0m \u001b[0;34m\u001b[0m\u001b[0m\n\u001b[1;32m   1053\u001b[0m             \u001b[0;32mwith\u001b[0m \u001b[0mself\u001b[0m\u001b[0;34m.\u001b[0m\u001b[0m_backend\u001b[0m\u001b[0;34m.\u001b[0m\u001b[0mretrieval_context\u001b[0m\u001b[0;34m(\u001b[0m\u001b[0;34m)\u001b[0m\u001b[0;34m:\u001b[0m\u001b[0;34m\u001b[0m\u001b[0;34m\u001b[0m\u001b[0m\n\u001b[0;32m-> 1054\u001b[0;31m                 \u001b[0mself\u001b[0m\u001b[0;34m.\u001b[0m\u001b[0mretrieve\u001b[0m\u001b[0;34m(\u001b[0m\u001b[0;34m)\u001b[0m\u001b[0;34m\u001b[0m\u001b[0;34m\u001b[0m\u001b[0m\n\u001b[0m\u001b[1;32m   1055\u001b[0m             \u001b[0;31m# Make sure that we get a last message telling us we are done\u001b[0m\u001b[0;34m\u001b[0m\u001b[0;34m\u001b[0m\u001b[0;34m\u001b[0m\u001b[0m\n\u001b[1;32m   1056\u001b[0m             \u001b[0melapsed_time\u001b[0m \u001b[0;34m=\u001b[0m \u001b[0mtime\u001b[0m\u001b[0;34m.\u001b[0m\u001b[0mtime\u001b[0m\u001b[0;34m(\u001b[0m\u001b[0;34m)\u001b[0m \u001b[0;34m-\u001b[0m \u001b[0mself\u001b[0m\u001b[0;34m.\u001b[0m\u001b[0m_start_time\u001b[0m\u001b[0;34m\u001b[0m\u001b[0;34m\u001b[0m\u001b[0m\n",
      "\u001b[0;32m~/miniconda3/envs/OLTraj/lib/python3.7/site-packages/joblib/parallel.py\u001b[0m in \u001b[0;36mretrieve\u001b[0;34m(self)\u001b[0m\n\u001b[1;32m    931\u001b[0m             \u001b[0;32mtry\u001b[0m\u001b[0;34m:\u001b[0m\u001b[0;34m\u001b[0m\u001b[0;34m\u001b[0m\u001b[0m\n\u001b[1;32m    932\u001b[0m                 \u001b[0;32mif\u001b[0m \u001b[0mgetattr\u001b[0m\u001b[0;34m(\u001b[0m\u001b[0mself\u001b[0m\u001b[0;34m.\u001b[0m\u001b[0m_backend\u001b[0m\u001b[0;34m,\u001b[0m \u001b[0;34m'supports_timeout'\u001b[0m\u001b[0;34m,\u001b[0m \u001b[0;32mFalse\u001b[0m\u001b[0;34m)\u001b[0m\u001b[0;34m:\u001b[0m\u001b[0;34m\u001b[0m\u001b[0;34m\u001b[0m\u001b[0m\n\u001b[0;32m--> 933\u001b[0;31m                     \u001b[0mself\u001b[0m\u001b[0;34m.\u001b[0m\u001b[0m_output\u001b[0m\u001b[0;34m.\u001b[0m\u001b[0mextend\u001b[0m\u001b[0;34m(\u001b[0m\u001b[0mjob\u001b[0m\u001b[0;34m.\u001b[0m\u001b[0mget\u001b[0m\u001b[0;34m(\u001b[0m\u001b[0mtimeout\u001b[0m\u001b[0;34m=\u001b[0m\u001b[0mself\u001b[0m\u001b[0;34m.\u001b[0m\u001b[0mtimeout\u001b[0m\u001b[0;34m)\u001b[0m\u001b[0;34m)\u001b[0m\u001b[0;34m\u001b[0m\u001b[0;34m\u001b[0m\u001b[0m\n\u001b[0m\u001b[1;32m    934\u001b[0m                 \u001b[0;32melse\u001b[0m\u001b[0;34m:\u001b[0m\u001b[0;34m\u001b[0m\u001b[0;34m\u001b[0m\u001b[0m\n\u001b[1;32m    935\u001b[0m                     \u001b[0mself\u001b[0m\u001b[0;34m.\u001b[0m\u001b[0m_output\u001b[0m\u001b[0;34m.\u001b[0m\u001b[0mextend\u001b[0m\u001b[0;34m(\u001b[0m\u001b[0mjob\u001b[0m\u001b[0;34m.\u001b[0m\u001b[0mget\u001b[0m\u001b[0;34m(\u001b[0m\u001b[0;34m)\u001b[0m\u001b[0;34m)\u001b[0m\u001b[0;34m\u001b[0m\u001b[0;34m\u001b[0m\u001b[0m\n",
      "\u001b[0;32m~/miniconda3/envs/OLTraj/lib/python3.7/site-packages/joblib/_parallel_backends.py\u001b[0m in \u001b[0;36mwrap_future_result\u001b[0;34m(future, timeout)\u001b[0m\n\u001b[1;32m    540\u001b[0m         AsyncResults.get from multiprocessing.\"\"\"\n\u001b[1;32m    541\u001b[0m         \u001b[0;32mtry\u001b[0m\u001b[0;34m:\u001b[0m\u001b[0;34m\u001b[0m\u001b[0;34m\u001b[0m\u001b[0m\n\u001b[0;32m--> 542\u001b[0;31m             \u001b[0;32mreturn\u001b[0m \u001b[0mfuture\u001b[0m\u001b[0;34m.\u001b[0m\u001b[0mresult\u001b[0m\u001b[0;34m(\u001b[0m\u001b[0mtimeout\u001b[0m\u001b[0;34m=\u001b[0m\u001b[0mtimeout\u001b[0m\u001b[0;34m)\u001b[0m\u001b[0;34m\u001b[0m\u001b[0;34m\u001b[0m\u001b[0m\n\u001b[0m\u001b[1;32m    543\u001b[0m         \u001b[0;32mexcept\u001b[0m \u001b[0mCfTimeoutError\u001b[0m \u001b[0;32mas\u001b[0m \u001b[0me\u001b[0m\u001b[0;34m:\u001b[0m\u001b[0;34m\u001b[0m\u001b[0;34m\u001b[0m\u001b[0m\n\u001b[1;32m    544\u001b[0m             \u001b[0;32mraise\u001b[0m \u001b[0mTimeoutError\u001b[0m \u001b[0;32mfrom\u001b[0m \u001b[0me\u001b[0m\u001b[0;34m\u001b[0m\u001b[0;34m\u001b[0m\u001b[0m\n",
      "\u001b[0;32m~/miniconda3/envs/OLTraj/lib/python3.7/concurrent/futures/_base.py\u001b[0m in \u001b[0;36mresult\u001b[0;34m(self, timeout)\u001b[0m\n\u001b[1;32m    423\u001b[0m                 \u001b[0;32mraise\u001b[0m \u001b[0mCancelledError\u001b[0m\u001b[0;34m(\u001b[0m\u001b[0;34m)\u001b[0m\u001b[0;34m\u001b[0m\u001b[0;34m\u001b[0m\u001b[0m\n\u001b[1;32m    424\u001b[0m             \u001b[0;32melif\u001b[0m \u001b[0mself\u001b[0m\u001b[0;34m.\u001b[0m\u001b[0m_state\u001b[0m \u001b[0;34m==\u001b[0m \u001b[0mFINISHED\u001b[0m\u001b[0;34m:\u001b[0m\u001b[0;34m\u001b[0m\u001b[0;34m\u001b[0m\u001b[0m\n\u001b[0;32m--> 425\u001b[0;31m                 \u001b[0;32mreturn\u001b[0m \u001b[0mself\u001b[0m\u001b[0;34m.\u001b[0m\u001b[0m__get_result\u001b[0m\u001b[0;34m(\u001b[0m\u001b[0;34m)\u001b[0m\u001b[0;34m\u001b[0m\u001b[0;34m\u001b[0m\u001b[0m\n\u001b[0m\u001b[1;32m    426\u001b[0m \u001b[0;34m\u001b[0m\u001b[0m\n\u001b[1;32m    427\u001b[0m             \u001b[0mself\u001b[0m\u001b[0;34m.\u001b[0m\u001b[0m_condition\u001b[0m\u001b[0;34m.\u001b[0m\u001b[0mwait\u001b[0m\u001b[0;34m(\u001b[0m\u001b[0mtimeout\u001b[0m\u001b[0;34m)\u001b[0m\u001b[0;34m\u001b[0m\u001b[0;34m\u001b[0m\u001b[0m\n",
      "\u001b[0;32m~/miniconda3/envs/OLTraj/lib/python3.7/concurrent/futures/_base.py\u001b[0m in \u001b[0;36m__get_result\u001b[0;34m(self)\u001b[0m\n\u001b[1;32m    382\u001b[0m     \u001b[0;32mdef\u001b[0m \u001b[0m__get_result\u001b[0m\u001b[0;34m(\u001b[0m\u001b[0mself\u001b[0m\u001b[0;34m)\u001b[0m\u001b[0;34m:\u001b[0m\u001b[0;34m\u001b[0m\u001b[0;34m\u001b[0m\u001b[0m\n\u001b[1;32m    383\u001b[0m         \u001b[0;32mif\u001b[0m \u001b[0mself\u001b[0m\u001b[0;34m.\u001b[0m\u001b[0m_exception\u001b[0m\u001b[0;34m:\u001b[0m\u001b[0;34m\u001b[0m\u001b[0;34m\u001b[0m\u001b[0m\n\u001b[0;32m--> 384\u001b[0;31m             \u001b[0;32mraise\u001b[0m \u001b[0mself\u001b[0m\u001b[0;34m.\u001b[0m\u001b[0m_exception\u001b[0m\u001b[0;34m\u001b[0m\u001b[0;34m\u001b[0m\u001b[0m\n\u001b[0m\u001b[1;32m    385\u001b[0m         \u001b[0;32melse\u001b[0m\u001b[0;34m:\u001b[0m\u001b[0;34m\u001b[0m\u001b[0;34m\u001b[0m\u001b[0m\n\u001b[1;32m    386\u001b[0m             \u001b[0;32mreturn\u001b[0m \u001b[0mself\u001b[0m\u001b[0;34m.\u001b[0m\u001b[0m_result\u001b[0m\u001b[0;34m\u001b[0m\u001b[0;34m\u001b[0m\u001b[0m\n",
      "\u001b[0;31mValueError\u001b[0m: The truth value of an array with more than one element is ambiguous. Use a.any() or a.all()"
     ]
    }
   ],
   "source": [
    "# for iwmo in WMO_dac[0:1]:\n",
    "#     QC_wmo(iwmo)\n",
    "from joblib import delayed, Parallel\n",
    "r = Parallel(n_jobs=7, verbose=40)(delayed(QC_wmo)(iwmo) for iwmo in WMO_dac[:])\n",
    "\n",
    "# r = Parallel(n_jobs=8, verbose=10)(delayed(np.sqrt)(iwmo) for iwmo in range(10000))\n",
    "\n"
   ]
  },
  {
   "cell_type": "code",
   "execution_count": null,
   "metadata": {},
   "outputs": [],
   "source": []
  },
  {
   "cell_type": "code",
   "execution_count": null,
   "metadata": {},
   "outputs": [],
   "source": []
  },
  {
   "cell_type": "code",
   "execution_count": null,
   "metadata": {},
   "outputs": [],
   "source": []
  },
  {
   "cell_type": "code",
   "execution_count": null,
   "metadata": {},
   "outputs": [],
   "source": []
  },
  {
   "cell_type": "code",
   "execution_count": null,
   "metadata": {},
   "outputs": [],
   "source": []
  },
  {
   "cell_type": "code",
   "execution_count": null,
   "metadata": {
    "scrolled": true
   },
   "outputs": [],
   "source": [
    "# find all pickled results\n",
    "fn_pkl = glob.glob(\"plots/*/*pkl\")\n",
    "\n",
    "all_PRES = []\n",
    "all_BBP700 = []\n",
    "all_BBP700_QC_flag = []\n",
    "all_BBP700_1st_fail = []\n",
    "\n",
    "for fn in fn_pkl:\n",
    "    print(fn)\n",
    "    infile = open(fn,'rb')\n",
    "    [tmp_PRES, tmp_BBP700, tmp_BBP700_QC_flag, tmp_BBP700_1st_fail] = pickle.load(infile)\n",
    "    infile.close()\n",
    "    \n",
    "    innan = np.where(~np.isnan(tmp_PRES))[0]\n",
    "    all_PRES.extend(np.asarray(tmp_PRES)[innan])\n",
    "    all_BBP700.extend(np.asarray(tmp_BBP700)[innan])\n",
    "    all_BBP700_QC_flag.extend(np.asarray(tmp_BBP700_QC_flag)[innan])\n",
    "    all_BBP700_1st_fail.extend(np.asarray(tmp_BBP700_1st_fail)[innan])\n"
   ]
  },
  {
   "cell_type": "code",
   "execution_count": null,
   "metadata": {},
   "outputs": [],
   "source": [
    "[ len(tmp_PRES), len(tmp_BBP700), len (tmp_BBP700_QC_flag), len(tmp_BBP700_1st_fail) ] "
   ]
  },
  {
   "cell_type": "code",
   "execution_count": null,
   "metadata": {
    "code_folding": [],
    "scrolled": false
   },
   "outputs": [],
   "source": [
    "iQCge3 = np.where(np.asarray(all_BBP700_QC_flag)>=3)[0]\n",
    "iQCle2 = np.where(np.asarray(all_BBP700_QC_flag)<=2)[0]\n",
    "# find indices of flagged points\n",
    "iA = np.where(np.asarray(all_BBP700_1st_fail)[iQCge3]=='A')[0] # global range\n",
    "iB = np.where(np.asarray(all_BBP700_1st_fail)[iQCge3]=='B')[0] # noisy\n",
    "iC = np.where(np.asarray(all_BBP700_1st_fail)[iQCge3]=='C')[0] # high deep values\n",
    "iD = np.where(np.asarray(all_BBP700_1st_fail)[iQCge3]=='D')[0] # surface hook \n",
    "iE = np.where(np.asarray(all_BBP700_1st_fail)[iQCge3]=='E')[0] # missing values\n",
    "iF = np.where(np.asarray(all_BBP700_1st_fail)[iQCge3]=='F')[0] # missing values\n",
    "\n",
    "iall = np.where( (np.asarray(all_BBP700_1st_fail)!='A') & \n",
    "                 (np.asarray(all_BBP700_1st_fail)!='B') &\n",
    "                 (np.asarray(all_BBP700_1st_fail)!='C') &\n",
    "                 (np.asarray(all_BBP700_1st_fail)!='D') &\n",
    "                 (np.asarray(all_BBP700_1st_fail)!='E') &\n",
    "                 (np.asarray(all_BBP700_1st_fail)!='F'))[0]\n",
    "\n",
    "itot = np.asarray(all_BBP700).size\n",
    "print(len(iA)/itot, len(iB)/itot, len(iC)/itot, len(iD)/itot, len(iE)/itot, len(iF)/itot, (itot - len(iQCge3))/itot, len(iall)/itot)\n",
    "\n"
   ]
  },
  {
   "cell_type": "code",
   "execution_count": null,
   "metadata": {},
   "outputs": [],
   "source": [
    "print(len(iA)/itot, len(iB)/itot, len(iC)/itot, len(iD)/itot, len(iE)/itot, len(iF)/itot, (itot - len(iQCge3))/itot, len(iQCle2)/itot)\n",
    "print([len(all_BBP700_QC_flag), len(all_BBP700_1st_fail)])"
   ]
  },
  {
   "cell_type": "code",
   "execution_count": null,
   "metadata": {},
   "outputs": [],
   "source": [
    "# iN = 1\n",
    "# isurf = np.where((np.array(all_PRES)[iQCle2][::iN]<5) & (np.array(all_BBP700)[iQCle2][::iN]<0))\n"
   ]
  },
  {
   "cell_type": "code",
   "execution_count": null,
   "metadata": {
    "code_folding": [],
    "scrolled": false
   },
   "outputs": [],
   "source": [
    "# %matplotlib widget\n",
    "iN = 1#int(iall.size/3.) # step size to make plotting faster\n",
    "fig = plt.figure(figsize=(20,10))\n",
    "xmin = 0.0001\n",
    "xmax = 0.1\n",
    "xoff = 0.0003\n",
    "ax1 = fig.add_subplot(1,2,1)\n",
    "ax1.plot(np.array(all_BBP700)[:][::iN] + xoff, np.array(all_PRES)[:][::iN], 'ro', ms=3, mfc='r', alpha=0.3)\n",
    "ax1.plot(np.array(all_BBP700)[iQCle2][::iN] + xoff, np.array(all_PRES)[iQCle2][::iN], 'ko', ms=3, alpha=0.03)\n",
    "ax1.plot((xoff, xoff), (-50, 2000), 'k--')\n",
    "ax1.set_ylim([-50, 2000])\n",
    "# ax1.set_xlim([-0.0003, 0.1])\n",
    "ax1.set_xlim([xmin, xmax])\n",
    "ax1.invert_yaxis()\n",
    "ax1.set_xscale('log')\n",
    "ax1.set_xlabel('BBP700 [m'+'$^{-1}$'+']', fontweight='bold')\n",
    "ax1.set_ylabel('PRES [dbars]', fontweight='bold')\n",
    "xts = list(np.asarray([0, 1e-3, 1e-2, 1e-1])+xoff)\n",
    "xtklbls = ('0',  '10'+'$^{-3}$', '10'+'$^{-2}$', '10'+'$^{-1}$')\n",
    "plt.xticks(xts, xtklbls)\n",
    "plt.rcParams.update({'font.size': 20})\n",
    "\n",
    "\n",
    "gc.collect()\n",
    "    "
   ]
  },
  {
   "cell_type": "code",
   "execution_count": null,
   "metadata": {
    "code_folding": [
     0
    ],
    "scrolled": false
   },
   "outputs": [],
   "source": [
    "def plot_iQC(x1, x2, y1, y2):\n",
    "\n",
    "\n",
    "    # %matplotlib widget\n",
    "    fig = plt.figure(figsize=(20,10))\n",
    "    xmin = 0.0001\n",
    "    xmax = 0.1\n",
    "    xoff = 0.0003\n",
    "    ax1 = fig.add_subplot(1,2,1)\n",
    "\n",
    "    ax1.plot(x1 + xoff, y1, 'o', ms=3, alpha=0.03, color='b')\n",
    "    ax1.plot(x2 + xoff, y2, 'ro', ms=3, alpha=0.1)\n",
    "\n",
    "    ax1.plot((xoff, xoff), (-50, 2000), 'k--')\n",
    "\n",
    "    ax1.set_ylim([-50, 2000])\n",
    "    # ax1.set_xlim([-0.0003, 0.1])\n",
    "    ax1.set_xlim([xmin, xmax])\n",
    "    ax1.invert_yaxis()\n",
    "    ax1.set_xscale('log')\n",
    "    ax1.set_xlabel('BBP700 [m'+'$^{-1}$'+']', fontweight='bold')\n",
    "    ax1.set_ylabel('PRES [dbars]', fontweight='bold')\n",
    "    xts = list(np.asarray([0, 1e-3, 1e-2, 1e-1]) + xoff)\n",
    "    xtklbls = ('0',  '10'+'$^{-3}$', '10'+'$^{-2}$', '10'+'$^{-1}$')\n",
    "    plt.xticks(xts, xtklbls)\n",
    "    plt.rcParams.update({'font.size': 20})\n",
    "\n",
    "    gc.collect()\n"
   ]
  },
  {
   "cell_type": "code",
   "execution_count": null,
   "metadata": {},
   "outputs": [],
   "source": [
    "# plots results for Global range test (A)\n",
    "iN = 1\n",
    "x1 = np.array(all_BBP700)[:][::iN]\n",
    "x2 = np.array(all_BBP700)[iQCge3][iA][::]\n",
    "y1 = np.array(all_PRES)[:][::iN]\n",
    "y2 = np.array(all_PRES)[iQCge3][iA][::]\n",
    "plot_iQC(x1, x2, y1, y2)"
   ]
  },
  {
   "cell_type": "code",
   "execution_count": null,
   "metadata": {},
   "outputs": [],
   "source": [
    "# plots results for test (B)\n",
    "# x1 = np.array(all_BBP700)[:][::iN]\n",
    "x2 = np.array(all_BBP700)[iQCge3][iB][::]\n",
    "# y1 = np.array(all_PRES)[:][::iN]\n",
    "y2 = np.array(all_PRES)[iQCge3][iB][::]\n",
    "plot_iQC(x1, x2, y1, y2)"
   ]
  },
  {
   "cell_type": "code",
   "execution_count": null,
   "metadata": {
    "scrolled": false
   },
   "outputs": [],
   "source": [
    "# plots results for test (C)\n",
    "# x1 = np.array(all_BBP700)[:][::iN]\n",
    "x2 = np.array(all_BBP700)[iQCge3][iC][::]\n",
    "# y1 = np.array(all_PRES)[:][::iN]\n",
    "y2 = np.array(all_PRES)[iQCge3][iC][::]\n",
    "plot_iQC(x1, x2, y1, y2)"
   ]
  },
  {
   "cell_type": "code",
   "execution_count": null,
   "metadata": {
    "scrolled": false
   },
   "outputs": [],
   "source": [
    "# plots results for test (D)\n",
    "# x1 = np.array(all_BBP700)[:][::iN]\n",
    "x2 = np.array(all_BBP700)[iQCge3][iD][::]\n",
    "# y1 = np.array(all_PRES)[:][::iN]\n",
    "y2 = np.array(all_PRES)[iQCge3][iD][::]\n",
    "plot_iQC(x1, x2, y1, y2)"
   ]
  },
  {
   "cell_type": "code",
   "execution_count": null,
   "metadata": {
    "scrolled": false
   },
   "outputs": [],
   "source": [
    "# plots results for test (E)\n",
    "# x1 = np.array(all_BBP700)[:][::iN]\n",
    "x2 = np.array(all_BBP700)[iQCge3][iE][::]\n",
    "# y1 = np.array(all_PRES)[:][::iN]\n",
    "y2 = np.array(all_PRES)[iQCge3][iE][::]\n",
    "plot_iQC(x1, x2, y1, y2)"
   ]
  },
  {
   "cell_type": "code",
   "execution_count": null,
   "metadata": {},
   "outputs": [],
   "source": [
    "# plots results for test (F)\n",
    "# x1 = np.array(all_BBP700)[:][::iN]\n",
    "x2 = np.array(all_BBP700)[iQCge3][iF][::]\n",
    "# y1 = np.array(all_PRES)[:][::iN]\n",
    "y2 = np.array(all_PRES)[iQCge3][iF][::]\n",
    "plot_iQC(x1, x2, y1, y2)"
   ]
  },
  {
   "cell_type": "code",
   "execution_count": null,
   "metadata": {},
   "outputs": [],
   "source": []
  },
  {
   "cell_type": "code",
   "execution_count": null,
   "metadata": {},
   "outputs": [],
   "source": [
    "# del all_PRES, all_BBP700, all_BBP700_QC_flag, all_BBP700_1st_fail"
   ]
  },
  {
   "cell_type": "code",
   "execution_count": null,
   "metadata": {
    "scrolled": false
   },
   "outputs": [],
   "source": [
    "# %matplotlib widget\n",
    "iN = 1#int(iall.size/3.) # step size to make plotting faster\n",
    "fig = plt.figure(figsize=(20,10))\n",
    "xmin = 0.0002\n",
    "xmax = 0.1\n",
    "xoff = 0.0003\n",
    "ax1 = fig.add_subplot(1,2,1)\n",
    "ax1.plot(np.array(all_BBP700)[iQCle2][::iN]+xoff, np.array(all_PRES)[iQCle2][::iN], 'ko', ms=3, alpha=0.2)\n",
    "ax1.plot((xoff, xoff), (-50, 2000), 'k--')\n",
    "ax1.set_ylim([-5, 2000])\n",
    "\n",
    "ax1.set_xlim([xmin, xmax])\n",
    "ax1.invert_yaxis()\n",
    "ax1.set_xscale('log')\n",
    "ax1.set_xlabel('BBP700 [m'+'$^{-1}$'+']', fontweight='bold')\n",
    "ax1.set_ylabel('PRES [dbars]', fontweight='bold')\n",
    "xts = list(np.asarray([0, 1e-4, 1e-3, 1e-2]) + xoff)\n",
    "xtklbls = ('0',  '10'+'$^{-4}$', '10'+'$^{-3}$', '10'+'$^{-2}$')\n",
    "plt.xticks(xts, xtklbls)\n",
    "plt.rcParams.update({'font.size': 20})\n",
    "\n",
    "\n",
    "gc.collect()\n",
    "    "
   ]
  },
  {
   "cell_type": "code",
   "execution_count": null,
   "metadata": {},
   "outputs": [],
   "source": []
  }
 ],
 "metadata": {
  "kernelspec": {
   "display_name": "Python 3",
   "language": "python",
   "name": "python3"
  },
  "language_info": {
   "codemirror_mode": {
    "name": "ipython",
    "version": 3
   },
   "file_extension": ".py",
   "mimetype": "text/x-python",
   "name": "python",
   "nbconvert_exporter": "python",
   "pygments_lexer": "ipython3",
   "version": "3.7.3"
  }
 },
 "nbformat": 4,
 "nbformat_minor": 4
}
