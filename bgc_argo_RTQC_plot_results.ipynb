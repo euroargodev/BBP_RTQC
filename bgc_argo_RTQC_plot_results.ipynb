{
 "cells": [
  {
   "cell_type": "code",
   "execution_count": 1,
   "metadata": {},
   "outputs": [
    {
     "data": {
      "text/html": [
       "<style>.container { width:100% !important; }</style>"
      ],
      "text/plain": [
       "<IPython.core.display.HTML object>"
      ]
     },
     "metadata": {},
     "output_type": "display_data"
    }
   ],
   "source": [
    "# this is to make the Jupyter notebook as wide as the screen (on the Mac at least)\n",
    "from IPython.core.display import display, HTML\n",
    "display(HTML(\"<style>.container { width:100% !important; }</style>\"))\n",
    "%config InlineBackend.figure_format ='retina'"
   ]
  },
  {
   "cell_type": "code",
   "execution_count": 2,
   "metadata": {},
   "outputs": [],
   "source": [
    "import glob\n",
    "import pickle\n",
    "import numpy as np\n",
    "import matplotlib.pyplot as plt\n",
    "import gc\n",
    "\n",
    "import pandas as pd"
   ]
  },
  {
   "cell_type": "code",
   "execution_count": 3,
   "metadata": {},
   "outputs": [],
   "source": [
    "def robstd(x):\n",
    "    return (np.nanpercentile(x,84) - np.nanpercentile(x,16))/2."
   ]
  },
  {
   "cell_type": "code",
   "execution_count": 4,
   "metadata": {},
   "outputs": [],
   "source": [
    "# these are the tests and their codes\n",
    "tests = {\"A\": \"Global Range\",\n",
    "         \"B\": \"Noisy Profile\",\n",
    "         \"C\": \"High-Deep Value\",\n",
    "         \"D\": \"Surface Hook\", \n",
    "         \"E\": \"Missing Data\",\n",
    "         \"F\": \"Negative non-surface\",\n",
    "         \"G\": \"Parking Hook\"      \n",
    "        }"
   ]
  },
  {
   "cell_type": "code",
   "execution_count": 5,
   "metadata": {},
   "outputs": [
    {
     "name": "stdout",
     "output_type": "stream",
     "text": [
      "plots/5903593/aoml_BD5903593.pkl\n",
      "plots/5903274/aoml_BD5903274.pkl\n",
      "plots/5903711/aoml_BD5903711.pkl\n",
      "plots/5903586/aoml_BD5903586.pkl\n",
      "plots/5903592/aoml_BD5903592.pkl\n",
      "plots/1902303/aoml_BR1902303.pkl\n",
      "plots/5903612/aoml_BD5903612.pkl\n",
      "plots/1902304/aoml_BR1902304.pkl\n",
      "plots/5903714/aoml_BD5903714.pkl\n",
      "plots/5903717/aoml_BD5903717.pkl\n",
      "plots/4903365/aoml_BR4903365.pkl\n"
     ]
    }
   ],
   "source": [
    "# find all pickled results\n",
    "fn_pkl = glob.glob(\"plots/*/*pkl\")\n",
    "\n",
    "all_PROFS = []\n",
    "for fn in fn_pkl:\n",
    "    print(fn)\n",
    "    infile = open(fn,'rb')\n",
    "    tmp_all_PROFS = pickle.load(infile)\n",
    "    infile.close()\n",
    "    \n",
    "    all_PROFS.extend(tmp_all_PROFS)\n"
   ]
  },
  {
   "cell_type": "code",
   "execution_count": 6,
   "metadata": {},
   "outputs": [
    {
     "ename": "SyntaxError",
     "evalue": "invalid syntax (<ipython-input-6-9086b0ca887e>, line 4)",
     "output_type": "error",
     "traceback": [
      "\u001b[0;36m  File \u001b[0;32m\"<ipython-input-6-9086b0ca887e>\"\u001b[0;36m, line \u001b[0;32m4\u001b[0m\n\u001b[0;31m    all_PRES = np.asarray(np.hstack(a)))\u001b[0m\n\u001b[0m                                       ^\u001b[0m\n\u001b[0;31mSyntaxError\u001b[0m\u001b[0;31m:\u001b[0m invalid syntax\n"
     ]
    }
   ],
   "source": [
    "# extract all profiles from list of dictionaries (https://stackoverflow.com/questions/7271482/getting-a-list-of-values-from-a-list-of-dicts) \n",
    "\n",
    "a = [d.get(\"PRES\", \"NaN\") for d in all_PROFS if 'PRES' in d]\n",
    "all_PRES = np.asarray(np.hstack(a)))\n",
    "\n",
    "a = [d.get(\"BBP700\", \"NaN\") for d in all_PROFS if 'BBP700' in d]\n",
    "all_BBP700 = np.asarray(np.hstack(a))\n",
    "\n",
    "a = [d.get(\"BBP700_QC_flag\", \"NaN\") for d in all_PROFS if 'BBP700_QC_flag' in d]\n",
    "all_BBP700_QC_flag = np.asarray(np.hstack(a))\n",
    "\n",
    "a = [d.get(\"BBP700_QC_1st_failed_test\", \"NaN\") for d in all_PROFS if 'BBP700_QC_1st_failed_test' in d]\n",
    "all_BBP700_1st_fail = np.asarray(np.hstack(a))\n",
    "\n"
   ]
  },
  {
   "cell_type": "code",
   "execution_count": null,
   "metadata": {
    "scrolled": true
   },
   "outputs": [],
   "source": [
    "all_WMO = [];\n",
    "all_LAT = [];\n",
    "all_LON = [];\n",
    "iprof = 0\n",
    "iTotNoProf = 0\n",
    "for prof in all_PROFS:\n",
    "    if \"iWMO\" in prof: # this is the last record of this float\n",
    "        all_WMO.extend([ prof['iWMO'] ]*iprof)\n",
    "        iprof = 0\n",
    "    else:\n",
    "        all_LAT.extend([ prof['LAT'] ]*len(prof['PRES']))\n",
    "        all_LON.extend([ prof['LON'] ]*len(prof['PRES']))\n",
    "        iprof = iprof + len(prof['PRES']) # this is to count how many BBP values there are for each profile\n",
    "\n",
    "all_WMO = np.asarray(all_WMO)   \n",
    "all_LAT = np.asarray(all_LAT) \n",
    "all_LON = np.asarray(all_LON) "
   ]
  },
  {
   "cell_type": "code",
   "execution_count": null,
   "metadata": {},
   "outputs": [],
   "source": [
    "# extract some stats\n",
    "TotNoFloats = np.unique(all_WMO).shape[0]\n",
    "TotNoProfiles = np.unique(all_LAT).shape[0]"
   ]
  },
  {
   "cell_type": "code",
   "execution_count": null,
   "metadata": {},
   "outputs": [],
   "source": [
    "# extract float parameters and create arrays that match the profile lengths\n",
    "\n",
    "# for iprof,tmp  in enumerate(all_PROFS):\n",
    "#     print(tmp.keys())\n",
    "\n"
   ]
  },
  {
   "cell_type": "code",
   "execution_count": null,
   "metadata": {},
   "outputs": [],
   "source": [
    "iQCge3 = np.where(all_BBP700_QC_flag>=3)[0]\n",
    "iQCle2 = np.where(all_BBP700_QC_flag<=2)[0]\n",
    "# find indices of flagged points\n",
    "iA = np.where(all_BBP700_1st_fail[iQCge3]=='A')[0] # global range\n",
    "iB = np.where(all_BBP700_1st_fail[iQCge3]=='B')[0] # Noisy\n",
    "iC = np.where(all_BBP700_1st_fail[iQCge3]=='C')[0] # High deep values\n",
    "iD = np.where(all_BBP700_1st_fail[iQCge3]=='D')[0] # Surface hook \n",
    "iE = np.where(all_BBP700_1st_fail[iQCge3]=='E')[0] # Missing values\n",
    "iF = np.where(all_BBP700_1st_fail[iQCge3]=='F')[0] # Negative non-surface\n",
    "iG = np.where(all_BBP700_1st_fail[iQCge3]=='G')[0] # Parking hook\n",
    "\n",
    "iall = np.where( (all_BBP700_1st_fail!='A') & \n",
    "                 (all_BBP700_1st_fail!='B') &\n",
    "                 (all_BBP700_1st_fail!='C') &\n",
    "                 (all_BBP700_1st_fail!='D') &\n",
    "                 (all_BBP700_1st_fail!='E') &\n",
    "                 (all_BBP700_1st_fail!='F') &\n",
    "                 (all_BBP700_1st_fail!='G')\n",
    "                )[0]\n",
    "\n",
    "itot = all_BBP700.size\n",
    "\n"
   ]
  },
  {
   "cell_type": "code",
   "execution_count": null,
   "metadata": {},
   "outputs": [],
   "source": []
  },
  {
   "cell_type": "code",
   "execution_count": null,
   "metadata": {},
   "outputs": [],
   "source": [
    "# print(len(iA)/itot, len(iB)/itot, len(iC)/itot, len(iD)/itot, len(iE)/itot, len(iF)/itot, len(iG)/itot, (itot - len(iQCge3))/itot, len(iQCle2)/itot)\n",
    "# print([len(all_BBP700_QC_flag), len(all_BBP700_1st_fail)])\n",
    "from tabulate import tabulate\n",
    "print(tabulate([\n",
    "                [tests['A'], len(iA)/itot*100], \n",
    "                [tests['B'], len(iB)/itot*100], \n",
    "                [tests['C'], len(iC)/itot*100], \n",
    "                [tests['D'], len(iD)/itot*100], \n",
    "                [tests['E'], len(iE)/itot*100], \n",
    "                [tests['F'], len(iF)/itot*100], \n",
    "                [tests['G'], len(iG)/itot*100 ],\n",
    "                ['-------------', ],\n",
    "                ['Tot no of records', itot ],\n",
    "                ['Tot no of profiles', TotNoProfiles ],\n",
    "                ['Tot no of floats', TotNoFloats ],\n",
    "                ], \n",
    "                headers=['Test', '%failure']\n",
    "                ))"
   ]
  },
  {
   "cell_type": "code",
   "execution_count": null,
   "metadata": {},
   "outputs": [],
   "source": [
    "# %matplotlib widget\n",
    "iN = 1#int(iall.size/3.) # step size to make plotting faster\n",
    "fig = plt.figure(figsize=(20,10))\n",
    "xmin = 0.0001\n",
    "xmax = 0.1\n",
    "xoff = 0.0003\n",
    "ax1 = fig.add_subplot(1,2,1)\n",
    "ax1.plot(all_BBP700[:][::iN] + xoff, all_PRES[:][::iN], 'ro', ms=3, mfc='r', alpha=0.3)\n",
    "ax1.plot(all_BBP700[iQCle2][::iN] + xoff, all_PRES[iQCle2][::iN], 'ko', ms=3, alpha=0.03)\n",
    "ax1.plot((xoff, xoff), (-50, 2000), 'k--')\n",
    "ax1.set_ylim([-50, 2000])\n",
    "# ax1.set_xlim([-0.0003, 0.1])\n",
    "ax1.set_xlim([xmin, xmax])\n",
    "ax1.invert_yaxis()\n",
    "ax1.set_xscale('log')\n",
    "ax1.set_xlabel('BBP700 [m'+'$^{-1}$'+']', fontweight='bold')\n",
    "ax1.set_ylabel('PRES [dbars]', fontweight='bold')\n",
    "xts = list(np.asarray([0, 1e-3, 1e-2, 1e-1])+xoff)\n",
    "xtklbls = ('0',  '10'+'$^{-3}$', '10'+'$^{-2}$', '10'+'$^{-1}$')\n",
    "plt.xticks(xts, xtklbls)\n",
    "plt.rcParams.update({'font.size': 20})\n",
    "\n",
    "\n",
    "gc.collect()\n",
    "    "
   ]
  },
  {
   "cell_type": "code",
   "execution_count": null,
   "metadata": {
    "code_folding": []
   },
   "outputs": [],
   "source": [
    "def plot_iQC(x1, x2, y1, y2, test):\n",
    "\n",
    "\n",
    "    # %matplotlib widget\n",
    "    fig = plt.figure(figsize=(20,10))\n",
    "    xmin = 0.0001\n",
    "    xmax = 0.1\n",
    "    xoff = 0.0003\n",
    "    ax1 = fig.add_subplot(1,2,1)\n",
    "\n",
    "    ax1.plot(x1 + xoff, y1, 'o', ms=3, alpha=0.03, color='b')\n",
    "    ax1.plot(x2 + xoff, y2, 'ro', ms=3, alpha=0.4)\n",
    "\n",
    "    ax1.plot((xoff, xoff), (-50, 2000), 'k--')\n",
    "\n",
    "    ax1.set_ylim([-50, 2000])\n",
    "    # ax1.set_xlim([-0.0003, 0.1])\n",
    "    ax1.set_xlim([xmin, xmax])\n",
    "    ax1.invert_yaxis()\n",
    "    ax1.set_xscale('log')\n",
    "    ax1.set_xlabel('BBP700 [m'+'$^{-1}$'+']', fontweight='bold')\n",
    "    ax1.set_ylabel('PRES [dbars]', fontweight='bold')\n",
    "    xts = list(np.asarray([0, 1e-3, 1e-2, 1e-1]) + xoff)\n",
    "    xtklbls = ('0',  '10'+'$^{-3}$', '10'+'$^{-2}$', '10'+'$^{-1}$')\n",
    "    plt.xticks(xts, xtklbls)\n",
    "    plt.rcParams.update({'font.size': 20})\n",
    "    plt.title(test)\n",
    "    gc.collect()\n"
   ]
  },
  {
   "cell_type": "code",
   "execution_count": null,
   "metadata": {},
   "outputs": [],
   "source": [
    "# plots results for Global range test (A)\n",
    "iN = 1\n",
    "x1 = all_BBP700[:][::iN]\n",
    "x2 = all_BBP700[iQCge3][iA][::]\n",
    "y1 = all_PRES[:][::iN]\n",
    "y2 = all_PRES[iQCge3][iA][::]\n",
    "plot_iQC(x1, x2, y1, y2, tests['A'])"
   ]
  },
  {
   "cell_type": "code",
   "execution_count": null,
   "metadata": {},
   "outputs": [],
   "source": [
    "# plots results for test (B)\n",
    "# x1 = np.array(all_BBP700)[:][::iN]\n",
    "x2 = all_BBP700[iQCge3][iB][::]\n",
    "# y1 = np.array(all_PRES)[:][::iN]\n",
    "y2 = all_PRES[iQCge3][iB][::]\n",
    "plot_iQC(x1, x2, y1, y2, tests['B'])"
   ]
  },
  {
   "cell_type": "code",
   "execution_count": null,
   "metadata": {},
   "outputs": [],
   "source": [
    "# plots results for test (C)\n",
    "# x1 = np.array(all_BBP700)[:][::iN]\n",
    "x2 = all_BBP700[iQCge3][iC][::]\n",
    "# y1 = np.array(all_PRES)[:][::iN]\n",
    "y2 = all_PRES[iQCge3][iC][::]\n",
    "plot_iQC(x1, x2, y1, y2, tests['C'])"
   ]
  },
  {
   "cell_type": "code",
   "execution_count": null,
   "metadata": {},
   "outputs": [],
   "source": []
  },
  {
   "cell_type": "code",
   "execution_count": null,
   "metadata": {},
   "outputs": [],
   "source": []
  },
  {
   "cell_type": "code",
   "execution_count": null,
   "metadata": {},
   "outputs": [],
   "source": [
    "# plots results for test (D)\n",
    "# x1 = np.array(all_BBP700)[:][::iN]\n",
    "x2 = all_BBP700[iQCge3][iD][::]\n",
    "# y1 = np.array(all_PRES)[:][::iN]\n",
    "y2 = all_PRES[iQCge3][iD][::]\n",
    "plot_iQC(x1, x2, y1, y2, tests['D'])"
   ]
  },
  {
   "cell_type": "code",
   "execution_count": null,
   "metadata": {},
   "outputs": [],
   "source": [
    "# plots results for test (E)\n",
    "# x1 = np.array(all_BBP700)[:][::iN]\n",
    "x2 = all_BBP700[iQCge3][iE][::]\n",
    "# y1 = np.array(all_PRES)[:][::iN]\n",
    "y2 = all_PRES[iQCge3][iE][::]\n",
    "plot_iQC(x1, x2, y1, y2, tests['E'])"
   ]
  },
  {
   "cell_type": "code",
   "execution_count": null,
   "metadata": {},
   "outputs": [],
   "source": [
    "# plots results for test (F)\n",
    "# x1 = np.array(all_BBP700)[:][::iN]\n",
    "x2 = all_BBP700[iQCge3][iF][::]\n",
    "# y1 = np.array(all_PRES)[:][::iN]\n",
    "y2 = all_PRES[iQCge3][iF][::]\n",
    "plot_iQC(x1, x2, y1, y2, tests['F'])"
   ]
  },
  {
   "cell_type": "code",
   "execution_count": null,
   "metadata": {},
   "outputs": [],
   "source": []
  },
  {
   "cell_type": "code",
   "execution_count": null,
   "metadata": {},
   "outputs": [],
   "source": [
    "# plots results for test (G)\n",
    "# x1 = np.array(all_BBP700)[:][::iN]\n",
    "x2 = all_BBP700[iQCge3][iG][::]\n",
    "# y1 = np.array(all_PRES)[:][::iN]\n",
    "y2 = all_PRES[iQCge3][iG][::]\n",
    "plot_iQC(x1, x2, y1, y2, tests['G'])"
   ]
  },
  {
   "cell_type": "code",
   "execution_count": null,
   "metadata": {},
   "outputs": [],
   "source": []
  },
  {
   "cell_type": "code",
   "execution_count": null,
   "metadata": {},
   "outputs": [],
   "source": [
    "# %matplotlib widget\n",
    "iN = 1#int(iall.size/3.) # step size to make plotting faster\n",
    "fig = plt.figure(figsize=(20,10))\n",
    "xmin = 0.0002\n",
    "xmax = 0.1\n",
    "xoff = 0.0003\n",
    "ax1 = fig.add_subplot(1,2,1)\n",
    "ax1.plot(all_BBP700[iQCle2][::iN]+xoff, all_PRES[iQCle2][::iN], 'ko', ms=3, alpha=0.02)\n",
    "ax1.plot((xoff, xoff), (-50, 2000), 'k--')\n",
    "ax1.set_ylim([-5, 2000])\n",
    "\n",
    "ax1.set_xlim([xmin, xmax])\n",
    "ax1.invert_yaxis()\n",
    "ax1.set_xscale('log')\n",
    "ax1.set_xlabel('BBP700 [m'+'$^{-1}$'+']', fontweight='bold')\n",
    "ax1.set_ylabel('PRES [dbars]', fontweight='bold')\n",
    "xts = list(np.asarray([0, 1e-4, 1e-3, 1e-2]) + xoff)\n",
    "xtklbls = ('0',  '10'+'$^{-4}$', '10'+'$^{-3}$', '10'+'$^{-2}$')\n",
    "plt.xticks(xts, xtklbls)\n",
    "plt.rcParams.update({'font.size': 20})\n",
    "\n",
    "\n",
    "gc.collect()\n",
    "    "
   ]
  },
  {
   "cell_type": "code",
   "execution_count": null,
   "metadata": {},
   "outputs": [],
   "source": [
    "iLT1000 = np.where((all_PRES[iQCle2]<=1000) & (all_PRES[iQCle2]>=900))\n",
    "plt.hist(all_BBP700[iQCle2][iLT1000], bins=np.logspace(-4,-3, 50));\n",
    "\n",
    "dacs = ['aoml', 'coriolis', 'csio', 'csiro', 'incois', 'bodc', 'jma', 'kma', 'kordi', 'meds', 'nmdis']\n",
    "for idac in dacs:\n",
    "#     print(idac)\n",
    "    iDAC = np.where(pd.Series(all_WMO[iQCle2][iLT1000]).str.contains(idac).values)[0]\n",
    "    plt.hist(all_BBP700[iQCle2][iLT1000][iDAC], bins=np.logspace(-4,-3, 50), histtype='step', label=idac, lw=2);\n",
    "plt.legend(fontsize=10)\n",
    "plt.gca().set_xscale('log')\n",
    "plt.gca().set_yscale('log')\n",
    "# plt.ylim(1e2, 1e5)\n"
   ]
  },
  {
   "cell_type": "code",
   "execution_count": null,
   "metadata": {},
   "outputs": [],
   "source": [
    "\n",
    "iGT1000 = np.where((all_PRES[iQCle2]>=1000))\n",
    "plt.hist(all_BBP700[iQCle2][iGT1000], bins=np.logspace(-4,-3, 50));\n",
    "# plt.gca().set_xticklabels([1e-4, 2e-4, 4e-4, 6e-4, 8e-4, 10e-4], fontsize=20)\n",
    "\n",
    "dacs = ['aoml', 'coriolis', 'csio', 'csiro', 'incois', 'bodc', 'jma', 'kma', 'kordi', 'meds', 'nmdis']\n",
    "for idac in dacs:\n",
    "#     print(idac)\n",
    "    iDAC = np.where(pd.Series(all_WMO[iQCle2][iGT1000]).str.contains(idac).values)[0]\n",
    "    plt.hist(all_BBP700[iQCle2][iGT1000][iDAC], bins=np.logspace(-4,-3, 50), histtype='step', label=idac, lw=2);\n",
    "plt.legend(fontsize=10)\n",
    "plt.gca().set_xscale('log')\n",
    "plt.gca().set_yscale('log')\n",
    "# plt.ylim(1e2, 1e5)"
   ]
  },
  {
   "cell_type": "code",
   "execution_count": null,
   "metadata": {},
   "outputs": [],
   "source": []
  }
 ],
 "metadata": {
  "kernelspec": {
   "display_name": "Python 3",
   "language": "python",
   "name": "python3"
  },
  "language_info": {
   "codemirror_mode": {
    "name": "ipython",
    "version": 3
   },
   "file_extension": ".py",
   "mimetype": "text/x-python",
   "name": "python",
   "nbconvert_exporter": "python",
   "pygments_lexer": "ipython3",
   "version": "3.7.3"
  }
 },
 "nbformat": 4,
 "nbformat_minor": 4
}
