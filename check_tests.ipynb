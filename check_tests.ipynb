{
 "cells": [
  {
   "cell_type": "code",
   "execution_count": 1,
   "metadata": {},
   "outputs": [],
   "source": [
    "# set theme\n",
    "!jt -t oceans16"
   ]
  },
  {
   "cell_type": "code",
   "execution_count": 2,
   "metadata": {},
   "outputs": [
    {
     "data": {
      "text/html": [
       "<style>.container { width:100% !important; }</style>"
      ],
      "text/plain": [
       "<IPython.core.display.HTML object>"
      ]
     },
     "metadata": {},
     "output_type": "display_data"
    }
   ],
   "source": [
    "# this is to make the Jupyter notebook as wide as the screen (on the Mac at least)\n",
    "from IPython.core.display import display, HTML\n",
    "display(HTML(\"<style>.container { width:100% !important; }</style>\"))\n",
    "%config InlineBackend.figure_format ='retina'"
   ]
  },
  {
   "cell_type": "code",
   "execution_count": 3,
   "metadata": {},
   "outputs": [],
   "source": [
    "# Import needed modules\n",
    "import BBP_RTQC\n",
    "from BBP_RTQC_paths import *\n",
    "from BBP_RTQC_global_vars import tests\n",
    "import subprocess\n",
    "import numpy as np\n",
    "import glob\n",
    "import os\n",
    "import json # to run test_tests"
   ]
  },
  {
   "cell_type": "code",
   "execution_count": 4,
   "metadata": {},
   "outputs": [],
   "source": [
    "f = open(\"BBP_RTQC_example_tests.json\")  # open the text file\n",
    "t = json.load(f)  # interpret the text file and make it usable by python\n",
    "f.close()\n",
    "a = []\n",
    "for it, tmp in enumerate(t):\n",
    "    a.append(json.loads(t[it]))\n"
   ]
  },
  {
   "cell_type": "code",
   "execution_count": 6,
   "metadata": {},
   "outputs": [
    {
     "name": "stdout",
     "output_type": "stream",
     "text": [
      "Global Range / Positive values: test succeded.\n",
      "Global Range negative medfilt1 values / Negative values: test succeded.\n",
      "Noisy Profile / eg 1: test succeded.\n",
      "Noisy Profile / eg 2: test succeded.\n",
      "High-Deep Value / eg 1: test succeded.\n",
      "Surface Hook / eg 1: test succeded.\n",
      "Missing Data / shallow profile with missing data: test succeded.\n",
      "Missing Data / shallow profile with missing data: test succeded.\n",
      "Missing Data / only one valid bin,  but with data below 1000 dbars: test succeded.\n",
      "Missing Data / only one bin: test succeded.\n",
      "Negative non-surface / eg 1: test succeded.\n",
      "Parking Hook / eg 1: test succeded.\n"
     ]
    }
   ],
   "source": [
    "# assert tests\n",
    "for ia in range(len(a)):\n",
    "        BBP_RTQC.test_tests(ia)"
   ]
  }
 ],
 "metadata": {
  "kernelspec": {
   "display_name": "Python 3",
   "language": "python",
   "name": "python3"
  },
  "language_info": {
   "codemirror_mode": {
    "name": "ipython",
    "version": 3
   },
   "file_extension": ".py",
   "mimetype": "text/x-python",
   "name": "python",
   "nbconvert_exporter": "python",
   "pygments_lexer": "ipython3",
   "version": "3.7.3"
  }
 },
 "nbformat": 4,
 "nbformat_minor": 4
}
