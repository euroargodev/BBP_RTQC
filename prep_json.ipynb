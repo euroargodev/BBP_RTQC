{
 "cells": [
  {
   "cell_type": "code",
   "execution_count": 1,
   "metadata": {},
   "outputs": [],
   "source": [
    "# set theme\n",
    "!jt -t oceans16"
   ]
  },
  {
   "cell_type": "code",
   "execution_count": 2,
   "metadata": {},
   "outputs": [
    {
     "data": {
      "text/html": [
       "<style>.container { width:100% !important; }</style>"
      ],
      "text/plain": [
       "<IPython.core.display.HTML object>"
      ]
     },
     "metadata": {},
     "output_type": "display_data"
    }
   ],
   "source": [
    "# this is to make the Jupyter notebook as wide as the screen (on the Mac at least)\n",
    "from IPython.core.display import display, HTML\n",
    "display(HTML(\"<style>.container { width:100% !important; }</style>\"))\n",
    "%config InlineBackend.figure_format ='retina'"
   ]
  },
  {
   "cell_type": "markdown",
   "metadata": {},
   "source": [
    "### Import needed modules"
   ]
  },
  {
   "cell_type": "code",
   "execution_count": 3,
   "metadata": {},
   "outputs": [],
   "source": [
    "# import BBP_RTQC\n",
    "import BBP_RTQC\n",
    "from BBP_RTQC_paths import *\n",
    "import subprocess\n",
    "import numpy as np\n",
    "import glob"
   ]
  },
  {
   "cell_type": "code",
   "execution_count": 11,
   "metadata": {},
   "outputs": [],
   "source": [
    "# these are the tests and their codes\n",
    "tests = {\"A\": \"Global Range\",\n",
    "         \"B\": \"Noisy Profile\",\n",
    "         \"C\": \"High-Deep Value\",\n",
    "         \"D\": \"Surface Hook\", \n",
    "         \"E\": \"Missing Data\",\n",
    "         \"F\": \"Negative non-surface\",\n",
    "         \"G\": \"Parking Hook\"      \n",
    "        }\n",
    "egs = {  \"A\": \"coriolis_BR7900591_240.nc\",\n",
    "         \"A2\": \"coriolis_BR6903093_044.nc\",\n",
    "         \"B\": \"\",\n",
    "         \"C\": \"\",\n",
    "         \"D\": \"coriolis_BD6901482_097.nc\", \n",
    "         \"E\": \"\",\n",
    "         \"F\": \"\",\n",
    "         \"G\": \"coriolis_BD6901580_107.nc\"      \n",
    "        }"
   ]
  },
  {
   "cell_type": "code",
   "execution_count": 4,
   "metadata": {},
   "outputs": [
    {
     "name": "stdout",
     "output_type": "stream",
     "text": [
      "614\n"
     ]
    }
   ],
   "source": [
    "# create a list (wmo_dac) and a numpy array (WMO_dac) of dac/wmo to process\n",
    "# e.g., WMO_dac[0]='aoml/1902303'\n",
    "cmdo2 = \"grep BBP700 \" + MAIN_DIR + \"dac/argo_bio-profile_index.txt |   cut -d '/' -f1,2  | uniq \"  # all data\n",
    "wmo_dac = subprocess.run(cmdo2, shell=True, stdout=subprocess.PIPE).stdout.decode('utf-8').split('\\n')\n",
    "WMO_dac = np.asarray(wmo_dac[::])\n",
    "print(len(WMO_dac))\n",
    "istart = 0"
   ]
  },
  {
   "cell_type": "code",
   "execution_count": 5,
   "metadata": {
    "scrolled": true
   },
   "outputs": [],
   "source": [
    "# QC a single float\n",
    "# BBP_RTQC.QC_wmo('aoml/5905105')"
   ]
  },
  {
   "cell_type": "code",
   "execution_count": 6,
   "metadata": {},
   "outputs": [],
   "source": [
    "# # remove old pkl + png files (may not be necessary, but just to be sure)\n",
    "# oldpkl = glob.glob(PKL_DIR + \"/*.p*\")\n",
    "# [os.remove(i) for i in oldpkl] ;"
   ]
  },
  {
   "cell_type": "code",
   "execution_count": 7,
   "metadata": {},
   "outputs": [],
   "source": [
    "# # this is to run the QC in parallel on multiple floats\n",
    "# from joblib import delayed, Parallel\n",
    "# r = Parallel(n_jobs=7, verbose=40)(delayed(BBP_RTQC.QC_wmo)(iwmo) for iwmo in WMO_dac[20::])\n"
   ]
  },
  {
   "cell_type": "code",
   "execution_count": 8,
   "metadata": {},
   "outputs": [
    {
     "name": "stdout",
     "output_type": "stream",
     "text": [
      "/data/datasets/Argo/Original/dac/aoml/5905372/profiles/BD5905372_080.nc\n"
     ]
    }
   ],
   "source": [
    "iwmo = 'aoml/5905372'\n",
    "prof = '080'\n",
    "QCstatus = 'BD'\n",
    "dac = iwmo.split('/')[0]\n",
    "wmo = iwmo.split('/')[-1]\n",
    "\n",
    "# read meta file\n",
    "[ds_config, SENSOR_MODEL, SENSOR_MAKER, SENSOR_SERIAL_NO, PLATFORM_TYPE, miss_no_float] = BBP_RTQC.rd_WMOmeta(iwmo, VERBOSE=False)\n",
    "\n",
    "# list single profiles\n",
    "fn2glob = MAIN_DIR + \"dac/\" + iwmo + \"/profiles/\" + \"B*\" + iwmo.split(\"/\")[-1] + \"*_[0-9][0-9][0-9].nc\"\n",
    "fn_single_profiles = np.sort(glob.glob(fn2glob))\n",
    "\n",
    "# select specific profile to QC\n",
    "fn_p = fn_single_profiles[0]\n",
    "fn_p = MAIN_DIR + \"dac/\" + iwmo + \"/profiles/\" + QCstatus+wmo+'_'+prof+'.nc'\n",
    "print(fn_p)\n",
    "# read BBP and PRES + other data from profile file\n",
    "[ PRES, BBP700, JULD, LAT, LON, BBP700mf1, miss_no_prof, PARK_PRES, maxPRES, innan] = BBP_RTQC.rd_BBP(fn_p, miss_no_float, ds_config)"
   ]
  },
  {
   "cell_type": "code",
   "execution_count": 9,
   "metadata": {},
   "outputs": [],
   "source": [
    "# create BBP700_QC_flags, BBP700_QC_1st_failed_test\n",
    "BBP700_QC_flags = np.zeros(BBP700.shape)+1\n",
    "BBP700_QC_1st_failed_test = np.full(shape=BBP700.shape, fill_value='0')\n"
   ]
  },
  {
   "cell_type": "code",
   "execution_count": 10,
   "metadata": {
    "scrolled": true
   },
   "outputs": [],
   "source": [
    "# NOISY-PROFILE TEST for BBP700\n",
    "BBP700_QC_flag, BBP700_QC_1st_failed_test, res = BBP_RTQC.BBP_Noisy_profile_test(BBP700, BBP700mf1, PRES,\n",
    "                                                                  BBP700_QC_flags, BBP700_QC_1st_failed_test, \n",
    "                                                                  fn_p, VERBOSE=True, PLOT=True, SAVEPLOT=False)\n",
    "\n",
    "\n"
   ]
  },
  {
   "cell_type": "code",
   "execution_count": 11,
   "metadata": {},
   "outputs": [
    {
     "name": "stdout",
     "output_type": "stream",
     "text": [
      "Failed Global_Range_test\n",
      "applying QC=3...\n"
     ]
    }
   ],
   "source": [
    "# GLOBAL-RANGE TEST for BBP700\n",
    "BBP700_QC_flag, BBP700_QC_1st_failed_test = BBP_RTQC.BBP_Global_range_test(BBP700, BBP700mf1, PRES, \n",
    "                                                                  BBP700_QC_flags, BBP700_QC_1st_failed_test, \n",
    "                                                                  fn_p, VERBOSE=True, PLOT=True, SAVEPLOT=False)\n"
   ]
  },
  {
   "cell_type": "code",
   "execution_count": null,
   "metadata": {
    "scrolled": true
   },
   "outputs": [],
   "source": [
    "# SURFACE_HOOK TEST for BBP700\n",
    "BBP700_QC_flag, BBP700_QC_1st_failed_test = BBP_RTQC.BBP_Surface_hook_test(BBP700, BBP700mf1, PRES, \n",
    "                                                                  BBP700_QC_flags, BBP700_QC_1st_failed_test, \n",
    "                                                                  fn_p, VERBOSE=True, PLOT=True, SAVEPLOT=False)\n",
    "\n",
    "\n"
   ]
  },
  {
   "cell_type": "code",
   "execution_count": null,
   "metadata": {
    "scrolled": false
   },
   "outputs": [],
   "source": [
    "# PARKING-HOOK TEST for BBP700\n",
    "BBP700_QC_flag, BBP700_QC_1st_failed_test = BBP_RTQC.BBP_Parking_hook_test(BBP700, BBP700mf1, PRES,\n",
    "                                                                  maxPRES, PARK_PRES,\n",
    "                                                                  BBP700_QC_flags, BBP700_QC_1st_failed_test, \n",
    "                                                                  fn_p, VERBOSE=True, PLOT=True, SAVEPLOT=False)\n",
    "\n",
    "\n"
   ]
  },
  {
   "cell_type": "code",
   "execution_count": null,
   "metadata": {
    "scrolled": true
   },
   "outputs": [],
   "source": [
    "# NEGATIVE-NON-SURFACE TEST for BBP700\n",
    "BBP700_QC_flag, BBP700_QC_1st_failed_test = BBP_RTQC.BBP_Negative_nonsurface_test(BBP700, PRES,\n",
    "                                                                  BBP700_QC_flags, BBP700_QC_1st_failed_test, \n",
    "                                                                  fn_p, VERBOSE=True, PLOT=True, SAVEPLOT=False)\n",
    "\n",
    "\n"
   ]
  },
  {
   "cell_type": "code",
   "execution_count": null,
   "metadata": {},
   "outputs": [],
   "source": []
  },
  {
   "cell_type": "code",
   "execution_count": null,
   "metadata": {},
   "outputs": [],
   "source": []
  }
 ],
 "metadata": {
  "kernelspec": {
   "display_name": "Python 3",
   "language": "python",
   "name": "python3"
  },
  "language_info": {
   "codemirror_mode": {
    "name": "ipython",
    "version": 3
   },
   "file_extension": ".py",
   "mimetype": "text/x-python",
   "name": "python",
   "nbconvert_exporter": "python",
   "pygments_lexer": "ipython3",
   "version": "3.7.3"
  }
 },
 "nbformat": 4,
 "nbformat_minor": 4
}
