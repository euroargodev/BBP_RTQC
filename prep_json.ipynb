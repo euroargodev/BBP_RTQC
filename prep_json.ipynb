{
 "cells": [
  {
   "cell_type": "code",
   "execution_count": 1,
   "metadata": {},
   "outputs": [],
   "source": [
    "# set theme\n",
    "!jt -t oceans16"
   ]
  },
  {
   "cell_type": "code",
   "execution_count": 2,
   "metadata": {},
   "outputs": [
    {
     "data": {
      "text/html": [
       "<style>.container { width:100% !important; }</style>"
      ],
      "text/plain": [
       "<IPython.core.display.HTML object>"
      ]
     },
     "metadata": {},
     "output_type": "display_data"
    }
   ],
   "source": [
    "# this is to make the Jupyter notebook as wide as the screen (on the Mac at least)\n",
    "from IPython.core.display import display, HTML\n",
    "display(HTML(\"<style>.container { width:100% !important; }</style>\"))\n",
    "%config InlineBackend.figure_format ='retina'"
   ]
  },
  {
   "cell_type": "markdown",
   "metadata": {},
   "source": [
    "### Import needed modules"
   ]
  },
  {
   "cell_type": "code",
   "execution_count": 3,
   "metadata": {},
   "outputs": [],
   "source": [
    "import BBP_RTQC\n",
    "from BBP_RTQC_paths import *\n",
    "from BBP_RTQC_global_vars import *\n",
    "import subprocess\n",
    "import numpy as np\n",
    "import glob\n",
    "\n",
    "import json #json manager\n",
    "import re #regular expressions\n",
    "from datetime import date\n",
    "import os"
   ]
  },
  {
   "cell_type": "code",
   "execution_count": 4,
   "metadata": {},
   "outputs": [],
   "source": [
    "# remove exising json file\n",
    "fn_out = \"BBP_RTQC_example_tests.json\"\n",
    "if os.path.exists(fn_out):\n",
    "  os.remove(fn_out)"
   ]
  },
  {
   "cell_type": "code",
   "execution_count": 5,
   "metadata": {
    "code_folding": [
     1,
     15
    ]
   },
   "outputs": [],
   "source": [
    "# these are the test functions, codes, and example files used to generate the json file\n",
    "test_functions = {   \"A\": \"BBP_Global_range_test\",\n",
    "                     \"A2\": \"BBP_Global_range_test\",\n",
    "                     \"B\": \"BBP_Noisy_profile_test\",\n",
    "                     \"C\": \"BBP_High_Deep_Values_test\",\n",
    "                     \"D\": \"BBP_Surface_hook_test\", \n",
    "                     \"E\": \"BBP_Missing_Data_test\",\n",
    "                     \"F\": \"BBP_Negative_nonsurface_test\",\n",
    "                     \"G\": \"BBP_Parking_hook_test\",     \n",
    "                     \"H\": \"BBP_Stuck_Value_test\"      \n",
    "        }\n",
    "\n",
    "# for each test a list of lists is given to add multiple examples. the first element of the list is the profile \n",
    "# used to extract the input data, the second element is a description of what this example is about and becomes \n",
    "# the \"specifics\" field in the final json file\n",
    "egs = {  \"A\": [\n",
    "                [\"coriolis_BR7900591_240.nc\", \"Positive values\"]\n",
    "            ],\n",
    "         \"A2\": [\n",
    "                 [\"coriolis_BR6903093_044.nc\", \"Negative values\"]\n",
    "             ],\n",
    "         \"B\": [\n",
    "                [\"bodc_BR6901183_130.nc\", \"eg 1\"], \n",
    "                [\"aoml_BD5905108_073.nc\", \"eg 2\"]\n",
    "             ],\n",
    "         \"C\": [\n",
    "                 [\"coriolis_BR6902827_363.nc\", \"eg 1\"]\n",
    "            ],\n",
    "         \"D\": [\n",
    "                 [\"coriolis_BD6901482_097.nc\", \"eg 1\"]\n",
    "            ], \n",
    "         \"E\": [\n",
    "                   [\"coriolis_BR6902827_005.nc\", \"shallow profile with high deep values\"], \n",
    "                   [\"csiro_BD1901338_006.nc\", \"shallow profile with high deep values\"], \n",
    "                   [\"aoml_BD5906036_014.nc\", \"shallow profile due to missing data\"],\n",
    "                   [\"coriolis_BR7900560_060.nc\", \"only one valid bin, but with data below 1000 dbars\"], \n",
    "                   [\"coriolis_BD7900591_077.nc\", \"only one bin\"],\n",
    "                   [\"aoml_BD1902303_002.nc\", \"shallow profile, with good data below 200 dbar\"], \n",
    "                   [\"coriolis_BR7900586_001.nc\", \"shallow profile, no data deeper than 200 dbar\"],\n",
    "                   [\"coriolis_BD6901580_120.nc\", \"missing data in some bins\"],\n",
    "                   [\"csiro_BD5903955_554.nc\", \"no BBP data below 200 dbar\"],\n",
    "                   [\"coriolis_BR6901772_087.nc\", \"no data at all in the upper 1000 dbar\"],\n",
    "              ],\n",
    "         \"F\": [\n",
    "                 [\"coriolis_BD6901527_182.nc\", \"eg 1\"]\n",
    "             ],\n",
    "         \"G\": [\n",
    "                 [\"coriolis_BD6901580_107.nc\", \"eg 1\"]      \n",
    "             ],\n",
    "         \"H\": [\n",
    "                 [\"coriolis_BD6901580_107.nc\", \"eg 1\"],\n",
    "                 [\"csiro_BR7900907_014.nc\", \"eg 2\"]\n",
    "             ]      \n",
    "        }"
   ]
  },
  {
   "cell_type": "code",
   "execution_count": 6,
   "metadata": {
    "code_folding": []
   },
   "outputs": [],
   "source": [
    "def create_new_test_example(test, code, specs, test_function, PRES, COUNTS, BBP, BBPmf1, \n",
    "                            QC_FLAGS_IN, QC_FLAGS_OUT, maxPRES=None, PARK_PRES=None):\n",
    "    \n",
    "    new_eg_test = {\"description\": test, \"code\": code, \"specifics\": specs, \"date\": date.today().strftime(\"%Y-%m-%d\"), \"functions\": [test_function],\\\n",
    "                    \"input\": {\"PRES\": PRES, \"BBP\": BBP, \"BBPmf1\": BBPmf1, \"flags_in\": QC_FLAGS_IN}, \\\n",
    "                    \"output\": {\"flags_out\": QC_FLAGS_OUT}  \n",
    "                    }    \n",
    "    if code==\"G\": # add maxPRES and PARK_PRES to inputs of G test\n",
    "        new_eg_test['input'] = {\"PRES\": PRES, \"BBP\": BBP, \"BBPmf1\": BBPmf1, \"flags_in\": QC_FLAGS_IN,\n",
    "                               \"maxPRES\": maxPRES, \"PARK_PRES\": PARK_PRES}\n",
    "    if code==\"H\": # add COUNTS to inputs of H test\n",
    "        new_eg_test['input'] = {\"PRES\": PRES, \"COUNTS\": COUNTS, \"BBP\": BBP, \"flags_in\": QC_FLAGS_IN}\n",
    "        \n",
    "        \n",
    "        \n",
    "    new_eg_test_str = json.dumps(new_eg_test, indent=2)   \n",
    "    \n",
    "    # format the string for better presentation\n",
    "    new_eg_test_horizontal = new_eg_test_str.replace(\"\\n\", \"\")\n",
    "    new_eg_test_horizontal = new_eg_test_horizontal.replace(\"  \", \"\")\n",
    "    new_eg_test_horizontal = new_eg_test_horizontal.replace(\",\", \", \")\n",
    "\n",
    "    return new_eg_test_horizontal"
   ]
  },
  {
   "cell_type": "code",
   "execution_count": 7,
   "metadata": {},
   "outputs": [],
   "source": [
    "# initialise list of strings that will contain all the example-test inputs and outputs\n",
    "all_eg_tests = []"
   ]
  },
  {
   "cell_type": "code",
   "execution_count": 8,
   "metadata": {
    "code_folding": []
   },
   "outputs": [],
   "source": [
    "# read data from example profile\n",
    "def start_rd_4_json(fn_eg):\n",
    "\n",
    "    # extract strings to find files\n",
    "    tmp = fn_eg.split(\"_\")\n",
    "    iwmo = tmp[0]+'/'+tmp[1][2:]\n",
    "    prof = tmp[-1][:3]#'080'\n",
    "    QCstatus = tmp[1][0:2]#'BD'\n",
    "    dac = iwmo.split('/')[0]\n",
    "    wmo = iwmo.split('/')[-1]\n",
    "    \n",
    "    \n",
    "    # read meta file\n",
    "    [ds_config, SENSOR_MODEL, SENSOR_MAKER, SENSOR_SERIAL_NO, PLATFORM_TYPE, miss_no_float, dark, scale, khi] = BBP_RTQC.rd_WMOmeta(iwmo, VERBOSE=False)\n",
    "\n",
    "    # list single profiles\n",
    "    fn2glob = MAIN_DIR + \"dac/\" + iwmo + \"/profiles/\" + \"B*\" + iwmo.split(\"/\")[-1] + \"*_[0-9][0-9][0-9].nc\"\n",
    "    fn_single_profiles = np.sort(glob.glob(fn2glob))\n",
    "\n",
    "    # select specific profile to QC\n",
    "    fn_p = fn_single_profiles[0]\n",
    "    fn_p = MAIN_DIR + \"dac/\" + iwmo + \"/profiles/\" + QCstatus+wmo+'_'+prof+'.nc'\n",
    "    print(fn_p)\n",
    "    # read BBP and PRES + other data from profile file\n",
    "    [ PRES, BBP700, JULD, LAT, LON, BBP700mf1, miss_no_prof, PARK_PRES, maxPRES, innan, COUNTS] = BBP_RTQC.rd_BBP(fn_p, miss_no_float, ds_config)\n",
    "\n",
    "    return iwmo, fn_p, PRES, BBP700, JULD, LAT, LON, BBP700mf1, miss_no_prof, PARK_PRES, maxPRES, innan, COUNTS"
   ]
  },
  {
   "cell_type": "code",
   "execution_count": 9,
   "metadata": {
    "code_folding": []
   },
   "outputs": [],
   "source": [
    "def ini_flags(BBP700):\n",
    "    # initialise output array\n",
    "    BBP700_QC_1st_failed_test = dict.fromkeys(tests.keys())\n",
    "    for ikey in BBP700_QC_1st_failed_test.keys():\n",
    "        BBP700_QC_1st_failed_test[ikey] = np.full(shape=BBP700.shape, fill_value='0')\n",
    "    return BBP700_QC_1st_failed_test"
   ]
  },
  {
   "cell_type": "code",
   "execution_count": 10,
   "metadata": {
    "code_folding": [
     0
    ]
   },
   "outputs": [
    {
     "name": "stdout",
     "output_type": "stream",
     "text": [
      "/data/datasets/Argo/Original/dac/coriolis/7900591/profiles/BR7900591_240.nc\n"
     ]
    }
   ],
   "source": [
    "# Global Range Test (A)\n",
    "code = \"A\"\n",
    "test = tests[code]\n",
    "test_function = test_functions[code]\n",
    "fn_eg = egs[code]\n",
    "\n",
    "for i_eg in fn_eg:\n",
    "    # read data from specific example profile\n",
    "    [iwmo, fn_p, PRES, BBP700, JULD, LAT, LON, BBP700mf1, miss_no_prof, PARK_PRES, maxPRES, innan, COUNTS] = start_rd_4_json(i_eg[0])\n",
    "\n",
    "    # create BBP700_QC_flags, BBP700_QC_1st_failed_test\n",
    "    BBP700_QC_1st_failed_test = ini_flags(BBP700)\n",
    "\n",
    "    # GLOBAL-RANGE TEST for BBP700\n",
    "    QC_FLAGS_OUT, BBP700_QC_1st_failed_test = BBP_RTQC.BBP_Global_range_test(BBP700, BBP700mf1, PRES, \n",
    "                                                                             np.ones(BBP700.shape), BBP700_QC_1st_failed_test, \n",
    "                                                                             fn_p, VERBOSE=False, PLOT=False, SAVEPLOT=False)\n",
    "\n",
    "    # create string to store results of example test\n",
    "    specs = i_eg[1]\n",
    "    tmp = create_new_test_example(test, code, specs, test_function, PRES.tolist(), COUNTS.tolist(),\n",
    "                                  BBP700.tolist(), BBP700mf1.tolist(), \n",
    "                                  np.ones(BBP700.shape).tolist(), QC_FLAGS_OUT.tolist())\n",
    "\n",
    "    # add example above to list to be saved\n",
    "    all_eg_tests.append(tmp)\n",
    "\n",
    "    del QC_FLAGS_OUT"
   ]
  },
  {
   "cell_type": "code",
   "execution_count": 11,
   "metadata": {
    "code_folding": [
     0
    ],
    "scrolled": true
   },
   "outputs": [
    {
     "name": "stdout",
     "output_type": "stream",
     "text": [
      "/data/datasets/Argo/Original/dac/coriolis/6903093/profiles/BR6903093_044.nc\n"
     ]
    }
   ],
   "source": [
    "# Global Range Test: median-filtered negative values (A2)\n",
    "code = \"A2\"\n",
    "test = tests[code]\n",
    "test_function = test_functions[code]\n",
    "fn_eg = egs[code]\n",
    "\n",
    "for i_eg in fn_eg:   \n",
    "    # read data from specific example profile\n",
    "    iwmo, fn_p, PRES, BBP700, JULD, LAT, LON, BBP700mf1, miss_no_prof, PARK_PRES, maxPRES, innan, COUNTS = start_rd_4_json(i_eg[0])\n",
    "\n",
    "    # create BBP700_QC_flags, BBP700_QC_1st_failed_test\n",
    "    BBP700_QC_1st_failed_test = ini_flags(BBP700)\n",
    "\n",
    "    # GLOBAL-RANGE TEST for BBP700\n",
    "    QC_FLAGS_OUT, BBP700_QC_1st_failed_test = BBP_RTQC.BBP_Global_range_test(BBP700, BBP700mf1, PRES, \n",
    "                                                                      np.ones(BBP700.shape), BBP700_QC_1st_failed_test, \n",
    "                                                                      fn_p, VERBOSE=False, PLOT=False, SAVEPLOT=False)\n",
    "\n",
    "    # create string to store results of example test\n",
    "    specs = i_eg[1]\n",
    "    tmp = create_new_test_example(test, code, specs, test_function, PRES.tolist(), COUNTS.tolist(),\n",
    "                                  BBP700.tolist(), BBP700mf1.tolist(), \n",
    "                                  np.ones(BBP700.shape).tolist(), QC_FLAGS_OUT.tolist())\n",
    "\n",
    "    # add example above to list to be saved\n",
    "    all_eg_tests.append(tmp)\n",
    "\n",
    "    del QC_FLAGS_OUT"
   ]
  },
  {
   "cell_type": "code",
   "execution_count": 12,
   "metadata": {
    "code_folding": [
     0
    ],
    "scrolled": true
   },
   "outputs": [
    {
     "name": "stdout",
     "output_type": "stream",
     "text": [
      "/data/datasets/Argo/Original/dac/bodc/6901183/profiles/BR6901183_130.nc\n",
      "/data/datasets/Argo/Original/dac/aoml/5905108/profiles/BD5905108_073.nc\n"
     ]
    }
   ],
   "source": [
    "# Noisy profile Test (B)\n",
    "code = \"B\"\n",
    "test = tests[code]\n",
    "test_function = test_functions[code]\n",
    "fn_eg = egs[code]\n",
    "\n",
    "for i_eg in fn_eg:\n",
    "    # read data from specific example profile\n",
    "    iwmo, fn_p, PRES, BBP700, JULD, LAT, LON, BBP700mf1, miss_no_prof, PARK_PRES, maxPRES, innan, COUNTS = start_rd_4_json(i_eg[0])\n",
    "    \n",
    "    # create BBP700_QC_flags, BBP700_QC_1st_failed_test\n",
    "    BBP700_QC_1st_failed_test = ini_flags(BBP700)\n",
    "\n",
    "    # NOISY-PROFILE TEST for BBP700\n",
    "    QC_FLAGS_OUT, BBP700_QC_1st_failed_test, res = BBP_RTQC.BBP_Noisy_profile_test(BBP700, BBP700mf1, PRES,\n",
    "                                                                      np.ones(BBP700.shape), BBP700_QC_1st_failed_test, \n",
    "                                                                      fn_p, VERBOSE=False, PLOT=False, SAVEPLOT=False)\n",
    "\n",
    "    # create string to store results of example test\n",
    "    specs = i_eg[1]\n",
    "    tmp = create_new_test_example(test, code, specs, test_function, PRES.tolist(), COUNTS.tolist(),\n",
    "                                  BBP700.tolist(), BBP700mf1.tolist(), \n",
    "                                  np.ones(BBP700.shape).tolist(), QC_FLAGS_OUT.tolist())\n",
    "\n",
    "    # add example above to list to be saved\n",
    "    all_eg_tests.append(tmp)\n",
    "\n",
    "    del QC_FLAGS_OUT"
   ]
  },
  {
   "cell_type": "code",
   "execution_count": 13,
   "metadata": {
    "code_folding": [
     0
    ],
    "scrolled": true
   },
   "outputs": [
    {
     "name": "stdout",
     "output_type": "stream",
     "text": [
      "/data/datasets/Argo/Original/dac/coriolis/6902827/profiles/BR6902827_363.nc\n"
     ]
    }
   ],
   "source": [
    "# High-Deep Value Test (C)\n",
    "code = \"C\"\n",
    "test = tests[code]\n",
    "test_function = test_functions[code]\n",
    "fn_eg = egs[code]\n",
    "\n",
    "for i_eg in fn_eg:\n",
    "    # read data from specific example profile\n",
    "    iwmo, fn_p, PRES, BBP700, JULD, LAT, LON, BBP700mf1, miss_no_prof, PARK_PRES, maxPRES, innan, COUNTS = start_rd_4_json(i_eg[0])\n",
    "    \n",
    "    # create BBP700_QC_flags, BBP700_QC_1st_failed_test\n",
    "    BBP700_QC_1st_failed_test = ini_flags(BBP700)\n",
    "\n",
    "    # HIGH DEEP-VALUES TEST for BBP700\n",
    "    QC_FLAGS_OUT, BBP700_QC_1st_failed_test = BBP_RTQC.BBP_High_Deep_Values_test(BBP700mf1, PRES, \n",
    "                                                                                 np.ones(BBP700.shape), BBP700_QC_1st_failed_test, \n",
    "                                                                                 fn_p, VERBOSE=False, PLOT=False, SAVEPLOT=False)\n",
    "\n",
    "    # create string to store results of example test\n",
    "    specs = i_eg[1]    \n",
    "    tmp = create_new_test_example(test, code, specs, test_function, PRES.tolist(), COUNTS.tolist(),\n",
    "                                  BBP700.tolist(), BBP700mf1.tolist(), \n",
    "                                  np.ones(BBP700.shape).tolist(), QC_FLAGS_OUT.tolist())\n",
    "\n",
    "    # add example above to list to be saved\n",
    "    all_eg_tests.append(tmp)\n",
    "\n",
    "    del QC_FLAGS_OUT"
   ]
  },
  {
   "cell_type": "code",
   "execution_count": 14,
   "metadata": {
    "code_folding": [
     0
    ],
    "scrolled": true
   },
   "outputs": [
    {
     "name": "stdout",
     "output_type": "stream",
     "text": [
      "/data/datasets/Argo/Original/dac/coriolis/6901482/profiles/BD6901482_097.nc\n"
     ]
    }
   ],
   "source": [
    "# SURFACE_HOOK TEST for BBP700\n",
    "code = \"D\"\n",
    "test = tests[code]\n",
    "test_function = test_functions[code]\n",
    "fn_eg = egs[code]\n",
    "\n",
    "for i_eg in fn_eg:\n",
    "    # read data from specific example profile\n",
    "    iwmo, fn_p, PRES, BBP700, JULD, LAT, LON, BBP700mf1, miss_no_prof, PARK_PRES, maxPRES, innan, COUNTS = start_rd_4_json(i_eg[0])\n",
    "    \n",
    "    # create BBP700_QC_flags, BBP700_QC_1st_failed_test\n",
    "    BBP700_QC_1st_failed_test = ini_flags(BBP700)\n",
    "\n",
    "    # SURFACE_HOOK TEST for BBP700\n",
    "    QC_FLAGS_OUT, BBP700_QC_1st_failed_test = BBP_RTQC.BBP_Surface_hook_test(BBP700, BBP700mf1, PRES, \n",
    "                                                                                 np.ones(BBP700.shape), BBP700_QC_1st_failed_test, \n",
    "                                                                                 fn_p, VERBOSE=False, PLOT=False, SAVEPLOT=False)\n",
    "\n",
    "    # create string to store results of example test\n",
    "    specs = i_eg[1]\n",
    "    tmp = create_new_test_example(test, code, specs, test_function, PRES.tolist(), COUNTS.tolist(),\n",
    "                                  BBP700.tolist(), BBP700mf1.tolist(), \n",
    "                                  np.ones(BBP700.shape).tolist(), QC_FLAGS_OUT.tolist())\n",
    "\n",
    "    # add example above to list to be saved\n",
    "    all_eg_tests.append(tmp)\n",
    "\n",
    "    del QC_FLAGS_OUT"
   ]
  },
  {
   "cell_type": "code",
   "execution_count": 15,
   "metadata": {
    "code_folding": [
     0
    ],
    "scrolled": true
   },
   "outputs": [
    {
     "name": "stdout",
     "output_type": "stream",
     "text": [
      "/data/datasets/Argo/Original/dac/coriolis/6902827/profiles/BR6902827_005.nc\n",
      "/data/datasets/Argo/Original/dac/csiro/1901338/profiles/BD1901338_006.nc\n",
      "/data/datasets/Argo/Original/dac/aoml/5906036/profiles/BD5906036_014.nc\n",
      "/data/datasets/Argo/Original/dac/coriolis/7900560/profiles/BR7900560_060.nc\n",
      "/data/datasets/Argo/Original/dac/coriolis/7900591/profiles/BD7900591_077.nc\n",
      "/data/datasets/Argo/Original/dac/aoml/1902303/profiles/BD1902303_002.nc\n",
      "/data/datasets/Argo/Original/dac/coriolis/7900586/profiles/BR7900586_001.nc\n",
      "/data/datasets/Argo/Original/dac/coriolis/6901580/profiles/BD6901580_120.nc\n",
      "/data/datasets/Argo/Original/dac/csiro/5903955/profiles/BD5903955_554.nc\n",
      "/data/datasets/Argo/Original/dac/coriolis/6901772/profiles/BR6901772_087.nc\n"
     ]
    }
   ],
   "source": [
    "# MISSING DATA TEST (E)\n",
    "code = \"E\"\n",
    "test = tests[code]\n",
    "test_function = test_functions[code]\n",
    "fn_eg = egs[code]\n",
    "\n",
    "for i_eg in fn_eg:\n",
    "    # read data from specific example profile\n",
    "    iwmo, fn_p, PRES, BBP700, JULD, LAT, LON, BBP700mf1, miss_no_prof, PARK_PRES, maxPRES, innan, COUNTS = start_rd_4_json(i_eg[0])\n",
    "    \n",
    "    # create BBP700_QC_flags, BBP700_QC_1st_failed_test\n",
    "    BBP700_QC_1st_failed_test = ini_flags(BBP700)\n",
    "\n",
    "    # MISSING DATA TEST for BBP700\n",
    "    QC_FLAGS_OUT, BBP700_QC_1st_failed_test = BBP_RTQC.BBP_Missing_Data_test(BBP700, PRES,\n",
    "                                                                    np.ones(BBP700.shape), BBP700_QC_1st_failed_test, \n",
    "                                                                    fn_p, VERBOSE=False, PLOT=False, SAVEPLOT=False)\n",
    "\n",
    "    # create string to store results of example test\n",
    "    specs = i_eg[1]\n",
    "    tmp = create_new_test_example(test, code, specs, test_function, PRES.tolist(), COUNTS.tolist(),\n",
    "                                  BBP700.tolist(), BBP700mf1.tolist(), \n",
    "                                  np.ones(BBP700.shape).tolist(), QC_FLAGS_OUT.tolist())\n",
    "\n",
    "    # add example above to list to be saved\n",
    "    all_eg_tests.append(tmp)\n",
    "\n",
    "    del QC_FLAGS_OUT"
   ]
  },
  {
   "cell_type": "code",
   "execution_count": 16,
   "metadata": {
    "code_folding": [
     0
    ],
    "scrolled": true
   },
   "outputs": [
    {
     "name": "stdout",
     "output_type": "stream",
     "text": [
      "/data/datasets/Argo/Original/dac/coriolis/6901527/profiles/BD6901527_182.nc\n"
     ]
    }
   ],
   "source": [
    "# NEGATIVE-NON-SURFACE TEST for BBP700\n",
    "code = \"F\"\n",
    "test = tests[code]\n",
    "test_function = test_functions[code]\n",
    "fn_eg = egs[code]\n",
    "\n",
    "for i_eg in fn_eg:\n",
    "    # read data from specific example profile\n",
    "    iwmo, fn_p, PRES, BBP700, JULD, LAT, LON, BBP700mf1, miss_no_prof, PARK_PRES, maxPRES, innan, COUNTS = start_rd_4_json(i_eg[0])\n",
    "    \n",
    "    # create BBP700_QC_flags, BBP700_QC_1st_failed_test\n",
    "    BBP700_QC_1st_failed_test = ini_flags(BBP700)\n",
    "\n",
    "    # NEGATIVE-NON-SURFACE TEST for BBP700\n",
    "    QC_FLAGS_OUT, BBP700_QC_1st_failed_test = BBP_RTQC.BBP_Negative_nonsurface_test(BBP700, PRES,\n",
    "                                                                                 np.ones(BBP700.shape), BBP700_QC_1st_failed_test, \n",
    "                                                                                 fn_p, VERBOSE=False, PLOT=False, SAVEPLOT=False)\n",
    "\n",
    "    # create string to store results of example test\n",
    "    specs = i_eg[1]\n",
    "    tmp = create_new_test_example(test, code, specs, test_function, PRES.tolist(), COUNTS.tolist(),\n",
    "                                  BBP700.tolist(), BBP700mf1.tolist(), \n",
    "                                  np.ones(BBP700.shape).tolist(), QC_FLAGS_OUT.tolist())\n",
    "\n",
    "    # add example above to list to be saved\n",
    "    all_eg_tests.append(tmp)\n",
    "\n",
    "    del QC_FLAGS_OUT"
   ]
  },
  {
   "cell_type": "code",
   "execution_count": 17,
   "metadata": {
    "code_folding": [
     0
    ],
    "scrolled": true
   },
   "outputs": [
    {
     "name": "stdout",
     "output_type": "stream",
     "text": [
      "/data/datasets/Argo/Original/dac/coriolis/6901580/profiles/BD6901580_107.nc\n"
     ]
    }
   ],
   "source": [
    "# PARKING-HOOK TEST for BBP700\n",
    "code = \"G\"\n",
    "test = tests[code]\n",
    "test_function = test_functions[code]\n",
    "fn_eg = egs[code]\n",
    "\n",
    "for i_eg in fn_eg:\n",
    "    # read data from specific example profile\n",
    "    iwmo, fn_p, PRES, BBP700, JULD, LAT, LON, BBP700mf1, miss_no_prof, PARK_PRES, maxPRES, innan, COUNTS = start_rd_4_json(i_eg[0])\n",
    "    \n",
    "    # create BBP700_QC_flags, BBP700_QC_1st_failed_test\n",
    "    BBP700_QC_1st_failed_test = ini_flags(BBP700)\n",
    "\n",
    "    # PARKING-HOOK TEST for BBP700\n",
    "    QC_FLAGS_OUT, BBP700_QC_1st_failed_test = BBP_RTQC.BBP_Parking_hook_test(BBP700, BBP700mf1, PRES,\n",
    "                                                                              maxPRES, PARK_PRES, \n",
    "                                                                                 np.ones(BBP700.shape), BBP700_QC_1st_failed_test, \n",
    "                                                                                 fn_p, VERBOSE=False, PLOT=False, SAVEPLOT=False)\n",
    "\n",
    "    # create string to store results of example test\n",
    "    specs = i_eg[1]\n",
    "    tmp = create_new_test_example(test, code, specs, test_function, PRES.tolist(), COUNTS.tolist(),\n",
    "                                  BBP700.tolist(), BBP700mf1.tolist(), \n",
    "                                  np.ones(BBP700.shape).tolist(), QC_FLAGS_OUT.tolist(),\n",
    "                                  maxPRES.tolist(), PARK_PRES.tolist())\n",
    "\n",
    "    # add example above to list to be saved\n",
    "    all_eg_tests.append(tmp)\n",
    "\n",
    "    del QC_FLAGS_OUT"
   ]
  },
  {
   "cell_type": "code",
   "execution_count": 18,
   "metadata": {
    "code_folding": [],
    "scrolled": true
   },
   "outputs": [
    {
     "name": "stdout",
     "output_type": "stream",
     "text": [
      "/data/datasets/Argo/Original/dac/coriolis/6901580/profiles/BD6901580_107.nc\n",
      "/data/datasets/Argo/Original/dac/csiro/7900907/profiles/BR7900907_014.nc\n"
     ]
    }
   ],
   "source": [
    "# STUCk-VALUE TEST for BBP700\n",
    "code = \"H\"\n",
    "test = tests[code]\n",
    "test_function = test_functions[code]\n",
    "fn_eg = egs[code]\n",
    "\n",
    "for i_eg in fn_eg:\n",
    "    # read data from specific example profile\n",
    "    iwmo, fn_p, PRES, BBP700, JULD, LAT, LON, BBP700mf1, miss_no_prof, PARK_PRES, maxPRES, innan, COUNTS = start_rd_4_json(i_eg[0])\n",
    "    \n",
    "    if \"BD6901580_107\" in i_eg[0]:\n",
    "        # example 1: set BBP700 to a constant value\n",
    "        i1stgood = np.where(COUNTS>0)[0][0]\n",
    "        BBP700[:] = BBP700[i1stgood]\n",
    "        COUNTS[:] = COUNTS[i1stgood]\n",
    "#         print('Stuck-value test: eg 1')\n",
    "\n",
    "\n",
    "    # create BBP700_QC_flags, BBP700_QC_1st_failed_test\n",
    "    BBP700_QC_1st_failed_test = ini_flags(BBP700)\n",
    "\n",
    "    # PARKING-HOOK TEST for BBP700\n",
    "    QC_FLAGS_OUT, BBP700_QC_1st_failed_test = BBP_RTQC.BBP_Stuck_Value_test(COUNTS, BBP700, PRES,\n",
    "                                                                                 np.ones(BBP700.shape), BBP700_QC_1st_failed_test, \n",
    "                                                                                 fn_p, VERBOSE=False, PLOT=False, SAVEPLOT=False)\n",
    "\n",
    "    # create string to store results of example test\n",
    "    specs = i_eg[1]\n",
    "    tmp = create_new_test_example(test, code, specs, test_function, PRES.tolist(), COUNTS.tolist(), BBP700.tolist(), \n",
    "                                  BBP700mf1.tolist(), \n",
    "                                  np.ones(BBP700.shape).tolist(), QC_FLAGS_OUT.tolist(),\n",
    "                                  maxPRES.tolist(), PARK_PRES.tolist())\n",
    "\n",
    "    # add example above to list to be saved\n",
    "    all_eg_tests.append(tmp)\n",
    "\n",
    "    del QC_FLAGS_OUT"
   ]
  },
  {
   "cell_type": "code",
   "execution_count": 19,
   "metadata": {},
   "outputs": [],
   "source": [
    "# convert list to string in json format\n",
    "all_eg_tests_str = json.dumps(all_eg_tests, indent=2)"
   ]
  },
  {
   "cell_type": "code",
   "execution_count": 20,
   "metadata": {},
   "outputs": [],
   "source": [
    "# Save json file\n",
    "out_file = open(fn_out, \"w\")\n",
    "out_file.write(all_eg_tests_str)\n",
    "out_file.close()\n"
   ]
  },
  {
   "cell_type": "code",
   "execution_count": 21,
   "metadata": {},
   "outputs": [
    {
     "data": {
      "text/plain": [
       "'{\"description\": \"Stuck Value\", \"code\": \"H\", \"specifics\": \"eg 1\", \"date\": \"2021-10-19\", \"functions\": [\"BBP_Stuck_Value_test\"], \"input\": {\"PRES\": [0.10000000149011612, 0.0, 0.0, 0.10000000149011612, 0.0, 0.10000000149011612, 0.5, 0.4000000059604645, 0.5, 0.5, 0.4000000059604645, 0.800000011920929, 0.8999999761581421, 1.2000000476837158, 1.2999999523162842, 1.399999976158142, 1.600000023841858, 1.7999999523162842, 2.0999999046325684, 2.0999999046325684, 2.299999952316284, 2.5, 2.5999999046325684, 2.9000000953674316, 3.0, 3.200000047683716, 3.299999952316284, 3.5, 3.5999999046325684, 3.700000047683716, 4.099999904632568, 4.099999904632568, 4.099999904632568, 4.199999809265137, 4.300000190734863, 4.400000095367432, 4.400000095367432, 4.599999904632568, 4.599999904632568, 4.599999904632568, 4.599999904632568, 4.599999904632568, 4.699999809265137, 4.800000190734863, 4.800000190734863, 4.800000190734863, 4.800000190734863, 4.800000190734863, 4.800000190734863, 4.900000095367432, 4.900000095367432, 4.800000190734863, 4.800000190734863, 4.699999809265137, 4.800000190734863, 4.699999809265137, 4.699999809265137, 4.599999904632568, 4.599999904632568, 4.599999904632568, 4.699999809265137, 4.5, 4.5, 4.400000095367432, 4.400000095367432, 4.400000095367432, 4.300000190734863, 4.300000190734863, 4.300000190734863, 4.300000190734863, 4.300000190734863, 4.300000190734863, 4.5, 4.400000095367432, 4.400000095367432, 4.400000095367432, 4.400000095367432, 4.300000190734863, 4.300000190734863, 4.300000190734863, 4.300000190734863, 4.300000190734863, 4.199999809265137, 4.199999809265137, 4.199999809265137, 4.099999904632568, 4.099999904632568, 4.099999904632568, 4.099999904632568, 4.099999904632568, 4.099999904632568, 4.099999904632568, 4.0, 4.0, 4.0, 4.0, 4.0, 4.0, 3.9000000953674316, 3.9000000953674316, 3.9000000953674316, 3.700000047683716, 3.700000047683716, 3.700000047683716, 3.700000047683716, 3.5999999046325684, 3.5, 3.5, 0.699999988079071, 0.699999988079071, 1.0, 1.100000023841858, 1.2000000476837158, 1.399999976158142, 1.5, 1.7000000476837158, 1.7999999523162842, 2.0, 2.200000047683716, 2.4000000953674316, 2.4000000953674316, 2.5999999046325684, 2.799999952316284, 3.0, 3.0, 3.200000047683716, 3.5, 3.5999999046325684, 3.700000047683716, 3.9000000953674316, 4.099999904632568, 4.199999809265137, 4.199999809265137, 4.5, 4.599999904632568, 4.599999904632568, 4.699999809265137, 4.900000095367432, 5.0, 5.300000190734863, 5.599999904632568, 5.699999809265137, 5.900000095367432, 6.099999904632568, 6.0, 6.099999904632568, 6.400000095367432, 6.5, 6.599999904632568, 6.800000190734863, 7.0, 7.199999809265137, 7.599999904632568, 7.699999809265137, 8.0, 8.100000381469727, 8.300000190734863, 8.5, 8.699999809265137, 8.899999618530273, 9.300000190734863, 9.399999618530273, 10.300000190734863, 11.0, 11.600000381469727, 12.300000190734863, 12.800000190734863, 13.399999618530273, 14.199999809265137, 14.899999618530273, 15.699999809265137, 16.600000381469727, 17.5, 18.399999618530273, 19.200000762939453, 20.100000381469727, 20.899999618530273, 21.799999237060547, 22.600000381469727, 23.299999237060547, 23.899999618530273, 24.5, 25.200000762939453, 25.899999618530273, 26.5, 27.200000762939453, 28.0, 28.799999237060547, 29.5, 30.399999618530273, 31.200000762939453, 32.20000076293945, 33.099998474121094, 34.0, 34.79999923706055, 35.70000076293945, 36.400001525878906, 37.20000076293945, 38.0, 38.900001525878906, 39.79999923706055, 40.599998474121094, 41.599998474121094, 42.70000076293945, 43.79999923706055, 44.79999923706055, 46.0, 47.20000076293945, 48.29999923706055, 49.29999923706055, 50.29999923706055, 51.29999923706055, 52.20000076293945, 53.099998474121094, 54.0, 55.0, 56.0, 56.900001525878906, 57.900001525878906, 58.79999923706055, 59.70000076293945, 60.599998474121094, 61.5, 62.400001525878906, 63.29999923706055, 64.30000305175781, 65.30000305175781, 66.19999694824219, 67.19999694824219, 68.0, 69.0, 70.0999984741211, 71.19999694824219, 72.30000305175781, 73.4000015258789, 74.5, 75.5999984741211, 76.69999694824219, 77.9000015258789, 79.0, 80.0999984741211, 81.30000305175781, 82.5, 83.5999984741211, 84.80000305175781, 85.9000015258789, 87.0999984741211, 88.30000305175781, 89.5, 90.5999984741211, 91.5999984741211, 92.4000015258789, 93.19999694824219, 93.9000015258789, 94.5999984741211, 95.4000015258789, 96.0999984741211, 96.80000305175781, 97.5, 98.30000305175781, 99.0, 99.69999694824219, 100.5, 101.19999694824219, 102.0, 102.69999694824219, 103.5, 104.30000305175781, 105.0, 105.80000305175781, 106.5999984741211, 107.4000015258789, 108.19999694824219, 109.0, 109.9000015258789, 110.69999694824219, 111.5999984741211, 112.4000015258789, 113.30000305175781, 114.19999694824219, 115.0, 115.9000015258789, 116.80000305175781, 117.69999694824219, 118.5, 119.4000015258789, 120.30000305175781, 121.19999694824219, 122.0999984741211, 123.0, 123.9000015258789, 124.80000305175781, 125.80000305175781, 126.69999694824219, 127.69999694824219, 128.60000610351562, 129.60000610351562, 130.60000610351562, 131.5, 132.5, 133.5, 134.5, 135.39999389648438, 136.39999389648438, 137.3000030517578, 138.3000030517578, 139.1999969482422, 140.10000610351562, 141.10000610351562, 142.0, 143.0, 143.89999389648438, 144.89999389648438, 145.8000030517578, 146.8000030517578, 147.8000030517578, 148.8000030517578, 149.8000030517578, 150.8000030517578, 151.6999969482422, 152.6999969482422, 153.6999969482422, 154.6999969482422, 155.6999969482422, 156.60000610351562, 157.60000610351562, 158.5, 159.5, 160.5, 161.39999389648438, 162.39999389648438, 163.39999389648438, 164.3000030517578, 165.3000030517578, 166.3000030517578, 167.1999969482422, 168.1999969482422, 169.1999969482422, 170.1999969482422, 171.10000610351562, 172.0, 173.0, 173.89999389648438, 174.89999389648438, 175.8000030517578, 176.8000030517578, 177.6999969482422, 178.6999969482422, 179.60000610351562, 180.5, 181.39999389648438, 182.39999389648438, 183.3000030517578, 184.3000030517578, 185.1999969482422, 186.1999969482422, 187.10000610351562, 188.0, 189.0, 189.89999389648438, 190.89999389648438, 191.89999389648438, 192.8000030517578, 193.8000030517578, 194.8000030517578, 195.6999969482422, 196.6999969482422, 197.6999969482422, 198.6999969482422, 199.60000610351562, 200.60000610351562, 201.5, 202.5, 203.5, 204.39999389648438, 205.39999389648438, 206.39999389648438, 207.39999389648438, 208.39999389648438, 209.39999389648438, 210.3000030517578, 211.3000030517578, 212.3000030517578, 213.3000030517578, 214.3000030517578, 215.39999389648438, 216.39999389648438, 217.39999389648438, 218.39999389648438, 219.39999389648438, 220.39999389648438, 221.39999389648438, 222.39999389648438, 223.39999389648438, 224.39999389648438, 225.39999389648438, 226.39999389648438, 227.39999389648438, 228.39999389648438, 229.39999389648438, 230.39999389648438, 231.39999389648438, 232.5, 233.39999389648438, 234.39999389648438, 235.39999389648438, 236.39999389648438, 237.39999389648438, 238.5, 239.39999389648438, 240.5, 241.39999389648438, 242.39999389648438, 243.5, 244.39999389648438, 245.39999389648438, 246.39999389648438, 247.39999389648438, 248.39999389648438, 249.5, 250.5, 251.5, 252.5, 253.5, 254.5, 255.5, 256.6000061035156, 257.6000061035156, 258.6000061035156, 259.70001220703125, 260.79998779296875, 261.79998779296875, 262.79998779296875, 263.8999938964844, 265.0, 266.0, 267.20001220703125, 268.20001220703125, 269.29998779296875, 270.3999938964844, 271.3999938964844, 272.5, 273.70001220703125, 274.79998779296875, 275.79998779296875, 276.8999938964844, 278.0, 279.1000061035156, 280.20001220703125, 281.29998779296875, 282.3999938964844, 283.5, 284.6000061035156, 285.70001220703125, 286.79998779296875, 288.0, 289.1000061035156, 290.20001220703125, 291.29998779296875, 292.3999938964844, 293.6000061035156, 294.70001220703125, 295.8999938964844, 297.0, 298.20001220703125, 299.29998779296875, 300.5, 301.6000061035156, 302.79998779296875, 303.8999938964844, 305.1000061035156, 306.20001220703125, 307.29998779296875, 308.5, 309.70001220703125, 310.79998779296875, 311.8999938964844, 313.1000061035156, 314.20001220703125, 315.29998779296875, 316.5, 317.6000061035156, 318.79998779296875, 319.8999938964844, 321.1000061035156, 322.20001220703125, 323.3999938964844, 324.6000061035156, 325.79998779296875, 326.8999938964844, 328.1000061035156, 329.29998779296875, 330.5, 331.79998779296875, 332.8999938964844, 334.1000061035156, 335.29998779296875, 336.5, 337.70001220703125, 338.8999938964844, 340.1000061035156, 341.3999938964844, 342.6000061035156, 343.70001220703125, 344.8999938964844, 346.1000061035156, 347.29998779296875, 348.5, 349.70001220703125, 350.8999938964844, 352.1000061035156, 353.29998779296875, 354.6000061035156, 355.79998779296875, 357.0, 358.20001220703125, 359.5, 360.6000061035156, 361.8999938964844, 363.1000061035156, 364.29998779296875, 365.5, 366.70001220703125, 368.0, 369.20001220703125, 370.3999938964844, 371.6000061035156, 372.79998779296875, 374.0, 375.29998779296875, 376.5, 377.70001220703125, 378.8999938964844, 380.1000061035156, 381.29998779296875, 382.5, 383.70001220703125, 384.79998779296875, 385.8999938964844, 386.8999938964844, 387.70001220703125, 388.5, 389.29998779296875, 390.1000061035156, 390.8999938964844, 391.70001220703125, 392.5, 393.29998779296875, 394.0, 394.79998779296875, 395.6000061035156, 396.3999938964844, 397.20001220703125, 398.1000061035156, 398.8999938964844, 399.70001220703125, 400.5, 401.3999938964844, 402.20001220703125, 403.0, 403.8999938964844, 404.70001220703125, 405.5, 406.3999938964844, 407.20001220703125, 408.0, 408.79998779296875, 409.6000061035156, 410.5, 411.29998779296875, 412.20001220703125, 413.0, 413.8999938964844, 414.70001220703125, 415.6000061035156, 416.3999938964844, 417.29998779296875, 418.1000061035156, 418.8999938964844, 419.70001220703125, 420.6000061035156, 421.5, 422.29998779296875, 423.20001220703125, 424.1000061035156, 424.8999938964844, 425.79998779296875, 426.6000061035156, 427.5, 428.3999938964844, 429.20001220703125, 430.1000061035156, 430.8999938964844, 431.79998779296875, 432.70001220703125, 433.6000061035156, 434.5, 435.3999938964844, 436.29998779296875, 437.20001220703125, 438.1000061035156, 439.0, 439.8999938964844, 440.70001220703125, 441.70001220703125, 442.6000061035156, 443.6000061035156, 444.6000061035156, 445.5, 446.5, 447.5, 448.3999938964844, 449.3999938964844, 450.3999938964844, 451.29998779296875, 452.29998779296875, 453.20001220703125, 454.20001220703125, 455.20001220703125, 456.1000061035156, 457.1000061035156, 458.1000061035156, 459.0, 460.0, 460.8999938964844, 461.8999938964844, 462.8999938964844, 463.8999938964844, 464.8999938964844, 465.8999938964844, 466.8999938964844, 467.8999938964844, 468.8999938964844, 469.8999938964844, 470.8999938964844, 471.8999938964844, 472.8999938964844, 473.8999938964844, 474.8999938964844, 476.0, 477.0, 478.1000061035156, 479.1000061035156, 480.20001220703125, 481.29998779296875, 482.3999938964844, 483.5, 484.6000061035156, 485.70001220703125, 486.79998779296875, 488.0, 489.1000061035156, 490.20001220703125, 491.3999938964844, 492.5, 493.70001220703125, 494.79998779296875, 496.0, 497.1000061035156, 498.29998779296875, 499.3999938964844, 500.5, 501.70001220703125, 502.79998779296875, 504.0, 505.20001220703125, 506.29998779296875, 507.5, 508.6000061035156, 509.70001220703125, 510.70001220703125, 511.6000061035156, 512.4000244140625, 513.2000122070312, 513.9000244140625, 514.7000122070312, 515.5, 516.2000122070312, 517.0, 517.7999877929688, 518.5999755859375, 519.4000244140625, 520.2000122070312, 521.0, 521.7999877929688, 522.5999755859375, 523.4000244140625, 524.2000122070312, 525.0, 525.7999877929688, 526.5999755859375, 527.5, 528.2999877929688, 529.0999755859375, 530.0, 530.9000244140625, 531.7000122070312, 532.5999755859375, 533.5, 534.2999877929688, 535.2000122070312, 536.0999755859375, 537.0, 537.9000244140625, 538.7999877929688, 539.7000122070312, 540.5999755859375, 541.5, 542.4000244140625, 543.2999877929688, 544.2000122070312, 545.0999755859375, 546.0, 546.9000244140625, 547.7999877929688, 548.7000122070312, 549.5999755859375, 550.5999755859375, 551.5, 552.4000244140625, 553.4000244140625, 554.2999877929688, 555.2999877929688, 556.2000122070312, 557.2000122070312, 558.2000122070312, 559.2000122070312, 560.2000122070312, 561.2000122070312, 562.0999755859375, 563.0999755859375, 564.0999755859375, 565.0999755859375, 566.0999755859375, 567.0999755859375, 568.0999755859375, 569.2000122070312, 570.2000122070312, 571.2000122070312, 572.2000122070312, 573.2999877929688, 574.2999877929688, 575.2999877929688, 576.4000244140625, 577.4000244140625, 578.5, 579.5, 580.5999755859375, 581.5999755859375, 582.7000122070312, 583.7000122070312, 584.7999877929688, 585.7999877929688, 586.9000244140625, 587.9000244140625, 589.0, 590.0, 591.0, 592.0999755859375, 593.2000122070312, 594.2000122070312, 595.2999877929688, 596.4000244140625, 597.4000244140625, 598.5, 599.5999755859375, 600.7000122070312, 601.7000122070312, 602.7999877929688, 603.9000244140625, 605.0, 606.0999755859375, 607.2000122070312, 608.2999877929688, 609.4000244140625, 610.5999755859375, 611.7000122070312, 612.7999877929688, 614.0, 615.0999755859375, 616.2000122070312, 617.4000244140625, 618.5, 619.7000122070312, 620.9000244140625, 622.0, 623.2000122070312, 624.4000244140625, 625.5999755859375, 626.7000122070312, 627.9000244140625, 629.0999755859375, 630.2999877929688, 631.5, 632.7000122070312, 633.9000244140625, 635.0999755859375, 636.2999877929688, 637.4000244140625, 638.5999755859375, 639.7999877929688, 641.0, 642.2000122070312, 643.4000244140625, 644.5999755859375, 645.7999877929688, 647.0999755859375, 648.2999877929688, 649.5, 650.7999877929688, 652.0, 653.2000122070312, 654.4000244140625, 655.5999755859375, 656.7000122070312, 657.5999755859375, 658.4000244140625, 659.2000122070312, 660.0999755859375, 660.7999877929688, 661.5999755859375, 662.4000244140625, 663.2000122070312, 664.0, 664.7999877929688, 665.5999755859375, 666.4000244140625, 667.2000122070312, 668.0, 668.9000244140625, 669.7000122070312, 670.5, 671.2999877929688, 672.2000122070312, 673.0, 673.7999877929688, 674.5999755859375, 675.5, 676.2999877929688, 677.0999755859375, 677.9000244140625, 678.7999877929688, 679.5999755859375, 680.4000244140625, 681.2000122070312, 682.0, 682.7999877929688, 683.7000122070312, 684.5, 685.4000244140625, 686.2000122070312, 687.0, 687.9000244140625, 688.7999877929688, 689.7000122070312, 690.5, 691.4000244140625, 692.2000122070312, 693.0999755859375, 694.0, 694.7999877929688, 695.7000122070312, 696.5999755859375, 697.4000244140625, 698.2999877929688, 699.2000122070312, 700.0999755859375, 701.0, 701.9000244140625, 702.7000122070312, 703.5999755859375, 704.5, 705.2999877929688, 706.2000122070312, 707.0, 707.9000244140625, 708.7000122070312, 709.5999755859375, 710.4000244140625, 711.2999877929688, 712.0999755859375, 713.0, 713.9000244140625, 714.7000122070312, 715.5999755859375, 716.4000244140625, 717.2999877929688, 718.2000122070312, 719.0999755859375, 719.9000244140625, 720.7999877929688, 721.7000122070312, 722.5999755859375, 723.5, 724.4000244140625, 725.4000244140625, 726.2999877929688, 727.2000122070312, 728.0999755859375, 729.0999755859375, 730.0, 730.9000244140625, 731.9000244140625, 732.7999877929688, 733.7999877929688, 734.7000122070312, 735.7000122070312, 736.5999755859375, 737.5999755859375, 738.5, 739.4000244140625, 740.4000244140625, 741.2999877929688, 742.2000122070312, 743.0999755859375, 744.0, 744.9000244140625, 745.7999877929688, 746.7000122070312, 747.5999755859375, 748.5, 749.4000244140625, 750.2999877929688, 751.2000122070312, 752.2000122070312, 753.0999755859375, 754.0, 755.0, 755.9000244140625, 756.7999877929688, 757.7999877929688, 758.7000122070312, 759.5999755859375, 760.5, 761.4000244140625, 762.2999877929688, 763.2000122070312, 764.0999755859375, 765.0999755859375, 766.0, 766.9000244140625, 767.9000244140625, 768.9000244140625, 769.7999877929688, 770.7999877929688, 771.7000122070312, 772.7000122070312, 773.7000122070312, 774.7000122070312, 775.7000122070312, 776.7000122070312, 777.7000122070312, 778.7000122070312, 779.7000122070312, 780.7000122070312, 781.7000122070312, 782.7000122070312, 783.7000122070312, 784.7000122070312, 785.7000122070312, 786.7000122070312, 787.7000122070312, 788.7000122070312, 789.7000122070312, 790.7999877929688, 791.7999877929688, 792.7999877929688, 793.9000244140625, 794.9000244140625, 796.0, 797.0, 798.0999755859375, 799.2000122070312, 800.2999877929688, 801.2999877929688, 802.4000244140625, 803.5, 804.5999755859375, 805.5999755859375, 806.5999755859375, 807.7000122070312, 808.7000122070312, 809.7000122070312, 810.7999877929688, 811.7999877929688, 812.9000244140625, 814.0, 815.0, 816.0999755859375, 817.2000122070312, 818.2999877929688, 819.4000244140625, 820.4000244140625, 821.5, 822.5999755859375, 823.7000122070312, 824.7999877929688, 825.9000244140625, 827.0, 828.0999755859375, 829.2000122070312, 830.4000244140625, 831.4000244140625, 832.5, 833.7000122070312, 834.7000122070312, 835.7999877929688, 836.9000244140625, 838.0, 839.0, 840.2000122070312, 841.2999877929688, 842.4000244140625, 843.5, 844.5999755859375, 845.7000122070312, 846.9000244140625, 848.0, 849.0999755859375, 850.2999877929688, 851.5, 852.5999755859375, 853.7999877929688, 855.0, 856.0999755859375, 857.2999877929688, 858.4000244140625, 859.5999755859375, 860.7000122070312, 861.7999877929688, 863.0, 864.0999755859375, 865.2999877929688, 866.4000244140625, 867.5, 868.7000122070312, 869.9000244140625, 871.0, 872.0999755859375, 873.2000122070312, 874.4000244140625, 875.5, 876.7000122070312, 877.7999877929688, 878.9000244140625, 880.0999755859375, 881.2999877929688, 882.4000244140625, 883.5999755859375, 884.7999877929688, 886.0, 887.2999877929688, 888.4000244140625, 889.7000122070312, 890.7999877929688, 892.0999755859375, 893.2999877929688, 894.4000244140625, 895.5999755859375, 896.7999877929688, 898.0, 899.0999755859375, 900.2999877929688, 901.5, 902.7000122070312, 903.7999877929688, 905.0, 906.2000122070312, 907.2999877929688, 908.4000244140625, 909.5999755859375, 910.7000122070312, 911.9000244140625, 913.0, 914.2000122070312, 915.2999877929688, 916.4000244140625, 917.5999755859375, 918.7000122070312, 919.7999877929688, 921.0, 922.0999755859375, 923.2000122070312, 924.4000244140625, 925.5, 926.5999755859375, 927.7000122070312, 928.7999877929688, 930.0, 931.0999755859375, 932.2999877929688, 933.4000244140625, 934.5, 935.5999755859375, 936.7999877929688, 937.9000244140625, 939.0999755859375, 940.2000122070312, 941.4000244140625, 942.5999755859375, 943.7000122070312, 944.9000244140625, 946.0999755859375, 947.2000122070312, 948.4000244140625, 949.5999755859375, 950.7999877929688, 952.0, 953.2000122070312, 954.2999877929688, 955.5, 956.7000122070312, 957.7999877929688, 959.0, 960.2000122070312, 961.2999877929688, 962.5, 963.5999755859375, 964.7999877929688, 966.0, 967.0999755859375, 968.2999877929688, 969.5, 970.5999755859375, 971.7999877929688, 973.0, 974.0999755859375, 975.2000122070312, 976.4000244140625, 977.5, 978.7000122070312, 979.7999877929688, 981.0, 982.0999755859375, 983.2999877929688, 984.4000244140625, 985.5999755859375, 986.7000122070312, 987.9000244140625, 989.0999755859375, 990.2999877929688, 991.4000244140625, 992.5999755859375, 993.7000122070312, 994.2000122070312, 994.2000122070312, 994.2000122070312, 994.2000122070312, 994.2000122070312, 999.9000244140625, 999.9000244140625, 999.9000244140625, 999.9000244140625, 999.9000244140625, 1005.5999755859375, 1005.5999755859375, 1005.5999755859375, 1005.5999755859375, 1005.5999755859375, 1011.5, 1011.5, 1011.5, 1011.5, 1011.5, 1016.5, 1016.5, 1016.5, 1016.5, 1016.5, 1020.4000244140625, 1020.4000244140625, 1020.4000244140625, 1020.4000244140625, 1020.4000244140625, 1023.7000122070312, 1023.7000122070312, 1023.7000122070312, 1023.7000122070312, 1023.7000122070312, 1024.0999755859375, 1024.0999755859375, 1024.0999755859375, 1024.0999755859375, 1024.0999755859375, 1024.0999755859375, 1024.0999755859375, 1024.0999755859375, 1024.0999755859375, 1024.0999755859375, 1024.0999755859375], \"COUNTS\": [286.0, 286.0, 286.0, 286.0, 286.0, 286.0, 286.0, 286.0, 286.0, 286.0, 286.0, 286.0, 286.0, 286.0, 286.0, 286.0, 286.0, 286.0, 286.0, 286.0, 286.0, 286.0, 286.0, 286.0, 286.0, 286.0, 286.0, 286.0, 286.0, 286.0, 286.0, 286.0, 286.0, 286.0, 286.0, 286.0, 286.0, 286.0, 286.0, 286.0, 286.0, 286.0, 286.0, 286.0, 286.0, 286.0, 286.0, 286.0, 286.0, 286.0, 286.0, 286.0, 286.0, 286.0, 286.0, 286.0, 286.0, 286.0, 286.0, 286.0, 286.0, 286.0, 286.0, 286.0, 286.0, 286.0, 286.0, 286.0, 286.0, 286.0, 286.0, 286.0, 286.0, 286.0, 286.0, 286.0, 286.0, 286.0, 286.0, 286.0, 286.0, 286.0, 286.0, 286.0, 286.0, 286.0, 286.0, 286.0, 286.0, 286.0, 286.0, 286.0, 286.0, 286.0, 286.0, 286.0, 286.0, 286.0, 286.0, 286.0, 286.0, 286.0, 286.0, 286.0, 286.0, 286.0, 286.0, 286.0, 286.0, 286.0, 286.0, 286.0, 286.0, 286.0, 286.0, 286.0, 286.0, 286.0, 286.0, 286.0, 286.0, 286.0, 286.0, 286.0, 286.0, 286.0, 286.0, 286.0, 286.0, 286.0, 286.0, 286.0, 286.0, 286.0, 286.0, 286.0, 286.0, 286.0, 286.0, 286.0, 286.0, 286.0, 286.0, 286.0, 286.0, 286.0, 286.0, 286.0, 286.0, 286.0, 286.0, 286.0, 286.0, 286.0, 286.0, 286.0, 286.0, 286.0, 286.0, 286.0, 286.0, 286.0, 286.0, 286.0, 286.0, 286.0, 286.0, 286.0, 286.0, 286.0, 286.0, 286.0, 286.0, 286.0, 286.0, 286.0, 286.0, 286.0, 286.0, 286.0, 286.0, 286.0, 286.0, 286.0, 286.0, 286.0, 286.0, 286.0, 286.0, 286.0, 286.0, 286.0, 286.0, 286.0, 286.0, 286.0, 286.0, 286.0, 286.0, 286.0, 286.0, 286.0, 286.0, 286.0, 286.0, 286.0, 286.0, 286.0, 286.0, 286.0, 286.0, 286.0, 286.0, 286.0, 286.0, 286.0, 286.0, 286.0, 286.0, 286.0, 286.0, 286.0, 286.0, 286.0, 286.0, 286.0, 286.0, 286.0, 286.0, 286.0, 286.0, 286.0, 286.0, 286.0, 286.0, 286.0, 286.0, 286.0, 286.0, 286.0, 286.0, 286.0, 286.0, 286.0, 286.0, 286.0, 286.0, 286.0, 286.0, 286.0, 286.0, 286.0, 286.0, 286.0, 286.0, 286.0, 286.0, 286.0, 286.0, 286.0, 286.0, 286.0, 286.0, 286.0, 286.0, 286.0, 286.0, 286.0, 286.0, 286.0, 286.0, 286.0, 286.0, 286.0, 286.0, 286.0, 286.0, 286.0, 286.0, 286.0, 286.0, 286.0, 286.0, 286.0, 286.0, 286.0, 286.0, 286.0, 286.0, 286.0, 286.0, 286.0, 286.0, 286.0, 286.0, 286.0, 286.0, 286.0, 286.0, 286.0, 286.0, 286.0, 286.0, 286.0, 286.0, 286.0, 286.0, 286.0, 286.0, 286.0, 286.0, 286.0, 286.0, 286.0, 286.0, 286.0, 286.0, 286.0, 286.0, 286.0, 286.0, 286.0, 286.0, 286.0, 286.0, 286.0, 286.0, 286.0, 286.0, 286.0, 286.0, 286.0, 286.0, 286.0, 286.0, 286.0, 286.0, 286.0, 286.0, 286.0, 286.0, 286.0, 286.0, 286.0, 286.0, 286.0, 286.0, 286.0, 286.0, 286.0, 286.0, 286.0, 286.0, 286.0, 286.0, 286.0, 286.0, 286.0, 286.0, 286.0, 286.0, 286.0, 286.0, 286.0, 286.0, 286.0, 286.0, 286.0, 286.0, 286.0, 286.0, 286.0, 286.0, 286.0, 286.0, 286.0, 286.0, 286.0, 286.0, 286.0, 286.0, 286.0, 286.0, 286.0, 286.0, 286.0, 286.0, 286.0, 286.0, 286.0, 286.0, 286.0, 286.0, 286.0, 286.0, 286.0, 286.0, 286.0, 286.0, 286.0, 286.0, 286.0, 286.0, 286.0, 286.0, 286.0, 286.0, 286.0, 286.0, 286.0, 286.0, 286.0, 286.0, 286.0, 286.0, 286.0, 286.0, 286.0, 286.0, 286.0, 286.0, 286.0, 286.0, 286.0, 286.0, 286.0, 286.0, 286.0, 286.0, 286.0, 286.0, 286.0, 286.0, 286.0, 286.0, 286.0, 286.0, 286.0, 286.0, 286.0, 286.0, 286.0, 286.0, 286.0, 286.0, 286.0, 286.0, 286.0, 286.0, 286.0, 286.0, 286.0, 286.0, 286.0, 286.0, 286.0, 286.0, 286.0, 286.0, 286.0, 286.0, 286.0, 286.0, 286.0, 286.0, 286.0, 286.0, 286.0, 286.0, 286.0, 286.0, 286.0, 286.0, 286.0, 286.0, 286.0, 286.0, 286.0, 286.0, 286.0, 286.0, 286.0, 286.0, 286.0, 286.0, 286.0, 286.0, 286.0, 286.0, 286.0, 286.0, 286.0, 286.0, 286.0, 286.0, 286.0, 286.0, 286.0, 286.0, 286.0, 286.0, 286.0, 286.0, 286.0, 286.0, 286.0, 286.0, 286.0, 286.0, 286.0, 286.0, 286.0, 286.0, 286.0, 286.0, 286.0, 286.0, 286.0, 286.0, 286.0, 286.0, 286.0, 286.0, 286.0, 286.0, 286.0, 286.0, 286.0, 286.0, 286.0, 286.0, 286.0, 286.0, 286.0, 286.0, 286.0, 286.0, 286.0, 286.0, 286.0, 286.0, 286.0, 286.0, 286.0, 286.0, 286.0, 286.0, 286.0, 286.0, 286.0, 286.0, 286.0, 286.0, 286.0, 286.0, 286.0, 286.0, 286.0, 286.0, 286.0, 286.0, 286.0, 286.0, 286.0, 286.0, 286.0, 286.0, 286.0, 286.0, 286.0, 286.0, 286.0, 286.0, 286.0, 286.0, 286.0, 286.0, 286.0, 286.0, 286.0, 286.0, 286.0, 286.0, 286.0, 286.0, 286.0, 286.0, 286.0, 286.0, 286.0, 286.0, 286.0, 286.0, 286.0, 286.0, 286.0, 286.0, 286.0, 286.0, 286.0, 286.0, 286.0, 286.0, 286.0, 286.0, 286.0, 286.0, 286.0, 286.0, 286.0, 286.0, 286.0, 286.0, 286.0, 286.0, 286.0, 286.0, 286.0, 286.0, 286.0, 286.0, 286.0, 286.0, 286.0, 286.0, 286.0, 286.0, 286.0, 286.0, 286.0, 286.0, 286.0, 286.0, 286.0, 286.0, 286.0, 286.0, 286.0, 286.0, 286.0, 286.0, 286.0, 286.0, 286.0, 286.0, 286.0, 286.0, 286.0, 286.0, 286.0, 286.0, 286.0, 286.0, 286.0, 286.0, 286.0, 286.0, 286.0, 286.0, 286.0, 286.0, 286.0, 286.0, 286.0, 286.0, 286.0, 286.0, 286.0, 286.0, 286.0, 286.0, 286.0, 286.0, 286.0, 286.0, 286.0, 286.0, 286.0, 286.0, 286.0, 286.0, 286.0, 286.0, 286.0, 286.0, 286.0, 286.0, 286.0, 286.0, 286.0, 286.0, 286.0, 286.0, 286.0, 286.0, 286.0, 286.0, 286.0, 286.0, 286.0, 286.0, 286.0, 286.0, 286.0, 286.0, 286.0, 286.0, 286.0, 286.0, 286.0, 286.0, 286.0, 286.0, 286.0, 286.0, 286.0, 286.0, 286.0, 286.0, 286.0, 286.0, 286.0, 286.0, 286.0, 286.0, 286.0, 286.0, 286.0, 286.0, 286.0, 286.0, 286.0, 286.0, 286.0, 286.0, 286.0, 286.0, 286.0, 286.0, 286.0, 286.0, 286.0, 286.0, 286.0, 286.0, 286.0, 286.0, 286.0, 286.0, 286.0, 286.0, 286.0, 286.0, 286.0, 286.0, 286.0, 286.0, 286.0, 286.0, 286.0, 286.0, 286.0, 286.0, 286.0, 286.0, 286.0, 286.0, 286.0, 286.0, 286.0, 286.0, 286.0, 286.0, 286.0, 286.0, 286.0, 286.0, 286.0, 286.0, 286.0, 286.0, 286.0, 286.0, 286.0, 286.0, 286.0, 286.0, 286.0, 286.0, 286.0, 286.0, 286.0, 286.0, 286.0, 286.0, 286.0, 286.0, 286.0, 286.0, 286.0, 286.0, 286.0, 286.0, 286.0, 286.0, 286.0, 286.0, 286.0, 286.0, 286.0, 286.0, 286.0, 286.0, 286.0, 286.0, 286.0, 286.0, 286.0, 286.0, 286.0, 286.0, 286.0, 286.0, 286.0, 286.0, 286.0, 286.0, 286.0, 286.0, 286.0, 286.0, 286.0, 286.0, 286.0, 286.0, 286.0, 286.0, 286.0, 286.0, 286.0, 286.0, 286.0, 286.0, 286.0, 286.0, 286.0, 286.0, 286.0, 286.0, 286.0, 286.0, 286.0, 286.0, 286.0, 286.0, 286.0, 286.0, 286.0, 286.0, 286.0, 286.0, 286.0, 286.0, 286.0, 286.0, 286.0, 286.0, 286.0, 286.0, 286.0, 286.0, 286.0, 286.0, 286.0, 286.0, 286.0, 286.0, 286.0, 286.0, 286.0, 286.0, 286.0, 286.0, 286.0, 286.0, 286.0, 286.0, 286.0, 286.0, 286.0, 286.0, 286.0, 286.0, 286.0, 286.0, 286.0, 286.0, 286.0, 286.0, 286.0, 286.0, 286.0, 286.0, 286.0, 286.0, 286.0, 286.0, 286.0, 286.0, 286.0, 286.0, 286.0, 286.0, 286.0, 286.0, 286.0, 286.0, 286.0, 286.0, 286.0, 286.0, 286.0, 286.0, 286.0, 286.0, 286.0, 286.0, 286.0, 286.0, 286.0, 286.0, 286.0, 286.0, 286.0, 286.0, 286.0, 286.0, 286.0, 286.0, 286.0, 286.0, 286.0, 286.0, 286.0, 286.0, 286.0, 286.0, 286.0, 286.0, 286.0, 286.0, 286.0, 286.0, 286.0, 286.0, 286.0, 286.0, 286.0, 286.0, 286.0, 286.0, 286.0, 286.0, 286.0, 286.0, 286.0, 286.0, 286.0, 286.0, 286.0, 286.0, 286.0, 286.0, 286.0, 286.0, 286.0, 286.0, 286.0, 286.0, 286.0, 286.0, 286.0, 286.0, 286.0, 286.0, 286.0, 286.0, 286.0, 286.0, 286.0, 286.0, 286.0, 286.0, 286.0, 286.0, 286.0, 286.0, 286.0, 286.0, 286.0, 286.0, 286.0, 286.0, 286.0, 286.0, 286.0, 286.0, 286.0, 286.0, 286.0, 286.0, 286.0, 286.0, 286.0, 286.0, 286.0, 286.0, 286.0, 286.0, 286.0, 286.0, 286.0, 286.0, 286.0, 286.0, 286.0, 286.0, 286.0, 286.0, 286.0, 286.0, 286.0, 286.0, 286.0, 286.0, 286.0, 286.0, 286.0, 286.0, 286.0, 286.0, 286.0, 286.0, 286.0, 286.0, 286.0, 286.0, 286.0, 286.0, 286.0, 286.0, 286.0, 286.0, 286.0, 286.0, 286.0, 286.0, 286.0, 286.0, 286.0, 286.0, 286.0, 286.0, 286.0, 286.0, 286.0, 286.0, 286.0, 286.0, 286.0, 286.0, 286.0, 286.0, 286.0, 286.0, 286.0, 286.0, 286.0, 286.0, 286.0, 286.0, 286.0, 286.0, 286.0, 286.0, 286.0, 286.0, 286.0, 286.0, 286.0, 286.0, 286.0, 286.0, 286.0, 286.0, 286.0, 286.0, 286.0, 286.0, 286.0, 286.0, 286.0, 286.0, 286.0, 286.0, 286.0, 286.0, 286.0, 286.0, 286.0, 286.0, 286.0, 286.0, 286.0, 286.0, 286.0, 286.0, 286.0, 286.0, 286.0, 286.0, 286.0, 286.0, 286.0, 286.0, 286.0, 286.0, 286.0, 286.0, 286.0, 286.0, 286.0, 286.0, 286.0, 286.0, 286.0, 286.0, 286.0, 286.0, 286.0, 286.0, 286.0, 286.0, 286.0, 286.0, 286.0, 286.0, 286.0, 286.0, 286.0, 286.0, 286.0, 286.0, 286.0, 286.0, 286.0, 286.0, 286.0, 286.0, 286.0, 286.0, 286.0, 286.0, 286.0, 286.0, 286.0, 286.0, 286.0, 286.0, 286.0, 286.0, 286.0, 286.0, 286.0, 286.0, 286.0, 286.0, 286.0, 286.0, 286.0, 286.0, 286.0, 286.0, 286.0, 286.0, 286.0, 286.0, 286.0, 286.0, 286.0], \"BBP\": [0.002108705695718527, 0.002108705695718527, 0.002108705695718527, 0.002108705695718527, 0.002108705695718527, 0.002108705695718527, 0.002108705695718527, 0.002108705695718527, 0.002108705695718527, 0.002108705695718527, 0.002108705695718527, 0.002108705695718527, 0.002108705695718527, 0.002108705695718527, 0.002108705695718527, 0.002108705695718527, 0.002108705695718527, 0.002108705695718527, 0.002108705695718527, 0.002108705695718527, 0.002108705695718527, 0.002108705695718527, 0.002108705695718527, 0.002108705695718527, 0.002108705695718527, 0.002108705695718527, 0.002108705695718527, 0.002108705695718527, 0.002108705695718527, 0.002108705695718527, 0.002108705695718527, 0.002108705695718527, 0.002108705695718527, 0.002108705695718527, 0.002108705695718527, 0.002108705695718527, 0.002108705695718527, 0.002108705695718527, 0.002108705695718527, 0.002108705695718527, 0.002108705695718527, 0.002108705695718527, 0.002108705695718527, 0.002108705695718527, 0.002108705695718527, 0.002108705695718527, 0.002108705695718527, 0.002108705695718527, 0.002108705695718527, 0.002108705695718527, 0.002108705695718527, 0.002108705695718527, 0.002108705695718527, 0.002108705695718527, 0.002108705695718527, 0.002108705695718527, 0.002108705695718527, 0.002108705695718527, 0.002108705695718527, 0.002108705695718527, 0.002108705695718527, 0.002108705695718527, 0.002108705695718527, 0.002108705695718527, 0.002108705695718527, 0.002108705695718527, 0.002108705695718527, 0.002108705695718527, 0.002108705695718527, 0.002108705695718527, 0.002108705695718527, 0.002108705695718527, 0.002108705695718527, 0.002108705695718527, 0.002108705695718527, 0.002108705695718527, 0.002108705695718527, 0.002108705695718527, 0.002108705695718527, 0.002108705695718527, 0.002108705695718527, 0.002108705695718527, 0.002108705695718527, 0.002108705695718527, 0.002108705695718527, 0.002108705695718527, 0.002108705695718527, 0.002108705695718527, 0.002108705695718527, 0.002108705695718527, 0.002108705695718527, 0.002108705695718527, 0.002108705695718527, 0.002108705695718527, 0.002108705695718527, 0.002108705695718527, 0.002108705695718527, 0.002108705695718527, 0.002108705695718527, 0.002108705695718527, 0.002108705695718527, 0.002108705695718527, 0.002108705695718527, 0.002108705695718527, 0.002108705695718527, 0.002108705695718527, 0.002108705695718527, 0.002108705695718527, 0.002108705695718527, 0.002108705695718527, 0.002108705695718527, 0.002108705695718527, 0.002108705695718527, 0.002108705695718527, 0.002108705695718527, 0.002108705695718527, 0.002108705695718527, 0.002108705695718527, 0.002108705695718527, 0.002108705695718527, 0.002108705695718527, 0.002108705695718527, 0.002108705695718527, 0.002108705695718527, 0.002108705695718527, 0.002108705695718527, 0.002108705695718527, 0.002108705695718527, 0.002108705695718527, 0.002108705695718527, 0.002108705695718527, 0.002108705695718527, 0.002108705695718527, 0.002108705695718527, 0.002108705695718527, 0.002108705695718527, 0.002108705695718527, 0.002108705695718527, 0.002108705695718527, 0.002108705695718527, 0.002108705695718527, 0.002108705695718527, 0.002108705695718527, 0.002108705695718527, 0.002108705695718527, 0.002108705695718527, 0.002108705695718527, 0.002108705695718527, 0.002108705695718527, 0.002108705695718527, 0.002108705695718527, 0.002108705695718527, 0.002108705695718527, 0.002108705695718527, 0.002108705695718527, 0.002108705695718527, 0.002108705695718527, 0.002108705695718527, 0.002108705695718527, 0.002108705695718527, 0.002108705695718527, 0.002108705695718527, 0.002108705695718527, 0.002108705695718527, 0.002108705695718527, 0.002108705695718527, 0.002108705695718527, 0.002108705695718527, 0.002108705695718527, 0.002108705695718527, 0.002108705695718527, 0.002108705695718527, 0.002108705695718527, 0.002108705695718527, 0.002108705695718527, 0.002108705695718527, 0.002108705695718527, 0.002108705695718527, 0.002108705695718527, 0.002108705695718527, 0.002108705695718527, 0.002108705695718527, 0.002108705695718527, 0.002108705695718527, 0.002108705695718527, 0.002108705695718527, 0.002108705695718527, 0.002108705695718527, 0.002108705695718527, 0.002108705695718527, 0.002108705695718527, 0.002108705695718527, 0.002108705695718527, 0.002108705695718527, 0.002108705695718527, 0.002108705695718527, 0.002108705695718527, 0.002108705695718527, 0.002108705695718527, 0.002108705695718527, 0.002108705695718527, 0.002108705695718527, 0.002108705695718527, 0.002108705695718527, 0.002108705695718527, 0.002108705695718527, 0.002108705695718527, 0.002108705695718527, 0.002108705695718527, 0.002108705695718527, 0.002108705695718527, 0.002108705695718527, 0.002108705695718527, 0.002108705695718527, 0.002108705695718527, 0.002108705695718527, 0.002108705695718527, 0.002108705695718527, 0.002108705695718527, 0.002108705695718527, 0.002108705695718527, 0.002108705695718527, 0.002108705695718527, 0.002108705695718527, 0.002108705695718527, 0.002108705695718527, 0.002108705695718527, 0.002108705695718527, 0.002108705695718527, 0.002108705695718527, 0.002108705695718527, 0.002108705695718527, 0.002108705695718527, 0.002108705695718527, 0.002108705695718527, 0.002108705695718527, 0.002108705695718527, 0.002108705695718527, 0.002108705695718527, 0.002108705695718527, 0.002108705695718527, 0.002108705695718527, 0.002108705695718527, 0.002108705695718527, 0.002108705695718527, 0.002108705695718527, 0.002108705695718527, 0.002108705695718527, 0.002108705695718527, 0.002108705695718527, 0.002108705695718527, 0.002108705695718527, 0.002108705695718527, 0.002108705695718527, 0.002108705695718527, 0.002108705695718527, 0.002108705695718527, 0.002108705695718527, 0.002108705695718527, 0.002108705695718527, 0.002108705695718527, 0.002108705695718527, 0.002108705695718527, 0.002108705695718527, 0.002108705695718527, 0.002108705695718527, 0.002108705695718527, 0.002108705695718527, 0.002108705695718527, 0.002108705695718527, 0.002108705695718527, 0.002108705695718527, 0.002108705695718527, 0.002108705695718527, 0.002108705695718527, 0.002108705695718527, 0.002108705695718527, 0.002108705695718527, 0.002108705695718527, 0.002108705695718527, 0.002108705695718527, 0.002108705695718527, 0.002108705695718527, 0.002108705695718527, 0.002108705695718527, 0.002108705695718527, 0.002108705695718527, 0.002108705695718527, 0.002108705695718527, 0.002108705695718527, 0.002108705695718527, 0.002108705695718527, 0.002108705695718527, 0.002108705695718527, 0.002108705695718527, 0.002108705695718527, 0.002108705695718527, 0.002108705695718527, 0.002108705695718527, 0.002108705695718527, 0.002108705695718527, 0.002108705695718527, 0.002108705695718527, 0.002108705695718527, 0.002108705695718527, 0.002108705695718527, 0.002108705695718527, 0.002108705695718527, 0.002108705695718527, 0.002108705695718527, 0.002108705695718527, 0.002108705695718527, 0.002108705695718527, 0.002108705695718527, 0.002108705695718527, 0.002108705695718527, 0.002108705695718527, 0.002108705695718527, 0.002108705695718527, 0.002108705695718527, 0.002108705695718527, 0.002108705695718527, 0.002108705695718527, 0.002108705695718527, 0.002108705695718527, 0.002108705695718527, 0.002108705695718527, 0.002108705695718527, 0.002108705695718527, 0.002108705695718527, 0.002108705695718527, 0.002108705695718527, 0.002108705695718527, 0.002108705695718527, 0.002108705695718527, 0.002108705695718527, 0.002108705695718527, 0.002108705695718527, 0.002108705695718527, 0.002108705695718527, 0.002108705695718527, 0.002108705695718527, 0.002108705695718527, 0.002108705695718527, 0.002108705695718527, 0.002108705695718527, 0.002108705695718527, 0.002108705695718527, 0.002108705695718527, 0.002108705695718527, 0.002108705695718527, 0.002108705695718527, 0.002108705695718527, 0.002108705695718527, 0.002108705695718527, 0.002108705695718527, 0.002108705695718527, 0.002108705695718527, 0.002108705695718527, 0.002108705695718527, 0.002108705695718527, 0.002108705695718527, 0.002108705695718527, 0.002108705695718527, 0.002108705695718527, 0.002108705695718527, 0.002108705695718527, 0.002108705695718527, 0.002108705695718527, 0.002108705695718527, 0.002108705695718527, 0.002108705695718527, 0.002108705695718527, 0.002108705695718527, 0.002108705695718527, 0.002108705695718527, 0.002108705695718527, 0.002108705695718527, 0.002108705695718527, 0.002108705695718527, 0.002108705695718527, 0.002108705695718527, 0.002108705695718527, 0.002108705695718527, 0.002108705695718527, 0.002108705695718527, 0.002108705695718527, 0.002108705695718527, 0.002108705695718527, 0.002108705695718527, 0.002108705695718527, 0.002108705695718527, 0.002108705695718527, 0.002108705695718527, 0.002108705695718527, 0.002108705695718527, 0.002108705695718527, 0.002108705695718527, 0.002108705695718527, 0.002108705695718527, 0.002108705695718527, 0.002108705695718527, 0.002108705695718527, 0.002108705695718527, 0.002108705695718527, 0.002108705695718527, 0.002108705695718527, 0.002108705695718527, 0.002108705695718527, 0.002108705695718527, 0.002108705695718527, 0.002108705695718527, 0.002108705695718527, 0.002108705695718527, 0.002108705695718527, 0.002108705695718527, 0.002108705695718527, 0.002108705695718527, 0.002108705695718527, 0.002108705695718527, 0.002108705695718527, 0.002108705695718527, 0.002108705695718527, 0.002108705695718527, 0.002108705695718527, 0.002108705695718527, 0.002108705695718527, 0.002108705695718527, 0.002108705695718527, 0.002108705695718527, 0.002108705695718527, 0.002108705695718527, 0.002108705695718527, 0.002108705695718527, 0.002108705695718527, 0.002108705695718527, 0.002108705695718527, 0.002108705695718527, 0.002108705695718527, 0.002108705695718527, 0.002108705695718527, 0.002108705695718527, 0.002108705695718527, 0.002108705695718527, 0.002108705695718527, 0.002108705695718527, 0.002108705695718527, 0.002108705695718527, 0.002108705695718527, 0.002108705695718527, 0.002108705695718527, 0.002108705695718527, 0.002108705695718527, 0.002108705695718527, 0.002108705695718527, 0.002108705695718527, 0.002108705695718527, 0.002108705695718527, 0.002108705695718527, 0.002108705695718527, 0.002108705695718527, 0.002108705695718527, 0.002108705695718527, 0.002108705695718527, 0.002108705695718527, 0.002108705695718527, 0.002108705695718527, 0.002108705695718527, 0.002108705695718527, 0.002108705695718527, 0.002108705695718527, 0.002108705695718527, 0.002108705695718527, 0.002108705695718527, 0.002108705695718527, 0.002108705695718527, 0.002108705695718527, 0.002108705695718527, 0.002108705695718527, 0.002108705695718527, 0.002108705695718527, 0.002108705695718527, 0.002108705695718527, 0.002108705695718527, 0.002108705695718527, 0.002108705695718527, 0.002108705695718527, 0.002108705695718527, 0.002108705695718527, 0.002108705695718527, 0.002108705695718527, 0.002108705695718527, 0.002108705695718527, 0.002108705695718527, 0.002108705695718527, 0.002108705695718527, 0.002108705695718527, 0.002108705695718527, 0.002108705695718527, 0.002108705695718527, 0.002108705695718527, 0.002108705695718527, 0.002108705695718527, 0.002108705695718527, 0.002108705695718527, 0.002108705695718527, 0.002108705695718527, 0.002108705695718527, 0.002108705695718527, 0.002108705695718527, 0.002108705695718527, 0.002108705695718527, 0.002108705695718527, 0.002108705695718527, 0.002108705695718527, 0.002108705695718527, 0.002108705695718527, 0.002108705695718527, 0.002108705695718527, 0.002108705695718527, 0.002108705695718527, 0.002108705695718527, 0.002108705695718527, 0.002108705695718527, 0.002108705695718527, 0.002108705695718527, 0.002108705695718527, 0.002108705695718527, 0.002108705695718527, 0.002108705695718527, 0.002108705695718527, 0.002108705695718527, 0.002108705695718527, 0.002108705695718527, 0.002108705695718527, 0.002108705695718527, 0.002108705695718527, 0.002108705695718527, 0.002108705695718527, 0.002108705695718527, 0.002108705695718527, 0.002108705695718527, 0.002108705695718527, 0.002108705695718527, 0.002108705695718527, 0.002108705695718527, 0.002108705695718527, 0.002108705695718527, 0.002108705695718527, 0.002108705695718527, 0.002108705695718527, 0.002108705695718527, 0.002108705695718527, 0.002108705695718527, 0.002108705695718527, 0.002108705695718527, 0.002108705695718527, 0.002108705695718527, 0.002108705695718527, 0.002108705695718527, 0.002108705695718527, 0.002108705695718527, 0.002108705695718527, 0.002108705695718527, 0.002108705695718527, 0.002108705695718527, 0.002108705695718527, 0.002108705695718527, 0.002108705695718527, 0.002108705695718527, 0.002108705695718527, 0.002108705695718527, 0.002108705695718527, 0.002108705695718527, 0.002108705695718527, 0.002108705695718527, 0.002108705695718527, 0.002108705695718527, 0.002108705695718527, 0.002108705695718527, 0.002108705695718527, 0.002108705695718527, 0.002108705695718527, 0.002108705695718527, 0.002108705695718527, 0.002108705695718527, 0.002108705695718527, 0.002108705695718527, 0.002108705695718527, 0.002108705695718527, 0.002108705695718527, 0.002108705695718527, 0.002108705695718527, 0.002108705695718527, 0.002108705695718527, 0.002108705695718527, 0.002108705695718527, 0.002108705695718527, 0.002108705695718527, 0.002108705695718527, 0.002108705695718527, 0.002108705695718527, 0.002108705695718527, 0.002108705695718527, 0.002108705695718527, 0.002108705695718527, 0.002108705695718527, 0.002108705695718527, 0.002108705695718527, 0.002108705695718527, 0.002108705695718527, 0.002108705695718527, 0.002108705695718527, 0.002108705695718527, 0.002108705695718527, 0.002108705695718527, 0.002108705695718527, 0.002108705695718527, 0.002108705695718527, 0.002108705695718527, 0.002108705695718527, 0.002108705695718527, 0.002108705695718527, 0.002108705695718527, 0.002108705695718527, 0.002108705695718527, 0.002108705695718527, 0.002108705695718527, 0.002108705695718527, 0.002108705695718527, 0.002108705695718527, 0.002108705695718527, 0.002108705695718527, 0.002108705695718527, 0.002108705695718527, 0.002108705695718527, 0.002108705695718527, 0.002108705695718527, 0.002108705695718527, 0.002108705695718527, 0.002108705695718527, 0.002108705695718527, 0.002108705695718527, 0.002108705695718527, 0.002108705695718527, 0.002108705695718527, 0.002108705695718527, 0.002108705695718527, 0.002108705695718527, 0.002108705695718527, 0.002108705695718527, 0.002108705695718527, 0.002108705695718527, 0.002108705695718527, 0.002108705695718527, 0.002108705695718527, 0.002108705695718527, 0.002108705695718527, 0.002108705695718527, 0.002108705695718527, 0.002108705695718527, 0.002108705695718527, 0.002108705695718527, 0.002108705695718527, 0.002108705695718527, 0.002108705695718527, 0.002108705695718527, 0.002108705695718527, 0.002108705695718527, 0.002108705695718527, 0.002108705695718527, 0.002108705695718527, 0.002108705695718527, 0.002108705695718527, 0.002108705695718527, 0.002108705695718527, 0.002108705695718527, 0.002108705695718527, 0.002108705695718527, 0.002108705695718527, 0.002108705695718527, 0.002108705695718527, 0.002108705695718527, 0.002108705695718527, 0.002108705695718527, 0.002108705695718527, 0.002108705695718527, 0.002108705695718527, 0.002108705695718527, 0.002108705695718527, 0.002108705695718527, 0.002108705695718527, 0.002108705695718527, 0.002108705695718527, 0.002108705695718527, 0.002108705695718527, 0.002108705695718527, 0.002108705695718527, 0.002108705695718527, 0.002108705695718527, 0.002108705695718527, 0.002108705695718527, 0.002108705695718527, 0.002108705695718527, 0.002108705695718527, 0.002108705695718527, 0.002108705695718527, 0.002108705695718527, 0.002108705695718527, 0.002108705695718527, 0.002108705695718527, 0.002108705695718527, 0.002108705695718527, 0.002108705695718527, 0.002108705695718527, 0.002108705695718527, 0.002108705695718527, 0.002108705695718527, 0.002108705695718527, 0.002108705695718527, 0.002108705695718527, 0.002108705695718527, 0.002108705695718527, 0.002108705695718527, 0.002108705695718527, 0.002108705695718527, 0.002108705695718527, 0.002108705695718527, 0.002108705695718527, 0.002108705695718527, 0.002108705695718527, 0.002108705695718527, 0.002108705695718527, 0.002108705695718527, 0.002108705695718527, 0.002108705695718527, 0.002108705695718527, 0.002108705695718527, 0.002108705695718527, 0.002108705695718527, 0.002108705695718527, 0.002108705695718527, 0.002108705695718527, 0.002108705695718527, 0.002108705695718527, 0.002108705695718527, 0.002108705695718527, 0.002108705695718527, 0.002108705695718527, 0.002108705695718527, 0.002108705695718527, 0.002108705695718527, 0.002108705695718527, 0.002108705695718527, 0.002108705695718527, 0.002108705695718527, 0.002108705695718527, 0.002108705695718527, 0.002108705695718527, 0.002108705695718527, 0.002108705695718527, 0.002108705695718527, 0.002108705695718527, 0.002108705695718527, 0.002108705695718527, 0.002108705695718527, 0.002108705695718527, 0.002108705695718527, 0.002108705695718527, 0.002108705695718527, 0.002108705695718527, 0.002108705695718527, 0.002108705695718527, 0.002108705695718527, 0.002108705695718527, 0.002108705695718527, 0.002108705695718527, 0.002108705695718527, 0.002108705695718527, 0.002108705695718527, 0.002108705695718527, 0.002108705695718527, 0.002108705695718527, 0.002108705695718527, 0.002108705695718527, 0.002108705695718527, 0.002108705695718527, 0.002108705695718527, 0.002108705695718527, 0.002108705695718527, 0.002108705695718527, 0.002108705695718527, 0.002108705695718527, 0.002108705695718527, 0.002108705695718527, 0.002108705695718527, 0.002108705695718527, 0.002108705695718527, 0.002108705695718527, 0.002108705695718527, 0.002108705695718527, 0.002108705695718527, 0.002108705695718527, 0.002108705695718527, 0.002108705695718527, 0.002108705695718527, 0.002108705695718527, 0.002108705695718527, 0.002108705695718527, 0.002108705695718527, 0.002108705695718527, 0.002108705695718527, 0.002108705695718527, 0.002108705695718527, 0.002108705695718527, 0.002108705695718527, 0.002108705695718527, 0.002108705695718527, 0.002108705695718527, 0.002108705695718527, 0.002108705695718527, 0.002108705695718527, 0.002108705695718527, 0.002108705695718527, 0.002108705695718527, 0.002108705695718527, 0.002108705695718527, 0.002108705695718527, 0.002108705695718527, 0.002108705695718527, 0.002108705695718527, 0.002108705695718527, 0.002108705695718527, 0.002108705695718527, 0.002108705695718527, 0.002108705695718527, 0.002108705695718527, 0.002108705695718527, 0.002108705695718527, 0.002108705695718527, 0.002108705695718527, 0.002108705695718527, 0.002108705695718527, 0.002108705695718527, 0.002108705695718527, 0.002108705695718527, 0.002108705695718527, 0.002108705695718527, 0.002108705695718527, 0.002108705695718527, 0.002108705695718527, 0.002108705695718527, 0.002108705695718527, 0.002108705695718527, 0.002108705695718527, 0.002108705695718527, 0.002108705695718527, 0.002108705695718527, 0.002108705695718527, 0.002108705695718527, 0.002108705695718527, 0.002108705695718527, 0.002108705695718527, 0.002108705695718527, 0.002108705695718527, 0.002108705695718527, 0.002108705695718527, 0.002108705695718527, 0.002108705695718527, 0.002108705695718527, 0.002108705695718527, 0.002108705695718527, 0.002108705695718527, 0.002108705695718527, 0.002108705695718527, 0.002108705695718527, 0.002108705695718527, 0.002108705695718527, 0.002108705695718527, 0.002108705695718527, 0.002108705695718527, 0.002108705695718527, 0.002108705695718527, 0.002108705695718527, 0.002108705695718527, 0.002108705695718527, 0.002108705695718527, 0.002108705695718527, 0.002108705695718527, 0.002108705695718527, 0.002108705695718527, 0.002108705695718527, 0.002108705695718527, 0.002108705695718527, 0.002108705695718527, 0.002108705695718527, 0.002108705695718527, 0.002108705695718527, 0.002108705695718527, 0.002108705695718527, 0.002108705695718527, 0.002108705695718527, 0.002108705695718527, 0.002108705695718527, 0.002108705695718527, 0.002108705695718527, 0.002108705695718527, 0.002108705695718527, 0.002108705695718527, 0.002108705695718527, 0.002108705695718527, 0.002108705695718527, 0.002108705695718527, 0.002108705695718527, 0.002108705695718527, 0.002108705695718527, 0.002108705695718527, 0.002108705695718527, 0.002108705695718527, 0.002108705695718527, 0.002108705695718527, 0.002108705695718527, 0.002108705695718527, 0.002108705695718527, 0.002108705695718527, 0.002108705695718527, 0.002108705695718527, 0.002108705695718527, 0.002108705695718527, 0.002108705695718527, 0.002108705695718527, 0.002108705695718527, 0.002108705695718527, 0.002108705695718527, 0.002108705695718527, 0.002108705695718527, 0.002108705695718527, 0.002108705695718527, 0.002108705695718527, 0.002108705695718527, 0.002108705695718527, 0.002108705695718527, 0.002108705695718527, 0.002108705695718527, 0.002108705695718527, 0.002108705695718527, 0.002108705695718527, 0.002108705695718527, 0.002108705695718527, 0.002108705695718527, 0.002108705695718527, 0.002108705695718527, 0.002108705695718527, 0.002108705695718527, 0.002108705695718527, 0.002108705695718527, 0.002108705695718527, 0.002108705695718527, 0.002108705695718527, 0.002108705695718527, 0.002108705695718527, 0.002108705695718527, 0.002108705695718527, 0.002108705695718527, 0.002108705695718527, 0.002108705695718527, 0.002108705695718527, 0.002108705695718527, 0.002108705695718527, 0.002108705695718527, 0.002108705695718527, 0.002108705695718527, 0.002108705695718527, 0.002108705695718527, 0.002108705695718527, 0.002108705695718527, 0.002108705695718527, 0.002108705695718527, 0.002108705695718527, 0.002108705695718527, 0.002108705695718527, 0.002108705695718527, 0.002108705695718527, 0.002108705695718527, 0.002108705695718527, 0.002108705695718527, 0.002108705695718527, 0.002108705695718527, 0.002108705695718527, 0.002108705695718527, 0.002108705695718527, 0.002108705695718527, 0.002108705695718527, 0.002108705695718527, 0.002108705695718527, 0.002108705695718527, 0.002108705695718527, 0.002108705695718527, 0.002108705695718527, 0.002108705695718527, 0.002108705695718527, 0.002108705695718527, 0.002108705695718527, 0.002108705695718527, 0.002108705695718527, 0.002108705695718527, 0.002108705695718527, 0.002108705695718527, 0.002108705695718527, 0.002108705695718527, 0.002108705695718527, 0.002108705695718527, 0.002108705695718527, 0.002108705695718527, 0.002108705695718527, 0.002108705695718527, 0.002108705695718527, 0.002108705695718527, 0.002108705695718527, 0.002108705695718527, 0.002108705695718527, 0.002108705695718527, 0.002108705695718527, 0.002108705695718527, 0.002108705695718527, 0.002108705695718527, 0.002108705695718527, 0.002108705695718527, 0.002108705695718527, 0.002108705695718527, 0.002108705695718527, 0.002108705695718527, 0.002108705695718527, 0.002108705695718527, 0.002108705695718527, 0.002108705695718527, 0.002108705695718527, 0.002108705695718527, 0.002108705695718527, 0.002108705695718527, 0.002108705695718527, 0.002108705695718527, 0.002108705695718527, 0.002108705695718527, 0.002108705695718527, 0.002108705695718527, 0.002108705695718527, 0.002108705695718527, 0.002108705695718527, 0.002108705695718527, 0.002108705695718527, 0.002108705695718527, 0.002108705695718527, 0.002108705695718527, 0.002108705695718527, 0.002108705695718527, 0.002108705695718527, 0.002108705695718527, 0.002108705695718527, 0.002108705695718527, 0.002108705695718527, 0.002108705695718527, 0.002108705695718527, 0.002108705695718527, 0.002108705695718527, 0.002108705695718527, 0.002108705695718527, 0.002108705695718527, 0.002108705695718527, 0.002108705695718527, 0.002108705695718527, 0.002108705695718527, 0.002108705695718527, 0.002108705695718527, 0.002108705695718527, 0.002108705695718527, 0.002108705695718527, 0.002108705695718527, 0.002108705695718527, 0.002108705695718527, 0.002108705695718527, 0.002108705695718527, 0.002108705695718527, 0.002108705695718527, 0.002108705695718527, 0.002108705695718527, 0.002108705695718527, 0.002108705695718527, 0.002108705695718527, 0.002108705695718527, 0.002108705695718527, 0.002108705695718527, 0.002108705695718527, 0.002108705695718527, 0.002108705695718527, 0.002108705695718527, 0.002108705695718527, 0.002108705695718527, 0.002108705695718527, 0.002108705695718527, 0.002108705695718527, 0.002108705695718527, 0.002108705695718527, 0.002108705695718527, 0.002108705695718527, 0.002108705695718527, 0.002108705695718527, 0.002108705695718527, 0.002108705695718527, 0.002108705695718527, 0.002108705695718527, 0.002108705695718527, 0.002108705695718527, 0.002108705695718527, 0.002108705695718527, 0.002108705695718527, 0.002108705695718527, 0.002108705695718527, 0.002108705695718527, 0.002108705695718527, 0.002108705695718527, 0.002108705695718527, 0.002108705695718527, 0.002108705695718527, 0.002108705695718527, 0.002108705695718527, 0.002108705695718527, 0.002108705695718527, 0.002108705695718527, 0.002108705695718527, 0.002108705695718527, 0.002108705695718527, 0.002108705695718527, 0.002108705695718527, 0.002108705695718527, 0.002108705695718527, 0.002108705695718527, 0.002108705695718527, 0.002108705695718527, 0.002108705695718527, 0.002108705695718527, 0.002108705695718527, 0.002108705695718527, 0.002108705695718527, 0.002108705695718527, 0.002108705695718527, 0.002108705695718527, 0.002108705695718527, 0.002108705695718527, 0.002108705695718527, 0.002108705695718527, 0.002108705695718527, 0.002108705695718527, 0.002108705695718527, 0.002108705695718527, 0.002108705695718527, 0.002108705695718527, 0.002108705695718527, 0.002108705695718527, 0.002108705695718527, 0.002108705695718527, 0.002108705695718527, 0.002108705695718527, 0.002108705695718527, 0.002108705695718527, 0.002108705695718527, 0.002108705695718527, 0.002108705695718527, 0.002108705695718527, 0.002108705695718527, 0.002108705695718527, 0.002108705695718527, 0.002108705695718527, 0.002108705695718527, 0.002108705695718527, 0.002108705695718527, 0.002108705695718527, 0.002108705695718527, 0.002108705695718527, 0.002108705695718527, 0.002108705695718527, 0.002108705695718527, 0.002108705695718527, 0.002108705695718527, 0.002108705695718527, 0.002108705695718527, 0.002108705695718527, 0.002108705695718527, 0.002108705695718527, 0.002108705695718527], \"flags_in\": [1.0, 1.0, 1.0, 1.0, 1.0, 1.0, 1.0, 1.0, 1.0, 1.0, 1.0, 1.0, 1.0, 1.0, 1.0, 1.0, 1.0, 1.0, 1.0, 1.0, 1.0, 1.0, 1.0, 1.0, 1.0, 1.0, 1.0, 1.0, 1.0, 1.0, 1.0, 1.0, 1.0, 1.0, 1.0, 1.0, 1.0, 1.0, 1.0, 1.0, 1.0, 1.0, 1.0, 1.0, 1.0, 1.0, 1.0, 1.0, 1.0, 1.0, 1.0, 1.0, 1.0, 1.0, 1.0, 1.0, 1.0, 1.0, 1.0, 1.0, 1.0, 1.0, 1.0, 1.0, 1.0, 1.0, 1.0, 1.0, 1.0, 1.0, 1.0, 1.0, 1.0, 1.0, 1.0, 1.0, 1.0, 1.0, 1.0, 1.0, 1.0, 1.0, 1.0, 1.0, 1.0, 1.0, 1.0, 1.0, 1.0, 1.0, 1.0, 1.0, 1.0, 1.0, 1.0, 1.0, 1.0, 1.0, 1.0, 1.0, 1.0, 1.0, 1.0, 1.0, 1.0, 1.0, 1.0, 1.0, 1.0, 1.0, 1.0, 1.0, 1.0, 1.0, 1.0, 1.0, 1.0, 1.0, 1.0, 1.0, 1.0, 1.0, 1.0, 1.0, 1.0, 1.0, 1.0, 1.0, 1.0, 1.0, 1.0, 1.0, 1.0, 1.0, 1.0, 1.0, 1.0, 1.0, 1.0, 1.0, 1.0, 1.0, 1.0, 1.0, 1.0, 1.0, 1.0, 1.0, 1.0, 1.0, 1.0, 1.0, 1.0, 1.0, 1.0, 1.0, 1.0, 1.0, 1.0, 1.0, 1.0, 1.0, 1.0, 1.0, 1.0, 1.0, 1.0, 1.0, 1.0, 1.0, 1.0, 1.0, 1.0, 1.0, 1.0, 1.0, 1.0, 1.0, 1.0, 1.0, 1.0, 1.0, 1.0, 1.0, 1.0, 1.0, 1.0, 1.0, 1.0, 1.0, 1.0, 1.0, 1.0, 1.0, 1.0, 1.0, 1.0, 1.0, 1.0, 1.0, 1.0, 1.0, 1.0, 1.0, 1.0, 1.0, 1.0, 1.0, 1.0, 1.0, 1.0, 1.0, 1.0, 1.0, 1.0, 1.0, 1.0, 1.0, 1.0, 1.0, 1.0, 1.0, 1.0, 1.0, 1.0, 1.0, 1.0, 1.0, 1.0, 1.0, 1.0, 1.0, 1.0, 1.0, 1.0, 1.0, 1.0, 1.0, 1.0, 1.0, 1.0, 1.0, 1.0, 1.0, 1.0, 1.0, 1.0, 1.0, 1.0, 1.0, 1.0, 1.0, 1.0, 1.0, 1.0, 1.0, 1.0, 1.0, 1.0, 1.0, 1.0, 1.0, 1.0, 1.0, 1.0, 1.0, 1.0, 1.0, 1.0, 1.0, 1.0, 1.0, 1.0, 1.0, 1.0, 1.0, 1.0, 1.0, 1.0, 1.0, 1.0, 1.0, 1.0, 1.0, 1.0, 1.0, 1.0, 1.0, 1.0, 1.0, 1.0, 1.0, 1.0, 1.0, 1.0, 1.0, 1.0, 1.0, 1.0, 1.0, 1.0, 1.0, 1.0, 1.0, 1.0, 1.0, 1.0, 1.0, 1.0, 1.0, 1.0, 1.0, 1.0, 1.0, 1.0, 1.0, 1.0, 1.0, 1.0, 1.0, 1.0, 1.0, 1.0, 1.0, 1.0, 1.0, 1.0, 1.0, 1.0, 1.0, 1.0, 1.0, 1.0, 1.0, 1.0, 1.0, 1.0, 1.0, 1.0, 1.0, 1.0, 1.0, 1.0, 1.0, 1.0, 1.0, 1.0, 1.0, 1.0, 1.0, 1.0, 1.0, 1.0, 1.0, 1.0, 1.0, 1.0, 1.0, 1.0, 1.0, 1.0, 1.0, 1.0, 1.0, 1.0, 1.0, 1.0, 1.0, 1.0, 1.0, 1.0, 1.0, 1.0, 1.0, 1.0, 1.0, 1.0, 1.0, 1.0, 1.0, 1.0, 1.0, 1.0, 1.0, 1.0, 1.0, 1.0, 1.0, 1.0, 1.0, 1.0, 1.0, 1.0, 1.0, 1.0, 1.0, 1.0, 1.0, 1.0, 1.0, 1.0, 1.0, 1.0, 1.0, 1.0, 1.0, 1.0, 1.0, 1.0, 1.0, 1.0, 1.0, 1.0, 1.0, 1.0, 1.0, 1.0, 1.0, 1.0, 1.0, 1.0, 1.0, 1.0, 1.0, 1.0, 1.0, 1.0, 1.0, 1.0, 1.0, 1.0, 1.0, 1.0, 1.0, 1.0, 1.0, 1.0, 1.0, 1.0, 1.0, 1.0, 1.0, 1.0, 1.0, 1.0, 1.0, 1.0, 1.0, 1.0, 1.0, 1.0, 1.0, 1.0, 1.0, 1.0, 1.0, 1.0, 1.0, 1.0, 1.0, 1.0, 1.0, 1.0, 1.0, 1.0, 1.0, 1.0, 1.0, 1.0, 1.0, 1.0, 1.0, 1.0, 1.0, 1.0, 1.0, 1.0, 1.0, 1.0, 1.0, 1.0, 1.0, 1.0, 1.0, 1.0, 1.0, 1.0, 1.0, 1.0, 1.0, 1.0, 1.0, 1.0, 1.0, 1.0, 1.0, 1.0, 1.0, 1.0, 1.0, 1.0, 1.0, 1.0, 1.0, 1.0, 1.0, 1.0, 1.0, 1.0, 1.0, 1.0, 1.0, 1.0, 1.0, 1.0, 1.0, 1.0, 1.0, 1.0, 1.0, 1.0, 1.0, 1.0, 1.0, 1.0, 1.0, 1.0, 1.0, 1.0, 1.0, 1.0, 1.0, 1.0, 1.0, 1.0, 1.0, 1.0, 1.0, 1.0, 1.0, 1.0, 1.0, 1.0, 1.0, 1.0, 1.0, 1.0, 1.0, 1.0, 1.0, 1.0, 1.0, 1.0, 1.0, 1.0, 1.0, 1.0, 1.0, 1.0, 1.0, 1.0, 1.0, 1.0, 1.0, 1.0, 1.0, 1.0, 1.0, 1.0, 1.0, 1.0, 1.0, 1.0, 1.0, 1.0, 1.0, 1.0, 1.0, 1.0, 1.0, 1.0, 1.0, 1.0, 1.0, 1.0, 1.0, 1.0, 1.0, 1.0, 1.0, 1.0, 1.0, 1.0, 1.0, 1.0, 1.0, 1.0, 1.0, 1.0, 1.0, 1.0, 1.0, 1.0, 1.0, 1.0, 1.0, 1.0, 1.0, 1.0, 1.0, 1.0, 1.0, 1.0, 1.0, 1.0, 1.0, 1.0, 1.0, 1.0, 1.0, 1.0, 1.0, 1.0, 1.0, 1.0, 1.0, 1.0, 1.0, 1.0, 1.0, 1.0, 1.0, 1.0, 1.0, 1.0, 1.0, 1.0, 1.0, 1.0, 1.0, 1.0, 1.0, 1.0, 1.0, 1.0, 1.0, 1.0, 1.0, 1.0, 1.0, 1.0, 1.0, 1.0, 1.0, 1.0, 1.0, 1.0, 1.0, 1.0, 1.0, 1.0, 1.0, 1.0, 1.0, 1.0, 1.0, 1.0, 1.0, 1.0, 1.0, 1.0, 1.0, 1.0, 1.0, 1.0, 1.0, 1.0, 1.0, 1.0, 1.0, 1.0, 1.0, 1.0, 1.0, 1.0, 1.0, 1.0, 1.0, 1.0, 1.0, 1.0, 1.0, 1.0, 1.0, 1.0, 1.0, 1.0, 1.0, 1.0, 1.0, 1.0, 1.0, 1.0, 1.0, 1.0, 1.0, 1.0, 1.0, 1.0, 1.0, 1.0, 1.0, 1.0, 1.0, 1.0, 1.0, 1.0, 1.0, 1.0, 1.0, 1.0, 1.0, 1.0, 1.0, 1.0, 1.0, 1.0, 1.0, 1.0, 1.0, 1.0, 1.0, 1.0, 1.0, 1.0, 1.0, 1.0, 1.0, 1.0, 1.0, 1.0, 1.0, 1.0, 1.0, 1.0, 1.0, 1.0, 1.0, 1.0, 1.0, 1.0, 1.0, 1.0, 1.0, 1.0, 1.0, 1.0, 1.0, 1.0, 1.0, 1.0, 1.0, 1.0, 1.0, 1.0, 1.0, 1.0, 1.0, 1.0, 1.0, 1.0, 1.0, 1.0, 1.0, 1.0, 1.0, 1.0, 1.0, 1.0, 1.0, 1.0, 1.0, 1.0, 1.0, 1.0, 1.0, 1.0, 1.0, 1.0, 1.0, 1.0, 1.0, 1.0, 1.0, 1.0, 1.0, 1.0, 1.0, 1.0, 1.0, 1.0, 1.0, 1.0, 1.0, 1.0, 1.0, 1.0, 1.0, 1.0, 1.0, 1.0, 1.0, 1.0, 1.0, 1.0, 1.0, 1.0, 1.0, 1.0, 1.0, 1.0, 1.0, 1.0, 1.0, 1.0, 1.0, 1.0, 1.0, 1.0, 1.0, 1.0, 1.0, 1.0, 1.0, 1.0, 1.0, 1.0, 1.0, 1.0, 1.0, 1.0, 1.0, 1.0, 1.0, 1.0, 1.0, 1.0, 1.0, 1.0, 1.0, 1.0, 1.0, 1.0, 1.0, 1.0, 1.0, 1.0, 1.0, 1.0, 1.0, 1.0, 1.0, 1.0, 1.0, 1.0, 1.0, 1.0, 1.0, 1.0, 1.0, 1.0, 1.0, 1.0, 1.0, 1.0, 1.0, 1.0, 1.0, 1.0, 1.0, 1.0, 1.0, 1.0, 1.0, 1.0, 1.0, 1.0, 1.0, 1.0, 1.0, 1.0, 1.0, 1.0, 1.0, 1.0, 1.0, 1.0, 1.0, 1.0, 1.0, 1.0, 1.0, 1.0, 1.0, 1.0, 1.0, 1.0, 1.0, 1.0, 1.0, 1.0, 1.0, 1.0, 1.0, 1.0, 1.0, 1.0, 1.0, 1.0, 1.0, 1.0, 1.0, 1.0, 1.0, 1.0, 1.0, 1.0, 1.0, 1.0, 1.0, 1.0, 1.0, 1.0, 1.0, 1.0, 1.0, 1.0, 1.0, 1.0, 1.0, 1.0, 1.0, 1.0, 1.0, 1.0, 1.0, 1.0, 1.0, 1.0, 1.0, 1.0, 1.0, 1.0, 1.0, 1.0, 1.0, 1.0, 1.0, 1.0, 1.0, 1.0, 1.0, 1.0, 1.0, 1.0, 1.0, 1.0, 1.0, 1.0, 1.0, 1.0, 1.0, 1.0, 1.0, 1.0, 1.0, 1.0, 1.0, 1.0, 1.0, 1.0, 1.0, 1.0, 1.0, 1.0, 1.0, 1.0, 1.0, 1.0, 1.0, 1.0, 1.0, 1.0, 1.0, 1.0, 1.0, 1.0, 1.0, 1.0, 1.0, 1.0, 1.0, 1.0, 1.0, 1.0, 1.0, 1.0, 1.0, 1.0, 1.0, 1.0, 1.0, 1.0, 1.0, 1.0, 1.0, 1.0, 1.0, 1.0, 1.0, 1.0, 1.0, 1.0, 1.0, 1.0, 1.0, 1.0, 1.0, 1.0, 1.0, 1.0, 1.0, 1.0, 1.0, 1.0, 1.0, 1.0, 1.0, 1.0, 1.0, 1.0, 1.0, 1.0, 1.0, 1.0, 1.0, 1.0, 1.0, 1.0, 1.0, 1.0, 1.0, 1.0, 1.0, 1.0, 1.0, 1.0, 1.0, 1.0, 1.0, 1.0, 1.0, 1.0, 1.0, 1.0, 1.0, 1.0, 1.0, 1.0, 1.0, 1.0, 1.0, 1.0, 1.0, 1.0, 1.0, 1.0, 1.0, 1.0, 1.0, 1.0, 1.0, 1.0, 1.0, 1.0, 1.0, 1.0, 1.0, 1.0, 1.0, 1.0, 1.0, 1.0, 1.0, 1.0, 1.0, 1.0, 1.0, 1.0, 1.0, 1.0, 1.0, 1.0, 1.0, 1.0, 1.0, 1.0, 1.0, 1.0, 1.0, 1.0, 1.0, 1.0, 1.0, 1.0, 1.0, 1.0, 1.0, 1.0, 1.0, 1.0, 1.0, 1.0, 1.0, 1.0, 1.0, 1.0, 1.0, 1.0, 1.0, 1.0, 1.0, 1.0, 1.0, 1.0, 1.0, 1.0, 1.0, 1.0, 1.0, 1.0, 1.0, 1.0, 1.0, 1.0, 1.0, 1.0, 1.0, 1.0, 1.0, 1.0, 1.0, 1.0, 1.0, 1.0, 1.0, 1.0, 1.0, 1.0, 1.0, 1.0, 1.0, 1.0, 1.0, 1.0, 1.0, 1.0, 1.0, 1.0, 1.0, 1.0, 1.0, 1.0, 1.0, 1.0, 1.0, 1.0, 1.0, 1.0, 1.0, 1.0, 1.0, 1.0, 1.0, 1.0, 1.0, 1.0, 1.0, 1.0, 1.0]}, \"output\": {\"flags_out\": [4.0, 4.0, 4.0, 4.0, 4.0, 4.0, 4.0, 4.0, 4.0, 4.0, 4.0, 4.0, 4.0, 4.0, 4.0, 4.0, 4.0, 4.0, 4.0, 4.0, 4.0, 4.0, 4.0, 4.0, 4.0, 4.0, 4.0, 4.0, 4.0, 4.0, 4.0, 4.0, 4.0, 4.0, 4.0, 4.0, 4.0, 4.0, 4.0, 4.0, 4.0, 4.0, 4.0, 4.0, 4.0, 4.0, 4.0, 4.0, 4.0, 4.0, 4.0, 4.0, 4.0, 4.0, 4.0, 4.0, 4.0, 4.0, 4.0, 4.0, 4.0, 4.0, 4.0, 4.0, 4.0, 4.0, 4.0, 4.0, 4.0, 4.0, 4.0, 4.0, 4.0, 4.0, 4.0, 4.0, 4.0, 4.0, 4.0, 4.0, 4.0, 4.0, 4.0, 4.0, 4.0, 4.0, 4.0, 4.0, 4.0, 4.0, 4.0, 4.0, 4.0, 4.0, 4.0, 4.0, 4.0, 4.0, 4.0, 4.0, 4.0, 4.0, 4.0, 4.0, 4.0, 4.0, 4.0, 4.0, 4.0, 4.0, 4.0, 4.0, 4.0, 4.0, 4.0, 4.0, 4.0, 4.0, 4.0, 4.0, 4.0, 4.0, 4.0, 4.0, 4.0, 4.0, 4.0, 4.0, 4.0, 4.0, 4.0, 4.0, 4.0, 4.0, 4.0, 4.0, 4.0, 4.0, 4.0, 4.0, 4.0, 4.0, 4.0, 4.0, 4.0, 4.0, 4.0, 4.0, 4.0, 4.0, 4.0, 4.0, 4.0, 4.0, 4.0, 4.0, 4.0, 4.0, 4.0, 4.0, 4.0, 4.0, 4.0, 4.0, 4.0, 4.0, 4.0, 4.0, 4.0, 4.0, 4.0, 4.0, 4.0, 4.0, 4.0, 4.0, 4.0, 4.0, 4.0, 4.0, 4.0, 4.0, 4.0, 4.0, 4.0, 4.0, 4.0, 4.0, 4.0, 4.0, 4.0, 4.0, 4.0, 4.0, 4.0, 4.0, 4.0, 4.0, 4.0, 4.0, 4.0, 4.0, 4.0, 4.0, 4.0, 4.0, 4.0, 4.0, 4.0, 4.0, 4.0, 4.0, 4.0, 4.0, 4.0, 4.0, 4.0, 4.0, 4.0, 4.0, 4.0, 4.0, 4.0, 4.0, 4.0, 4.0, 4.0, 4.0, 4.0, 4.0, 4.0, 4.0, 4.0, 4.0, 4.0, 4.0, 4.0, 4.0, 4.0, 4.0, 4.0, 4.0, 4.0, 4.0, 4.0, 4.0, 4.0, 4.0, 4.0, 4.0, 4.0, 4.0, 4.0, 4.0, 4.0, 4.0, 4.0, 4.0, 4.0, 4.0, 4.0, 4.0, 4.0, 4.0, 4.0, 4.0, 4.0, 4.0, 4.0, 4.0, 4.0, 4.0, 4.0, 4.0, 4.0, 4.0, 4.0, 4.0, 4.0, 4.0, 4.0, 4.0, 4.0, 4.0, 4.0, 4.0, 4.0, 4.0, 4.0, 4.0, 4.0, 4.0, 4.0, 4.0, 4.0, 4.0, 4.0, 4.0, 4.0, 4.0, 4.0, 4.0, 4.0, 4.0, 4.0, 4.0, 4.0, 4.0, 4.0, 4.0, 4.0, 4.0, 4.0, 4.0, 4.0, 4.0, 4.0, 4.0, 4.0, 4.0, 4.0, 4.0, 4.0, 4.0, 4.0, 4.0, 4.0, 4.0, 4.0, 4.0, 4.0, 4.0, 4.0, 4.0, 4.0, 4.0, 4.0, 4.0, 4.0, 4.0, 4.0, 4.0, 4.0, 4.0, 4.0, 4.0, 4.0, 4.0, 4.0, 4.0, 4.0, 4.0, 4.0, 4.0, 4.0, 4.0, 4.0, 4.0, 4.0, 4.0, 4.0, 4.0, 4.0, 4.0, 4.0, 4.0, 4.0, 4.0, 4.0, 4.0, 4.0, 4.0, 4.0, 4.0, 4.0, 4.0, 4.0, 4.0, 4.0, 4.0, 4.0, 4.0, 4.0, 4.0, 4.0, 4.0, 4.0, 4.0, 4.0, 4.0, 4.0, 4.0, 4.0, 4.0, 4.0, 4.0, 4.0, 4.0, 4.0, 4.0, 4.0, 4.0, 4.0, 4.0, 4.0, 4.0, 4.0, 4.0, 4.0, 4.0, 4.0, 4.0, 4.0, 4.0, 4.0, 4.0, 4.0, 4.0, 4.0, 4.0, 4.0, 4.0, 4.0, 4.0, 4.0, 4.0, 4.0, 4.0, 4.0, 4.0, 4.0, 4.0, 4.0, 4.0, 4.0, 4.0, 4.0, 4.0, 4.0, 4.0, 4.0, 4.0, 4.0, 4.0, 4.0, 4.0, 4.0, 4.0, 4.0, 4.0, 4.0, 4.0, 4.0, 4.0, 4.0, 4.0, 4.0, 4.0, 4.0, 4.0, 4.0, 4.0, 4.0, 4.0, 4.0, 4.0, 4.0, 4.0, 4.0, 4.0, 4.0, 4.0, 4.0, 4.0, 4.0, 4.0, 4.0, 4.0, 4.0, 4.0, 4.0, 4.0, 4.0, 4.0, 4.0, 4.0, 4.0, 4.0, 4.0, 4.0, 4.0, 4.0, 4.0, 4.0, 4.0, 4.0, 4.0, 4.0, 4.0, 4.0, 4.0, 4.0, 4.0, 4.0, 4.0, 4.0, 4.0, 4.0, 4.0, 4.0, 4.0, 4.0, 4.0, 4.0, 4.0, 4.0, 4.0, 4.0, 4.0, 4.0, 4.0, 4.0, 4.0, 4.0, 4.0, 4.0, 4.0, 4.0, 4.0, 4.0, 4.0, 4.0, 4.0, 4.0, 4.0, 4.0, 4.0, 4.0, 4.0, 4.0, 4.0, 4.0, 4.0, 4.0, 4.0, 4.0, 4.0, 4.0, 4.0, 4.0, 4.0, 4.0, 4.0, 4.0, 4.0, 4.0, 4.0, 4.0, 4.0, 4.0, 4.0, 4.0, 4.0, 4.0, 4.0, 4.0, 4.0, 4.0, 4.0, 4.0, 4.0, 4.0, 4.0, 4.0, 4.0, 4.0, 4.0, 4.0, 4.0, 4.0, 4.0, 4.0, 4.0, 4.0, 4.0, 4.0, 4.0, 4.0, 4.0, 4.0, 4.0, 4.0, 4.0, 4.0, 4.0, 4.0, 4.0, 4.0, 4.0, 4.0, 4.0, 4.0, 4.0, 4.0, 4.0, 4.0, 4.0, 4.0, 4.0, 4.0, 4.0, 4.0, 4.0, 4.0, 4.0, 4.0, 4.0, 4.0, 4.0, 4.0, 4.0, 4.0, 4.0, 4.0, 4.0, 4.0, 4.0, 4.0, 4.0, 4.0, 4.0, 4.0, 4.0, 4.0, 4.0, 4.0, 4.0, 4.0, 4.0, 4.0, 4.0, 4.0, 4.0, 4.0, 4.0, 4.0, 4.0, 4.0, 4.0, 4.0, 4.0, 4.0, 4.0, 4.0, 4.0, 4.0, 4.0, 4.0, 4.0, 4.0, 4.0, 4.0, 4.0, 4.0, 4.0, 4.0, 4.0, 4.0, 4.0, 4.0, 4.0, 4.0, 4.0, 4.0, 4.0, 4.0, 4.0, 4.0, 4.0, 4.0, 4.0, 4.0, 4.0, 4.0, 4.0, 4.0, 4.0, 4.0, 4.0, 4.0, 4.0, 4.0, 4.0, 4.0, 4.0, 4.0, 4.0, 4.0, 4.0, 4.0, 4.0, 4.0, 4.0, 4.0, 4.0, 4.0, 4.0, 4.0, 4.0, 4.0, 4.0, 4.0, 4.0, 4.0, 4.0, 4.0, 4.0, 4.0, 4.0, 4.0, 4.0, 4.0, 4.0, 4.0, 4.0, 4.0, 4.0, 4.0, 4.0, 4.0, 4.0, 4.0, 4.0, 4.0, 4.0, 4.0, 4.0, 4.0, 4.0, 4.0, 4.0, 4.0, 4.0, 4.0, 4.0, 4.0, 4.0, 4.0, 4.0, 4.0, 4.0, 4.0, 4.0, 4.0, 4.0, 4.0, 4.0, 4.0, 4.0, 4.0, 4.0, 4.0, 4.0, 4.0, 4.0, 4.0, 4.0, 4.0, 4.0, 4.0, 4.0, 4.0, 4.0, 4.0, 4.0, 4.0, 4.0, 4.0, 4.0, 4.0, 4.0, 4.0, 4.0, 4.0, 4.0, 4.0, 4.0, 4.0, 4.0, 4.0, 4.0, 4.0, 4.0, 4.0, 4.0, 4.0, 4.0, 4.0, 4.0, 4.0, 4.0, 4.0, 4.0, 4.0, 4.0, 4.0, 4.0, 4.0, 4.0, 4.0, 4.0, 4.0, 4.0, 4.0, 4.0, 4.0, 4.0, 4.0, 4.0, 4.0, 4.0, 4.0, 4.0, 4.0, 4.0, 4.0, 4.0, 4.0, 4.0, 4.0, 4.0, 4.0, 4.0, 4.0, 4.0, 4.0, 4.0, 4.0, 4.0, 4.0, 4.0, 4.0, 4.0, 4.0, 4.0, 4.0, 4.0, 4.0, 4.0, 4.0, 4.0, 4.0, 4.0, 4.0, 4.0, 4.0, 4.0, 4.0, 4.0, 4.0, 4.0, 4.0, 4.0, 4.0, 4.0, 4.0, 4.0, 4.0, 4.0, 4.0, 4.0, 4.0, 4.0, 4.0, 4.0, 4.0, 4.0, 4.0, 4.0, 4.0, 4.0, 4.0, 4.0, 4.0, 4.0, 4.0, 4.0, 4.0, 4.0, 4.0, 4.0, 4.0, 4.0, 4.0, 4.0, 4.0, 4.0, 4.0, 4.0, 4.0, 4.0, 4.0, 4.0, 4.0, 4.0, 4.0, 4.0, 4.0, 4.0, 4.0, 4.0, 4.0, 4.0, 4.0, 4.0, 4.0, 4.0, 4.0, 4.0, 4.0, 4.0, 4.0, 4.0, 4.0, 4.0, 4.0, 4.0, 4.0, 4.0, 4.0, 4.0, 4.0, 4.0, 4.0, 4.0, 4.0, 4.0, 4.0, 4.0, 4.0, 4.0, 4.0, 4.0, 4.0, 4.0, 4.0, 4.0, 4.0, 4.0, 4.0, 4.0, 4.0, 4.0, 4.0, 4.0, 4.0, 4.0, 4.0, 4.0, 4.0, 4.0, 4.0, 4.0, 4.0, 4.0, 4.0, 4.0, 4.0, 4.0, 4.0, 4.0, 4.0, 4.0, 4.0, 4.0, 4.0, 4.0, 4.0, 4.0, 4.0, 4.0, 4.0, 4.0, 4.0, 4.0, 4.0, 4.0, 4.0, 4.0, 4.0, 4.0, 4.0, 4.0, 4.0, 4.0, 4.0, 4.0, 4.0, 4.0, 4.0, 4.0, 4.0, 4.0, 4.0, 4.0, 4.0, 4.0, 4.0, 4.0, 4.0, 4.0, 4.0, 4.0, 4.0, 4.0, 4.0, 4.0, 4.0, 4.0, 4.0, 4.0, 4.0, 4.0, 4.0, 4.0, 4.0, 4.0, 4.0, 4.0, 4.0, 4.0, 4.0, 4.0, 4.0, 4.0, 4.0, 4.0, 4.0, 4.0, 4.0, 4.0, 4.0, 4.0, 4.0, 4.0, 4.0, 4.0, 4.0, 4.0, 4.0, 4.0, 4.0, 4.0, 4.0, 4.0, 4.0, 4.0, 4.0, 4.0, 4.0, 4.0, 4.0, 4.0, 4.0, 4.0, 4.0, 4.0, 4.0, 4.0, 4.0, 4.0, 4.0, 4.0, 4.0, 4.0, 4.0, 4.0, 4.0, 4.0, 4.0, 4.0, 4.0, 4.0, 4.0, 4.0, 4.0, 4.0, 4.0, 4.0, 4.0, 4.0, 4.0, 4.0, 4.0, 4.0, 4.0, 4.0, 4.0, 4.0, 4.0, 4.0, 4.0, 4.0, 4.0, 4.0, 4.0, 4.0, 4.0, 4.0, 4.0, 4.0, 4.0, 4.0, 4.0, 4.0, 4.0, 4.0, 4.0, 4.0, 4.0, 4.0, 4.0, 4.0, 4.0, 4.0, 4.0, 4.0, 4.0, 4.0, 4.0, 4.0, 4.0, 4.0, 4.0, 4.0, 4.0, 4.0, 4.0, 4.0, 4.0, 4.0, 4.0, 4.0, 4.0, 4.0, 4.0, 4.0, 4.0, 4.0, 4.0, 4.0, 4.0, 4.0, 4.0, 4.0, 4.0, 4.0, 4.0, 4.0, 4.0, 4.0, 4.0, 4.0, 4.0, 4.0, 4.0, 4.0, 4.0, 4.0, 4.0, 4.0, 4.0, 4.0, 4.0, 4.0, 4.0, 4.0, 4.0, 4.0, 4.0, 4.0, 4.0, 4.0, 4.0, 4.0, 4.0, 4.0, 4.0, 4.0, 4.0]}}'"
      ]
     },
     "execution_count": 21,
     "metadata": {},
     "output_type": "execute_result"
    }
   ],
   "source": [
    "all_eg_tests[-2]\n"
   ]
  },
  {
   "cell_type": "code",
   "execution_count": null,
   "metadata": {},
   "outputs": [],
   "source": []
  }
 ],
 "metadata": {
  "kernelspec": {
   "display_name": "Python 3",
   "language": "python",
   "name": "python3"
  },
  "language_info": {
   "codemirror_mode": {
    "name": "ipython",
    "version": 3
   },
   "file_extension": ".py",
   "mimetype": "text/x-python",
   "name": "python",
   "nbconvert_exporter": "python",
   "pygments_lexer": "ipython3",
   "version": "3.7.3"
  }
 },
 "nbformat": 4,
 "nbformat_minor": 4
}
