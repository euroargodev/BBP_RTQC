{
 "cells": [
  {
   "cell_type": "code",
   "execution_count": 1,
   "metadata": {},
   "outputs": [],
   "source": [
    "# set theme\n",
    "!jt -t oceans16"
   ]
  },
  {
   "cell_type": "code",
   "execution_count": 2,
   "metadata": {},
   "outputs": [
    {
     "data": {
      "text/html": [
       "<style>.container { width:100% !important; }</style>"
      ],
      "text/plain": [
       "<IPython.core.display.HTML object>"
      ]
     },
     "metadata": {},
     "output_type": "display_data"
    }
   ],
   "source": [
    "# this is to make the Jupyter notebook as wide as the screen (on the Mac at least)\n",
    "from IPython.core.display import display, HTML\n",
    "display(HTML(\"<style>.container { width:100% !important; }</style>\"))\n",
    "%config InlineBackend.figure_format ='retina'"
   ]
  },
  {
   "cell_type": "code",
   "execution_count": 3,
   "metadata": {},
   "outputs": [],
   "source": [
    "# Import needed modules\n",
    "import BBP_RTQC\n",
    "from BBP_RTQC_paths import *\n",
    "import subprocess\n",
    "import numpy as np\n",
    "import glob\n",
    "import os"
   ]
  },
  {
   "cell_type": "code",
   "execution_count": null,
   "metadata": {},
   "outputs": [],
   "source": []
  },
  {
   "cell_type": "code",
   "execution_count": 4,
   "metadata": {},
   "outputs": [
    {
     "name": "stdout",
     "output_type": "stream",
     "text": [
      "615\n"
     ]
    }
   ],
   "source": [
    "# create a list (wmo_dac) and a numpy array (WMO_dac) of dac/wmo to process\n",
    "# e.g., WMO_dac[0]='aoml/1902303'\n",
    "cmdo2 = \"grep BBP700 \" + MAIN_DIR + \"dac/argo_bio-profile_index.txt |   cut -d '/' -f1,2  | uniq \"  # all data\n",
    "wmo_dac = subprocess.run(cmdo2, shell=True, stdout=subprocess.PIPE).stdout.decode('utf-8').split('\\n')\n",
    "WMO_dac = np.asarray(wmo_dac[::])\n",
    "print(len(WMO_dac))\n",
    "istart = 0"
   ]
  },
  {
   "cell_type": "code",
   "execution_count": 5,
   "metadata": {},
   "outputs": [],
   "source": [
    "import shutil\n",
    "# remove old pkl + png files (may not be necessary, but just to be sure)\n",
    "old = glob.glob(DIR_PLOTS+\"/*\")\n",
    "[shutil.rmtree(i) for i in old] ;\n"
   ]
  },
  {
   "cell_type": "code",
   "execution_count": 6,
   "metadata": {
    "scrolled": true
   },
   "outputs": [],
   "source": [
    "# # # this is to run the QC in parallel on multiple floats\n",
    "# from joblib import delayed, Parallel\n",
    "# r = Parallel(n_jobs=7, verbose=40)(delayed(BBP_RTQC.QC_wmo)(iwmo, PLOT=True, SAVEPLOT=True, SAVEPKL=True, VERBOSE=False)\n",
    "#                                    for iwmo in WMO_dac[::20])\n"
   ]
  },
  {
   "cell_type": "code",
   "execution_count": 7,
   "metadata": {},
   "outputs": [],
   "source": [
    "# # # create dir with plots \n",
    "# !mkdir -p plots/Tests/B/\n",
    "# # delete old files\n",
    "# oldB = glob.glob('plots/Tests/B/*png')\n",
    "# [os.remove(i) for i in oldB] ;"
   ]
  },
  {
   "cell_type": "code",
   "execution_count": 8,
   "metadata": {
    "scrolled": true
   },
   "outputs": [],
   "source": [
    "# # create dir with all Noisy data (B) fails\n",
    "# fnB = glob.glob(\"plots/[0-9]*/*_B.png\")\n",
    "# for ifnB in fnB:\n",
    "#     new_fn = ifnB[:-5]+\"0.png\"\n",
    "#     if (os.path.exists(new_fn)) & (os.path.exists(ifnB)):\n",
    "#         cmdo = \"cp \" + new_fn + \" plots/Tests/B/\"\n",
    "#         cmdo2 = \"cp \" + ifnB + \" plots/Tests/B/\"\n",
    "#         subprocess.run(cmdo, shell=True)\n",
    "#         subprocess.run(cmdo2, shell=True)\n",
    "        "
   ]
  },
  {
   "cell_type": "code",
   "execution_count": null,
   "metadata": {},
   "outputs": [],
   "source": []
  },
  {
   "cell_type": "code",
   "execution_count": 9,
   "metadata": {},
   "outputs": [],
   "source": [
    "# # bodc_BR6901183_130\n",
    "# np.where(WMO_dac=='bodc/6901183')[0]\n",
    "# # WMO_dac[126]"
   ]
  },
  {
   "cell_type": "code",
   "execution_count": 10,
   "metadata": {
    "scrolled": true
   },
   "outputs": [
    {
     "name": "stdout",
     "output_type": "stream",
     "text": [
      "aoml/1902303\n",
      "aoml/1902304\n",
      "aoml/4903365\n",
      "aoml/5903274\n",
      "aoml/5903586\n",
      "aoml/5903592\n",
      "aoml/5903593\n",
      "aoml/5903612\n",
      "aoml/5903711\n",
      "aoml/5903714\n"
     ]
    }
   ],
   "source": [
    "for iwmo in WMO_dac[0:10]:\n",
    "    BBP_RTQC.QC_wmo(iwmo, PLOT=True, SAVEPLOT=True, SAVEPKL=True, VERBOSE=False)"
   ]
  }
 ],
 "metadata": {
  "kernelspec": {
   "display_name": "Python 3",
   "language": "python",
   "name": "python3"
  },
  "language_info": {
   "codemirror_mode": {
    "name": "ipython",
    "version": 3
   },
   "file_extension": ".py",
   "mimetype": "text/x-python",
   "name": "python",
   "nbconvert_exporter": "python",
   "pygments_lexer": "ipython3",
   "version": "3.7.3"
  }
 },
 "nbformat": 4,
 "nbformat_minor": 4
}
