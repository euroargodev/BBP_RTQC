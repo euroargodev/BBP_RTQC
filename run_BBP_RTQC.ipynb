{
 "cells": [
  {
   "cell_type": "code",
   "execution_count": 1,
   "metadata": {},
   "outputs": [],
   "source": [
    "# set theme\n",
    "!jt -t oceans16"
   ]
  },
  {
   "cell_type": "code",
   "execution_count": 2,
   "metadata": {},
   "outputs": [
    {
     "data": {
      "text/html": [
       "<style>.container { width:100% !important; }</style>"
      ],
      "text/plain": [
       "<IPython.core.display.HTML object>"
      ]
     },
     "metadata": {},
     "output_type": "display_data"
    }
   ],
   "source": [
    "# this is to make the Jupyter notebook as wide as the screen (on the Mac at least)\n",
    "from IPython.core.display import display, HTML\n",
    "display(HTML(\"<style>.container { width:100% !important; }</style>\"))\n",
    "%config InlineBackend.figure_format ='retina'"
   ]
  },
  {
   "cell_type": "code",
   "execution_count": 3,
   "metadata": {},
   "outputs": [],
   "source": [
    "# Import needed modules\n",
    "import BBP_RTQC\n",
    "from BBP_RTQC_paths import *\n",
    "import subprocess\n",
    "import numpy as np\n",
    "import glob\n",
    "import os"
   ]
  },
  {
   "cell_type": "code",
   "execution_count": null,
   "metadata": {},
   "outputs": [],
   "source": []
  },
  {
   "cell_type": "code",
   "execution_count": 4,
   "metadata": {},
   "outputs": [
    {
     "name": "stdout",
     "output_type": "stream",
     "text": [
      "614\n"
     ]
    }
   ],
   "source": [
    "# create a list (wmo_dac) and a numpy array (WMO_dac) of dac/wmo to process\n",
    "# e.g., WMO_dac[0]='aoml/1902303'\n",
    "cmdo2 = \"grep BBP700 \" + MAIN_DIR + \"dac/argo_bio-profile_index.txt |   cut -d '/' -f1,2  | uniq \"  # all data\n",
    "wmo_dac = subprocess.run(cmdo2, shell=True, stdout=subprocess.PIPE).stdout.decode('utf-8').split('\\n')\n",
    "WMO_dac = np.asarray(wmo_dac[::])\n",
    "print(len(WMO_dac))\n",
    "istart = 0"
   ]
  },
  {
   "cell_type": "code",
   "execution_count": 5,
   "metadata": {
    "scrolled": true
   },
   "outputs": [],
   "source": [
    "# QC a single float\n",
    "# BBP_RTQC.QC_wmo('aoml/5905105')"
   ]
  },
  {
   "cell_type": "code",
   "execution_count": null,
   "metadata": {},
   "outputs": [],
   "source": []
  },
  {
   "cell_type": "code",
   "execution_count": 6,
   "metadata": {},
   "outputs": [],
   "source": [
    "import shutil\n",
    "# remove old pkl + png files (may not be necessary, but just to be sure)\n",
    "old = glob.glob(DIR_PLOTS+\"/*\")\n",
    "[shutil.rmtree(i) for i in old] ;\n"
   ]
  },
  {
   "cell_type": "code",
   "execution_count": 7,
   "metadata": {
    "scrolled": true
   },
   "outputs": [
    {
     "name": "stderr",
     "output_type": "stream",
     "text": [
      "[Parallel(n_jobs=7)]: Using backend LokyBackend with 7 concurrent workers.\n",
      "[Parallel(n_jobs=7)]: Done   1 tasks      | elapsed:    3.9s\n",
      "[Parallel(n_jobs=7)]: Done   2 tasks      | elapsed:    4.1s\n",
      "[Parallel(n_jobs=7)]: Done   3 tasks      | elapsed:    4.6s\n",
      "[Parallel(n_jobs=7)]: Done   4 tasks      | elapsed:    9.1s\n",
      "[Parallel(n_jobs=7)]: Done   5 tasks      | elapsed:   11.2s\n",
      "[Parallel(n_jobs=7)]: Done   6 tasks      | elapsed:   12.0s\n",
      "[Parallel(n_jobs=7)]: Done   7 tasks      | elapsed:   12.5s\n",
      "[Parallel(n_jobs=7)]: Done   8 tasks      | elapsed:   13.8s\n",
      "[Parallel(n_jobs=7)]: Done   9 tasks      | elapsed:   14.9s\n",
      "[Parallel(n_jobs=7)]: Done  10 tasks      | elapsed:   17.2s\n",
      "[Parallel(n_jobs=7)]: Done  11 tasks      | elapsed:   17.8s\n",
      "[Parallel(n_jobs=7)]: Done  12 tasks      | elapsed:   18.2s\n",
      "[Parallel(n_jobs=7)]: Done  13 tasks      | elapsed:   19.2s\n",
      "[Parallel(n_jobs=7)]: Done  14 tasks      | elapsed:   19.3s\n",
      "[Parallel(n_jobs=7)]: Done  15 tasks      | elapsed:   19.7s\n",
      "[Parallel(n_jobs=7)]: Done  16 tasks      | elapsed:   20.4s\n",
      "[Parallel(n_jobs=7)]: Done  17 tasks      | elapsed:   21.5s\n",
      "[Parallel(n_jobs=7)]: Done  18 tasks      | elapsed:   21.6s\n",
      "[Parallel(n_jobs=7)]: Done  19 tasks      | elapsed:   21.7s\n",
      "[Parallel(n_jobs=7)]: Done  20 tasks      | elapsed:   21.8s\n",
      "[Parallel(n_jobs=7)]: Done  21 tasks      | elapsed:   22.0s\n",
      "[Parallel(n_jobs=7)]: Done  22 tasks      | elapsed:   22.4s\n",
      "[Parallel(n_jobs=7)]: Done  23 tasks      | elapsed:   22.5s\n",
      "[Parallel(n_jobs=7)]: Done  24 tasks      | elapsed:   22.5s\n",
      "[Parallel(n_jobs=7)]: Done  25 tasks      | elapsed:   25.6s\n",
      "[Parallel(n_jobs=7)]: Done  26 tasks      | elapsed:   38.9s\n",
      "[Parallel(n_jobs=7)]: Done  27 tasks      | elapsed:   39.2s\n",
      "[Parallel(n_jobs=7)]: Done  28 tasks      | elapsed:   41.8s\n",
      "[Parallel(n_jobs=7)]: Done  29 tasks      | elapsed:  1.0min\n",
      "[Parallel(n_jobs=7)]: Done  30 tasks      | elapsed:  1.3min\n",
      "[Parallel(n_jobs=7)]: Done  31 tasks      | elapsed:  1.3min\n",
      "[Parallel(n_jobs=7)]: Done  32 tasks      | elapsed:  1.6min\n",
      "[Parallel(n_jobs=7)]: Done  33 tasks      | elapsed:  1.7min\n",
      "[Parallel(n_jobs=7)]: Done  34 tasks      | elapsed:  1.8min\n",
      "[Parallel(n_jobs=7)]: Done  35 tasks      | elapsed:  1.8min\n",
      "[Parallel(n_jobs=7)]: Done  36 tasks      | elapsed:  1.9min\n",
      "[Parallel(n_jobs=7)]: Done  37 tasks      | elapsed:  2.0min\n",
      "[Parallel(n_jobs=7)]: Done  38 tasks      | elapsed:  2.1min\n",
      "[Parallel(n_jobs=7)]: Done  39 tasks      | elapsed:  2.1min\n",
      "[Parallel(n_jobs=7)]: Done  40 tasks      | elapsed:  2.1min\n",
      "[Parallel(n_jobs=7)]: Done  41 tasks      | elapsed:  2.2min\n",
      "[Parallel(n_jobs=7)]: Done  42 tasks      | elapsed:  2.3min\n",
      "[Parallel(n_jobs=7)]: Done  43 tasks      | elapsed:  2.3min\n",
      "[Parallel(n_jobs=7)]: Done  44 tasks      | elapsed:  2.3min\n",
      "[Parallel(n_jobs=7)]: Done  45 tasks      | elapsed:  2.3min\n",
      "[Parallel(n_jobs=7)]: Done  46 tasks      | elapsed:  2.3min\n",
      "[Parallel(n_jobs=7)]: Done  47 tasks      | elapsed:  2.4min\n",
      "[Parallel(n_jobs=7)]: Done  48 tasks      | elapsed:  2.4min\n",
      "[Parallel(n_jobs=7)]: Done  49 tasks      | elapsed:  2.4min\n",
      "[Parallel(n_jobs=7)]: Done  51 out of  62 | elapsed:  2.6min remaining:   33.6s\n",
      "[Parallel(n_jobs=7)]: Done  53 out of  62 | elapsed:  2.7min remaining:   27.1s\n",
      "[Parallel(n_jobs=7)]: Done  55 out of  62 | elapsed:  2.7min remaining:   20.5s\n",
      "[Parallel(n_jobs=7)]: Done  57 out of  62 | elapsed:  2.7min remaining:   14.3s\n",
      "[Parallel(n_jobs=7)]: Done  59 out of  62 | elapsed:  2.7min remaining:    8.4s\n",
      "[Parallel(n_jobs=7)]: Done  62 out of  62 | elapsed:  2.9min finished\n"
     ]
    }
   ],
   "source": [
    "# # this is to run the QC in parallel on multiple floats\n",
    "from joblib import delayed, Parallel\n",
    "r = Parallel(n_jobs=7, verbose=40)(delayed(BBP_RTQC.QC_wmo)(iwmo, PLOT=True, SAVEPLOT=True, SAVEPKL=True, VERBOSE=False)\n",
    "                                   for iwmo in WMO_dac[::10])\n"
   ]
  },
  {
   "cell_type": "code",
   "execution_count": 8,
   "metadata": {},
   "outputs": [],
   "source": [
    "# # create dir with plots \n",
    "!mkdir -p plots/Tests/B/\n",
    "# delete old files\n",
    "oldB = glob.glob('plots/Tests/B/*png')\n",
    "[os.remove(i) for i in oldB] ;"
   ]
  },
  {
   "cell_type": "code",
   "execution_count": 9,
   "metadata": {
    "scrolled": true
   },
   "outputs": [],
   "source": [
    "# create dir with all Noisy data (B) fails\n",
    "fnB = glob.glob(\"plots/[0-9]*/*_B.png\")\n",
    "for ifnB in fnB:\n",
    "    new_fn = ifnB[:-5]+\"0.png\"\n",
    "    if (os.path.exists(new_fn)) & (os.path.exists(ifnB)):\n",
    "        cmdo = \"cp \" + new_fn + \" plots/Tests/B/\"\n",
    "        cmdo2 = \"cp \" + ifnB + \" plots/Tests/B/\"\n",
    "        print(cmdo)\n",
    "        subprocess.run(cmdo, shell=True)\n",
    "#         print(cmdo2)\n",
    "        subprocess.run(cmdo2, shell=True)\n",
    "        "
   ]
  },
  {
   "cell_type": "code",
   "execution_count": null,
   "metadata": {},
   "outputs": [],
   "source": []
  },
  {
   "cell_type": "code",
   "execution_count": 10,
   "metadata": {},
   "outputs": [
    {
     "data": {
      "text/plain": [
       "array([250])"
      ]
     },
     "execution_count": 10,
     "metadata": {},
     "output_type": "execute_result"
    }
   ],
   "source": [
    "# bodc_BR6901183_130\n",
    "np.where(WMO_dac=='bodc/6901183')[0]\n",
    "# WMO_dac[126]"
   ]
  },
  {
   "cell_type": "code",
   "execution_count": 11,
   "metadata": {
    "scrolled": true
   },
   "outputs": [],
   "source": [
    "# for iwmo in WMO_dac[250:251]:\n",
    "#     BBP_RTQC.QC_wmo(iwmo, PLOT=True, SAVEPLOT=True, SAVEPKL=True, VERBOSE=True)"
   ]
  },
  {
   "cell_type": "code",
   "execution_count": null,
   "metadata": {},
   "outputs": [],
   "source": []
  }
 ],
 "metadata": {
  "kernelspec": {
   "display_name": "Python 3",
   "language": "python",
   "name": "python3"
  },
  "language_info": {
   "codemirror_mode": {
    "name": "ipython",
    "version": 3
   },
   "file_extension": ".py",
   "mimetype": "text/x-python",
   "name": "python",
   "nbconvert_exporter": "python",
   "pygments_lexer": "ipython3",
   "version": "3.7.3"
  }
 },
 "nbformat": 4,
 "nbformat_minor": 4
}
