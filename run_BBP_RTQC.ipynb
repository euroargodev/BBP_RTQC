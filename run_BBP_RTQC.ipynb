{
 "cells": [
  {
   "cell_type": "code",
   "execution_count": 1,
   "metadata": {},
   "outputs": [],
   "source": [
    "# set theme\n",
    "!jt -t oceans16"
   ]
  },
  {
   "cell_type": "code",
   "execution_count": 2,
   "metadata": {},
   "outputs": [
    {
     "data": {
      "text/html": [
       "<style>.container { width:100% !important; }</style>"
      ],
      "text/plain": [
       "<IPython.core.display.HTML object>"
      ]
     },
     "metadata": {},
     "output_type": "display_data"
    }
   ],
   "source": [
    "# this is to make the Jupyter notebook as wide as the screen (on the Mac at least)\n",
    "from IPython.core.display import display, HTML\n",
    "display(HTML(\"<style>.container { width:100% !important; }</style>\"))\n",
    "%config InlineBackend.figure_format ='retina'"
   ]
  },
  {
   "cell_type": "code",
   "execution_count": 3,
   "metadata": {},
   "outputs": [],
   "source": [
    "# global MAIN_DIR, WORKING_DIR, PKL_DIR\n",
    "# # define paths\n",
    "# MAIN_DIR = '/data/datasets/Argo/Original/'\n",
    "# WORKING_DIR = '/fast_scratch/BGCArgo_plot/source/'\n",
    "# PKL_DIR = WORKING_DIR + 'BBP_RTQC/plots/*/'\n"
   ]
  },
  {
   "cell_type": "markdown",
   "metadata": {},
   "source": [
    "### Import needed modules"
   ]
  },
  {
   "cell_type": "code",
   "execution_count": 4,
   "metadata": {},
   "outputs": [],
   "source": [
    "# import BBP_RTQC\n",
    "import BBP_RTQC \n",
    "from BBP_RTQC_paths import *\n",
    "import subprocess\n",
    "import numpy as np"
   ]
  },
  {
   "cell_type": "code",
   "execution_count": null,
   "metadata": {},
   "outputs": [],
   "source": []
  },
  {
   "cell_type": "code",
   "execution_count": 5,
   "metadata": {},
   "outputs": [
    {
     "name": "stdout",
     "output_type": "stream",
     "text": [
      "614\n"
     ]
    }
   ],
   "source": [
    "cmdo2 = \"grep BBP700 \" + MAIN_DIR + \"dac/argo_bio-profile_index.txt |   cut -d '/' -f1,2  | uniq \"  # all data\n",
    "wmo_dac = subprocess.run(cmdo2, shell=True, stdout=subprocess.PIPE).stdout.decode('utf-8').split('\\n')\n",
    "WMO_dac = np.asarray(wmo_dac[::])\n",
    "print(len(WMO_dac))\n",
    "istart = 0"
   ]
  },
  {
   "cell_type": "code",
   "execution_count": null,
   "metadata": {},
   "outputs": [],
   "source": [
    "\n"
   ]
  },
  {
   "cell_type": "code",
   "execution_count": 6,
   "metadata": {
    "scrolled": true
   },
   "outputs": [
    {
     "name": "stdout",
     "output_type": "stream",
     "text": [
      "aoml/5905105\n",
      "----this float does not have SENSOR metadata\n",
      "PLATFORM_TYPE=APEX                            \n",
      "removing old plots in /fast_scratch/BBP_RTQC/./plots//5905105...\n",
      "/fast_scratch/BBP_RTQC/./plots/5905105/*.p*\n",
      "...done\n",
      "/data/datasets/Argo/Original/dac/aoml/5905105/profiles/BD5905105_001.nc\n",
      "vertical resolution is too low to check for Parking Hook\n"
     ]
    },
    {
     "ename": "NameError",
     "evalue": "name 'innan' is not defined",
     "output_type": "error",
     "traceback": [
      "\u001b[0;31m---------------------------------------------------------------------------\u001b[0m",
      "\u001b[0;31mNameError\u001b[0m                                 Traceback (most recent call last)",
      "\u001b[0;32m<ipython-input-6-fc1a9b63ab17>\u001b[0m in \u001b[0;36m<module>\u001b[0;34m\u001b[0m\n\u001b[0;32m----> 1\u001b[0;31m \u001b[0mBBP_RTQC\u001b[0m\u001b[0;34m.\u001b[0m\u001b[0mQC_wmo\u001b[0m\u001b[0;34m(\u001b[0m\u001b[0;34m'aoml/5905105'\u001b[0m\u001b[0;34m)\u001b[0m\u001b[0;34m\u001b[0m\u001b[0;34m\u001b[0m\u001b[0m\n\u001b[0m",
      "\u001b[0;32m/fast_scratch/BGCArgo_plot/source/BBP_RTQC/BBP_RTQC.py\u001b[0m in \u001b[0;36mQC_wmo\u001b[0;34m(iwmo, VERBOSE, SAVEPKL)\u001b[0m\n\u001b[1;32m    946\u001b[0m \u001b[0;34m\u001b[0m\u001b[0m\n\u001b[1;32m    947\u001b[0m         \u001b[0;31m# save results in res list\u001b[0m\u001b[0;34m\u001b[0m\u001b[0;34m\u001b[0m\u001b[0;34m\u001b[0m\u001b[0m\n\u001b[0;32m--> 948\u001b[0;31m         \u001b[0mall_PRES\u001b[0m\u001b[0;34m.\u001b[0m\u001b[0mextend\u001b[0m\u001b[0;34m(\u001b[0m\u001b[0mPRES\u001b[0m\u001b[0;34m[\u001b[0m\u001b[0minnan\u001b[0m\u001b[0;34m]\u001b[0m\u001b[0;34m)\u001b[0m\u001b[0;34m\u001b[0m\u001b[0;34m\u001b[0m\u001b[0m\n\u001b[0m\u001b[1;32m    949\u001b[0m         \u001b[0mall_BBP700\u001b[0m\u001b[0;34m.\u001b[0m\u001b[0mextend\u001b[0m\u001b[0;34m(\u001b[0m\u001b[0mBBP700\u001b[0m\u001b[0;34m[\u001b[0m\u001b[0minnan\u001b[0m\u001b[0;34m]\u001b[0m\u001b[0;34m)\u001b[0m\u001b[0;34m\u001b[0m\u001b[0;34m\u001b[0m\u001b[0m\n\u001b[1;32m    950\u001b[0m         \u001b[0mall_BBP700_QC_flag\u001b[0m\u001b[0;34m.\u001b[0m\u001b[0mextend\u001b[0m\u001b[0;34m(\u001b[0m\u001b[0mBBP700_QC_flag\u001b[0m\u001b[0;34m[\u001b[0m\u001b[0minnan\u001b[0m\u001b[0;34m]\u001b[0m\u001b[0;34m)\u001b[0m\u001b[0;34m\u001b[0m\u001b[0;34m\u001b[0m\u001b[0m\n",
      "\u001b[0;31mNameError\u001b[0m: name 'innan' is not defined"
     ]
    }
   ],
   "source": [
    "BBP_RTQC.QC_wmo('aoml/5905105')"
   ]
  },
  {
   "cell_type": "code",
   "execution_count": null,
   "metadata": {},
   "outputs": [],
   "source": []
  }
 ],
 "metadata": {
  "kernelspec": {
   "display_name": "Python 3",
   "language": "python",
   "name": "python3"
  },
  "language_info": {
   "codemirror_mode": {
    "name": "ipython",
    "version": 3
   },
   "file_extension": ".py",
   "mimetype": "text/x-python",
   "name": "python",
   "nbconvert_exporter": "python",
   "pygments_lexer": "ipython3",
   "version": "3.7.3"
  }
 },
 "nbformat": 4,
 "nbformat_minor": 4
}
