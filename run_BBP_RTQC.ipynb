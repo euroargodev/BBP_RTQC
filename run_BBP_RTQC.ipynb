{
 "cells": [
  {
   "cell_type": "code",
   "execution_count": 1,
   "metadata": {},
   "outputs": [],
   "source": [
    "# set theme\n",
    "!jt -t oceans16"
   ]
  },
  {
   "cell_type": "code",
   "execution_count": 2,
   "metadata": {},
   "outputs": [
    {
     "data": {
      "text/html": [
       "<style>.container { width:100% !important; }</style>"
      ],
      "text/plain": [
       "<IPython.core.display.HTML object>"
      ]
     },
     "metadata": {},
     "output_type": "display_data"
    }
   ],
   "source": [
    "# this is to make the Jupyter notebook as wide as the screen (on the Mac at least)\n",
    "from IPython.core.display import display, HTML\n",
    "display(HTML(\"<style>.container { width:100% !important; }</style>\"))\n",
    "%config InlineBackend.figure_format ='retina'"
   ]
  },
  {
   "cell_type": "code",
   "execution_count": 3,
   "metadata": {},
   "outputs": [],
   "source": [
    "# Import needed modules\n",
    "import BBP_RTQC\n",
    "from BBP_RTQC_paths import *\n",
    "from BBP_RTQC_global_vars import tests\n",
    "import subprocess\n",
    "import numpy as np\n",
    "import glob\n",
    "import os\n",
    "import json # to run test_tests"
   ]
  },
  {
   "cell_type": "code",
   "execution_count": 4,
   "metadata": {},
   "outputs": [
    {
     "data": {
      "text/plain": [
       "'/data/datasets/Argo/Original/'"
      ]
     },
     "execution_count": 4,
     "metadata": {},
     "output_type": "execute_result"
    }
   ],
   "source": [
    "MAIN_DIR\n"
   ]
  },
  {
   "cell_type": "code",
   "execution_count": 5,
   "metadata": {
    "scrolled": false
   },
   "outputs": [
    {
     "name": "stdout",
     "output_type": "stream",
     "text": [
      "0   A\n",
      "Negative (<5 dbar) / Negative BBP only at PRES < 5 dbar: test succeded.\n",
      "1   A2\n",
      "Negative (>=5 dbar) / Negative BBP at PRES >= 5 dbar: test succeded.\n",
      "2   B\n",
      "Noisy Profile / eg 1: test succeded.\n",
      "3   B\n",
      "Noisy Profile / eg 2: test succeded.\n",
      "4   C\n",
      "High-Deep Value / eg 1: test succeded.\n",
      "5   E\n",
      "Missing Data / shallow profile with high deep values: test succeded.\n",
      "6   E\n",
      "Missing Data / shallow profile with high deep values: test succeded.\n",
      "7   E\n",
      "Missing Data / shallow profile due to missing data: test succeded.\n",
      "8   E\n",
      "Missing Data / only one valid bin,  but with data below 1000 dbars: test succeded.\n",
      "9   E\n",
      "Missing Data / only one bin: test succeded.\n",
      "10   E\n",
      "Missing Data / shallow profile,  with good data below 200 dbar: test succeded.\n",
      "11   E\n",
      "Missing Data / shallow profile,  no data deeper than 200 dbar: test succeded.\n",
      "12   E\n",
      "Missing Data / missing data in some bins: test succeded.\n",
      "13   E\n",
      "Missing Data / no BBP data below 200 dbar: test succeded.\n",
      "14   E\n",
      "Missing Data / no data at all in the upper 1000 dbar: test succeded.\n",
      "15   G\n",
      "Parking Hook / eg 1: test succeded.\n"
     ]
    }
   ],
   "source": [
    "# assert tests\n",
    "BBP_RTQC.test_BBP_RTQC()"
   ]
  },
  {
   "cell_type": "code",
   "execution_count": 6,
   "metadata": {},
   "outputs": [
    {
     "data": {
      "text/plain": [
       "{'A': 'Negative (<5 dbar)',\n",
       " 'A2': 'Negative (>=5 dbar)',\n",
       " 'B': 'Noisy Profile',\n",
       " 'C': 'High-Deep Value',\n",
       " 'E': 'Missing Data',\n",
       " 'G': 'Parking Hook'}"
      ]
     },
     "execution_count": 6,
     "metadata": {},
     "output_type": "execute_result"
    }
   ],
   "source": [
    "tests"
   ]
  },
  {
   "cell_type": "code",
   "execution_count": 7,
   "metadata": {},
   "outputs": [
    {
     "name": "stdout",
     "output_type": "stream",
     "text": [
      "682\n"
     ]
    }
   ],
   "source": [
    "# create a list (wmo_dac) and a numpy array (WMO_dac) of dac/wmo to process\n",
    "# e.g., WMO_dac[0]='aoml/1902303'\n",
    "cmdo2 = \"grep BBP700 \" + MAIN_DIR + \"dac/argo_bio-profile_index.txt | cut -d '/' -f1,2 | uniq\"  # all data     | grep coriolis\" \n",
    "wmo_dac = subprocess.run(cmdo2, shell=True, stdout=subprocess.PIPE).stdout.decode('utf-8').split('\\n')\n",
    "WMO_dac = np.asarray(wmo_dac[::])\n",
    "print(len(WMO_dac))\n",
    "istart = 0"
   ]
  },
  {
   "cell_type": "code",
   "execution_count": 8,
   "metadata": {},
   "outputs": [
    {
     "data": {
      "text/plain": [
       "array(['aoml/1902303', 'aoml/1902304', 'aoml/1902380', 'aoml/1902381',\n",
       "       'aoml/1902382', 'aoml/1902383', 'aoml/1902384', 'aoml/1902385',\n",
       "       'aoml/4903026', 'aoml/4903273', 'aoml/4903274', 'aoml/4903365',\n",
       "       'aoml/4903622', 'aoml/4903624', 'aoml/4903625', 'aoml/5903274',\n",
       "       'aoml/5903586', 'aoml/5903592', 'aoml/5903593', 'aoml/5903612',\n",
       "       'aoml/5903711', 'aoml/5903714', 'aoml/5903717', 'aoml/5903718',\n",
       "       'aoml/5903887', 'aoml/5904021', 'aoml/5904104', 'aoml/5904105',\n",
       "       'aoml/5904124', 'aoml/5904172', 'aoml/5904179', 'aoml/5904180',\n",
       "       'aoml/5904181', 'aoml/5904182', 'aoml/5904183', 'aoml/5904184',\n",
       "       'aoml/5904185', 'aoml/5904188', 'aoml/5904395', 'aoml/5904396',\n",
       "       'aoml/5904397', 'aoml/5904467', 'aoml/5904468', 'aoml/5904469',\n",
       "       'aoml/5904470', 'aoml/5904471', 'aoml/5904472', 'aoml/5904473',\n",
       "       'aoml/5904474', 'aoml/5904475', 'aoml/5904476', 'aoml/5904477',\n",
       "       'aoml/5904478', 'aoml/5904479', 'aoml/5904655', 'aoml/5904659',\n",
       "       'aoml/5904660', 'aoml/5904661', 'aoml/5904670', 'aoml/5904671',\n",
       "       'aoml/5904672', 'aoml/5904673', 'aoml/5904676', 'aoml/5904677',\n",
       "       'aoml/5904678', 'aoml/5904679', 'aoml/5904680', 'aoml/5904682',\n",
       "       'aoml/5904683', 'aoml/5904684', 'aoml/5904685', 'aoml/5904686',\n",
       "       'aoml/5904687', 'aoml/5904688', 'aoml/5904693', 'aoml/5904761',\n",
       "       'aoml/5904763', 'aoml/5904764', 'aoml/5904765', 'aoml/5904766',\n",
       "       'aoml/5904767', 'aoml/5904768', 'aoml/5904841', 'aoml/5904842',\n",
       "       'aoml/5904843', 'aoml/5904844', 'aoml/5904845', 'aoml/5904846',\n",
       "       'aoml/5904847', 'aoml/5904854', 'aoml/5904855', 'aoml/5904856',\n",
       "       'aoml/5904857', 'aoml/5904858', 'aoml/5904859', 'aoml/5904860',\n",
       "       'aoml/5904980', 'aoml/5904981', 'aoml/5904982', 'aoml/5904983',\n",
       "       'aoml/5904984', 'aoml/5905069', 'aoml/5905070', 'aoml/5905071',\n",
       "       'aoml/5905072', 'aoml/5905073', 'aoml/5905074', 'aoml/5905075',\n",
       "       'aoml/5905076', 'aoml/5905077', 'aoml/5905078', 'aoml/5905079',\n",
       "       'aoml/5905080', 'aoml/5905099', 'aoml/5905100', 'aoml/5905101',\n",
       "       'aoml/5905102', 'aoml/5905103', 'aoml/5905104', 'aoml/5905105',\n",
       "       'aoml/5905106', 'aoml/5905107', 'aoml/5905108', 'aoml/5905109',\n",
       "       'aoml/5905130', 'aoml/5905131', 'aoml/5905132', 'aoml/5905133',\n",
       "       'aoml/5905134', 'aoml/5905135', 'aoml/5905139', 'aoml/5905140',\n",
       "       'aoml/5905366', 'aoml/5905367', 'aoml/5905368', 'aoml/5905369',\n",
       "       'aoml/5905370', 'aoml/5905371', 'aoml/5905372', 'aoml/5905373',\n",
       "       'aoml/5905374', 'aoml/5905375', 'aoml/5905376', 'aoml/5905377',\n",
       "       'aoml/5905378', 'aoml/5905379', 'aoml/5905634', 'aoml/5905635',\n",
       "       'aoml/5905636', 'aoml/5905637', 'aoml/5905638', 'aoml/5905639',\n",
       "       'aoml/5905969', 'aoml/5905970', 'aoml/5905971', 'aoml/5905980',\n",
       "       'aoml/5905981', 'aoml/5905982', 'aoml/5905983', 'aoml/5905984',\n",
       "       'aoml/5905985', 'aoml/5905988', 'aoml/5905991', 'aoml/5905992',\n",
       "       'aoml/5905993', 'aoml/5905994', 'aoml/5905995', 'aoml/5905996',\n",
       "       'aoml/5905997', 'aoml/5905998', 'aoml/5906000', 'aoml/5906001',\n",
       "       'aoml/5906002', 'aoml/5906003', 'aoml/5906004', 'aoml/5906005',\n",
       "       'aoml/5906006', 'aoml/5906007', 'aoml/5906008', 'aoml/5906026',\n",
       "       'aoml/5906030', 'aoml/5906031', 'aoml/5906032', 'aoml/5906033',\n",
       "       'aoml/5906034', 'aoml/5906035', 'aoml/5906036', 'aoml/5906039',\n",
       "       'aoml/5906040', 'aoml/5906043', 'aoml/5906044', 'aoml/5906204',\n",
       "       'aoml/5906205', 'aoml/5906206', 'aoml/5906207', 'aoml/5906208',\n",
       "       'aoml/5906209', 'aoml/5906212', 'aoml/5906213', 'aoml/5906214',\n",
       "       'aoml/5906218', 'aoml/5906219', 'aoml/5906220', 'aoml/5906226',\n",
       "       'aoml/5906227', 'aoml/5906228', 'aoml/5906235', 'aoml/5906236',\n",
       "       'aoml/5906237', 'aoml/5906238', 'aoml/5906243', 'aoml/5906244',\n",
       "       'aoml/5906245', 'aoml/5906246', 'aoml/5906247', 'aoml/5906249',\n",
       "       'aoml/5906293', 'aoml/5906294', 'aoml/5906295', 'aoml/5906296',\n",
       "       'aoml/5906297', 'aoml/5906300', 'aoml/5906301', 'aoml/5906302',\n",
       "       'aoml/5906303', 'aoml/5906304', 'aoml/5906305', 'aoml/5906306',\n",
       "       'aoml/5906307', 'aoml/5906308', 'aoml/5906309', 'aoml/5906310',\n",
       "       'aoml/5906311', 'aoml/5906313', 'aoml/5906315', 'aoml/5906316',\n",
       "       'aoml/5906317', 'aoml/5906318', 'aoml/5906319', 'aoml/5906339',\n",
       "       'aoml/5906340', 'aoml/5906342', 'aoml/5906343', 'aoml/5906434',\n",
       "       'aoml/5906435', 'aoml/5906436', 'aoml/5906437', 'aoml/5906438',\n",
       "       'aoml/5906439', 'aoml/5906440', 'aoml/5906441', 'aoml/5906442',\n",
       "       'aoml/5906448', 'aoml/5906449', 'aoml/5906450', 'aoml/5906468',\n",
       "       'aoml/5906469', 'aoml/5906470', 'aoml/5906471', 'aoml/5906472',\n",
       "       'aoml/5906473', 'aoml/5906474', 'aoml/5906475', 'aoml/5906476',\n",
       "       'aoml/5906484', 'aoml/5906485', 'aoml/5906486', 'aoml/5906487',\n",
       "       'aoml/5906488', 'aoml/5906489', 'aoml/5906490', 'aoml/5906491',\n",
       "       'aoml/5906492', 'aoml/5906493', 'aoml/5906494', 'aoml/5906496',\n",
       "       'aoml/5906497', 'aoml/5906498', 'aoml/5906500', 'aoml/5906501',\n",
       "       'aoml/5906502', 'aoml/5906503', 'aoml/5906507', 'aoml/5906508',\n",
       "       'aoml/5906529', 'aoml/5906765', 'aoml/5906766', 'aoml/5906767',\n",
       "       'bodc/3901496', 'bodc/3901497', 'bodc/3901498', 'bodc/3901530',\n",
       "       'bodc/3901531', 'bodc/6901151', 'bodc/6901152', 'bodc/6901174',\n",
       "       'bodc/6901175', 'bodc/6901180', 'bodc/6901181', 'bodc/6901182',\n",
       "       'bodc/6901183', 'coriolis/3902120', 'coriolis/3902121',\n",
       "       'coriolis/3902122', 'coriolis/3902123', 'coriolis/3902124',\n",
       "       'coriolis/3902125', 'coriolis/4901802', 'coriolis/4901803',\n",
       "       'coriolis/4901804', 'coriolis/4901805', 'coriolis/4901806',\n",
       "       'coriolis/4902602', 'coriolis/6900796', 'coriolis/6900797',\n",
       "       'coriolis/6900798', 'coriolis/6900799', 'coriolis/6900807',\n",
       "       'coriolis/6900876', 'coriolis/6900877', 'coriolis/6901004',\n",
       "       'coriolis/6901032', 'coriolis/6901437', 'coriolis/6901439',\n",
       "       'coriolis/6901440', 'coriolis/6901472', 'coriolis/6901473',\n",
       "       'coriolis/6901474', 'coriolis/6901475', 'coriolis/6901480',\n",
       "       'coriolis/6901481', 'coriolis/6901482', 'coriolis/6901483',\n",
       "       'coriolis/6901484', 'coriolis/6901485', 'coriolis/6901486',\n",
       "       'coriolis/6901489', 'coriolis/6901490', 'coriolis/6901491',\n",
       "       'coriolis/6901492', 'coriolis/6901493', 'coriolis/6901494',\n",
       "       'coriolis/6901495', 'coriolis/6901496', 'coriolis/6901510',\n",
       "       'coriolis/6901511', 'coriolis/6901512', 'coriolis/6901513',\n",
       "       'coriolis/6901514', 'coriolis/6901515', 'coriolis/6901516',\n",
       "       'coriolis/6901517', 'coriolis/6901518', 'coriolis/6901519',\n",
       "       'coriolis/6901520', 'coriolis/6901521', 'coriolis/6901522',\n",
       "       'coriolis/6901523', 'coriolis/6901524', 'coriolis/6901525',\n",
       "       'coriolis/6901526', 'coriolis/6901527', 'coriolis/6901528',\n",
       "       'coriolis/6901529', 'coriolis/6901573', 'coriolis/6901574',\n",
       "       'coriolis/6901575', 'coriolis/6901576', 'coriolis/6901577',\n",
       "       'coriolis/6901578', 'coriolis/6901579', 'coriolis/6901580',\n",
       "       'coriolis/6901581', 'coriolis/6901582', 'coriolis/6901583',\n",
       "       'coriolis/6901584', 'coriolis/6901585', 'coriolis/6901600',\n",
       "       'coriolis/6901605', 'coriolis/6901646', 'coriolis/6901647',\n",
       "       'coriolis/6901648', 'coriolis/6901649', 'coriolis/6901650',\n",
       "       'coriolis/6901651', 'coriolis/6901653', 'coriolis/6901654',\n",
       "       'coriolis/6901655', 'coriolis/6901656', 'coriolis/6901657',\n",
       "       'coriolis/6901658', 'coriolis/6901659', 'coriolis/6901660',\n",
       "       'coriolis/6901687', 'coriolis/6901688', 'coriolis/6901689',\n",
       "       'coriolis/6901764', 'coriolis/6901765', 'coriolis/6901766',\n",
       "       'coriolis/6901767', 'coriolis/6901768', 'coriolis/6901769',\n",
       "       'coriolis/6901770', 'coriolis/6901771', 'coriolis/6901772',\n",
       "       'coriolis/6901773', 'coriolis/6901774', 'coriolis/6901775',\n",
       "       'coriolis/6901776', 'coriolis/6901860', 'coriolis/6901861',\n",
       "       'coriolis/6901862', 'coriolis/6901863', 'coriolis/6901864',\n",
       "       'coriolis/6901865', 'coriolis/6901866', 'coriolis/6902014',\n",
       "       'coriolis/6902018', 'coriolis/6902019', 'coriolis/6902020',\n",
       "       'coriolis/6902021', 'coriolis/6902024', 'coriolis/6902027',\n",
       "       'coriolis/6902028', 'coriolis/6902544', 'coriolis/6902545',\n",
       "       'coriolis/6902546', 'coriolis/6902547', 'coriolis/6902548',\n",
       "       'coriolis/6902549', 'coriolis/6902550', 'coriolis/6902666',\n",
       "       'coriolis/6902667', 'coriolis/6902668', 'coriolis/6902669',\n",
       "       'coriolis/6902670', 'coriolis/6902671', 'coriolis/6902700',\n",
       "       'coriolis/6902701', 'coriolis/6902732', 'coriolis/6902733',\n",
       "       'coriolis/6902734', 'coriolis/6902735', 'coriolis/6902736',\n",
       "       'coriolis/6902737', 'coriolis/6902738', 'coriolis/6902739',\n",
       "       'coriolis/6902740', 'coriolis/6902742', 'coriolis/6902743',\n",
       "       'coriolis/6902826', 'coriolis/6902827', 'coriolis/6902828',\n",
       "       'coriolis/6902829', 'coriolis/6902879', 'coriolis/6902880',\n",
       "       'coriolis/6902896', 'coriolis/6902897', 'coriolis/6902898',\n",
       "       'coriolis/6902899', 'coriolis/6902900', 'coriolis/6902901',\n",
       "       'coriolis/6902902', 'coriolis/6902903', 'coriolis/6902904',\n",
       "       'coriolis/6902905', 'coriolis/6902906', 'coriolis/6902907',\n",
       "       'coriolis/6902908', 'coriolis/6902909', 'coriolis/6902953',\n",
       "       'coriolis/6902954', 'coriolis/6902967', 'coriolis/6902968',\n",
       "       'coriolis/6902969', 'coriolis/6903024', 'coriolis/6903025',\n",
       "       'coriolis/6903026', 'coriolis/6903069', 'coriolis/6903070',\n",
       "       'coriolis/6903091', 'coriolis/6903093', 'coriolis/6903094',\n",
       "       'coriolis/6903095', 'coriolis/6903096', 'coriolis/6903124',\n",
       "       'coriolis/6903125', 'coriolis/6903126', 'coriolis/6903127',\n",
       "       'coriolis/6903128', 'coriolis/6903129', 'coriolis/6903130',\n",
       "       'coriolis/6903197', 'coriolis/6903235', 'coriolis/6903240',\n",
       "       'coriolis/6903247', 'coriolis/6903249', 'coriolis/6903250',\n",
       "       'coriolis/6903273', 'coriolis/6903549', 'coriolis/6903550',\n",
       "       'coriolis/6903551', 'coriolis/6903552', 'coriolis/6903553',\n",
       "       'coriolis/6903554', 'coriolis/6903555', 'coriolis/6903567',\n",
       "       'coriolis/6903568', 'coriolis/6903569', 'coriolis/6903570',\n",
       "       'coriolis/6903574', 'coriolis/6903575', 'coriolis/6903577',\n",
       "       'coriolis/6903578', 'coriolis/6903579', 'coriolis/6903697',\n",
       "       'coriolis/6903706', 'coriolis/6903708', 'coriolis/6903711',\n",
       "       'coriolis/6903805', 'coriolis/6903874', 'coriolis/6903875',\n",
       "       'coriolis/6903876', 'coriolis/6903877', 'coriolis/6903878',\n",
       "       'coriolis/6904113', 'coriolis/6904116', 'coriolis/6904117',\n",
       "       'coriolis/6904118', 'coriolis/6904134', 'coriolis/6904139',\n",
       "       'coriolis/6904235', 'coriolis/7900559', 'coriolis/7900560',\n",
       "       'coriolis/7900561', 'coriolis/7900562', 'coriolis/7900563',\n",
       "       'coriolis/7900579', 'coriolis/7900580', 'coriolis/7900585',\n",
       "       'coriolis/7900586', 'coriolis/7900587', 'coriolis/7900588',\n",
       "       'coriolis/7900589', 'coriolis/7900591', 'coriolis/7900592',\n",
       "       'coriolis/7901001', 'csio/2902701', 'csio/2902748', 'csio/2902749',\n",
       "       'csio/2902750', 'csio/2902753', 'csio/2902754', 'csio/2902755',\n",
       "       'csio/2902756', 'csio/2902762', 'csio/2902822', 'csio/2902823',\n",
       "       'csio/2902824', 'csiro/1901329', 'csiro/1901338', 'csiro/1901339',\n",
       "       'csiro/1901347', 'csiro/1901348', 'csiro/5903629', 'csiro/5903630',\n",
       "       'csiro/5903649', 'csiro/5903660', 'csiro/5903678', 'csiro/5903679',\n",
       "       'csiro/5903955', 'csiro/5904218', 'csiro/5904882', 'csiro/5904923',\n",
       "       'csiro/5904924', 'csiro/5905022', 'csiro/5905023', 'csiro/5905165',\n",
       "       'csiro/5905167', 'csiro/5905194', 'csiro/5905197', 'csiro/5905198',\n",
       "       'csiro/5905199', 'csiro/5905395', 'csiro/5905396', 'csiro/5905397',\n",
       "       'csiro/5905441', 'csiro/5905442', 'csiro/5905501', 'csiro/5905505',\n",
       "       'csiro/5906623', 'csiro/5906624', 'csiro/5906635', 'csiro/5906636',\n",
       "       'csiro/5906645', 'csiro/5906661', 'csiro/7900907', 'csiro/7900915',\n",
       "       'csiro/7900918', 'incois/2902086', 'incois/2902087',\n",
       "       'incois/2902088', 'incois/2902089', 'incois/2902090',\n",
       "       'incois/2902091', 'incois/2902092', 'incois/2902093',\n",
       "       'incois/2902113', 'incois/2902114', 'incois/2902115',\n",
       "       'incois/2902118', 'incois/2902120', 'incois/2902123',\n",
       "       'incois/2902124', 'incois/2902129', 'incois/2902130',\n",
       "       'incois/2902131', 'incois/2902156', 'incois/2902158',\n",
       "       'incois/2902160', 'incois/2902161', 'incois/2902174',\n",
       "       'incois/2902175', 'incois/2902177', 'incois/2902178',\n",
       "       'incois/2902179', 'incois/2902189', 'incois/2902193',\n",
       "       'incois/2902195', 'incois/2902196', 'incois/2902199',\n",
       "       'incois/2902202', 'incois/2902204', 'incois/2902205',\n",
       "       'incois/2902209', 'incois/2902210', 'incois/2902211',\n",
       "       'incois/2902215', 'incois/2902216', 'incois/2902217',\n",
       "       'incois/2902218', 'incois/2902238', 'incois/2902239',\n",
       "       'incois/2902240', 'incois/2902241', 'incois/2902242',\n",
       "       'incois/2902243', 'incois/2902244', 'incois/2902245',\n",
       "       'incois/2902263', 'incois/2902264', 'incois/2902270',\n",
       "       'incois/2902271', 'incois/2902272', 'incois/2902273',\n",
       "       'incois/2902274', 'incois/2902275', 'incois/2902276',\n",
       "       'incois/2902277', 'incois/2902294', 'incois/2902295',\n",
       "       'incois/2902296', 'incois/2902297', 'incois/2902298',\n",
       "       'incois/2902299', 'jma/1902332', 'jma/2903210', 'jma/2903213',\n",
       "       'jma/2903329', 'jma/2903330', 'jma/2903354', 'jma/2903392',\n",
       "       'jma/2903393', 'jma/2903394', 'jma/2903395', 'jma/2903396',\n",
       "       'jma/2903666', 'jma/2903669', 'jma/2903670', 'jma/2903672',\n",
       "       'jma/5905229', ''], dtype='<U16')"
      ]
     },
     "execution_count": 8,
     "metadata": {},
     "output_type": "execute_result"
    }
   ],
   "source": [
    "WMO_dac"
   ]
  },
  {
   "cell_type": "code",
   "execution_count": 9,
   "metadata": {},
   "outputs": [
    {
     "ename": "NameError",
     "evalue": "name 'fn' is not defined",
     "output_type": "error",
     "traceback": [
      "\u001b[0;31m---------------------------------------------------------------------------\u001b[0m",
      "\u001b[0;31mNameError\u001b[0m                                 Traceback (most recent call last)",
      "\u001b[0;32m<ipython-input-9-4e700bf7e955>\u001b[0m in \u001b[0;36m<module>\u001b[0;34m\u001b[0m\n\u001b[0;32m----> 1\u001b[0;31m \u001b[0mfn\u001b[0m\u001b[0;34m\u001b[0m\u001b[0;34m\u001b[0m\u001b[0m\n\u001b[0m",
      "\u001b[0;31mNameError\u001b[0m: name 'fn' is not defined"
     ]
    }
   ],
   "source": [
    "fn"
   ]
  },
  {
   "cell_type": "code",
   "execution_count": null,
   "metadata": {},
   "outputs": [],
   "source": []
  },
  {
   "cell_type": "code",
   "execution_count": 10,
   "metadata": {},
   "outputs": [],
   "source": [
    "# import shutil\n",
    "# # remove old pkl + png files (may not be necessary, but just to be sure)\n",
    "# old = glob.glob(DIR_PLOTS+\"/*\")\n",
    "# [shutil.rmtree(i) for i in old] ;\n"
   ]
  },
  {
   "cell_type": "code",
   "execution_count": 11,
   "metadata": {
    "scrolled": true
   },
   "outputs": [
    {
     "name": "stdout",
     "output_type": "stream",
     "text": [
      "[Parallel(n_jobs=8)]: Using backend LokyBackend with 8 concurrent workers.\n",
      "[Parallel(n_jobs=8)]: Done   1 tasks      | elapsed:    3.2s\n",
      "[Parallel(n_jobs=8)]: Done   2 tasks      | elapsed:    3.2s\n",
      "[Parallel(n_jobs=8)]: Done   3 tasks      | elapsed:    3.4s\n",
      "[Parallel(n_jobs=8)]: Done   4 tasks      | elapsed:    3.4s\n",
      "[Parallel(n_jobs=8)]: Done   5 tasks      | elapsed:    3.4s\n",
      "[Parallel(n_jobs=8)]: Done   6 tasks      | elapsed:    4.6s\n",
      "[Parallel(n_jobs=8)]: Done   7 tasks      | elapsed:    5.2s\n",
      "[Parallel(n_jobs=8)]: Done   8 tasks      | elapsed:    6.4s\n",
      "[Parallel(n_jobs=8)]: Done   9 tasks      | elapsed:    6.6s\n",
      "[Parallel(n_jobs=8)]: Done  10 tasks      | elapsed:    7.4s\n",
      "[Parallel(n_jobs=8)]: Done  11 tasks      | elapsed:    8.0s\n",
      "[Parallel(n_jobs=8)]: Done  12 tasks      | elapsed:   10.1s\n",
      "[Parallel(n_jobs=8)]: Done  13 tasks      | elapsed:   12.9s\n",
      "[Parallel(n_jobs=8)]: Done  14 tasks      | elapsed:   14.6s\n",
      "[Parallel(n_jobs=8)]: Done  15 tasks      | elapsed:   16.5s\n",
      "[Parallel(n_jobs=8)]: Done  16 tasks      | elapsed:   16.9s\n",
      "[Parallel(n_jobs=8)]: Done  17 tasks      | elapsed:   18.7s\n",
      "[Parallel(n_jobs=8)]: Done  18 tasks      | elapsed:   19.6s\n",
      "[Parallel(n_jobs=8)]: Done  19 tasks      | elapsed:   19.6s\n",
      "[Parallel(n_jobs=8)]: Done  20 tasks      | elapsed:   19.6s\n",
      "[Parallel(n_jobs=8)]: Done  21 tasks      | elapsed:   19.6s\n",
      "[Parallel(n_jobs=8)]: Done  22 tasks      | elapsed:   19.6s\n",
      "[Parallel(n_jobs=8)]: Done  23 tasks      | elapsed:   19.6s\n",
      "[Parallel(n_jobs=8)]: Done  24 tasks      | elapsed:   19.6s\n",
      "[Parallel(n_jobs=8)]: Done  25 tasks      | elapsed:   19.6s\n",
      "[Parallel(n_jobs=8)]: Done  26 tasks      | elapsed:   19.6s\n",
      "[Parallel(n_jobs=8)]: Done  27 tasks      | elapsed:   19.6s\n",
      "[Parallel(n_jobs=8)]: Done  28 tasks      | elapsed:   19.6s\n",
      "[Parallel(n_jobs=8)]: Done  29 tasks      | elapsed:   19.6s\n",
      "[Parallel(n_jobs=8)]: Done  30 tasks      | elapsed:   19.6s\n",
      "[Parallel(n_jobs=8)]: Done  31 tasks      | elapsed:   19.6s\n",
      "[Parallel(n_jobs=8)]: Done  32 tasks      | elapsed:   19.6s\n",
      "[Parallel(n_jobs=8)]: Done  33 tasks      | elapsed:   19.6s\n",
      "[Parallel(n_jobs=8)]: Done  34 tasks      | elapsed:   19.6s\n"
     ]
    },
    {
     "ename": "NameError",
     "evalue": "name 'ipbd' is not defined",
     "output_type": "error",
     "traceback": [
      "\u001b[0;31m---------------------------------------------------------------------------\u001b[0m",
      "\u001b[0;31mNameError\u001b[0m                                 Traceback (most recent call last)",
      "\u001b[0;32m<ipython-input-11-421b9760f282>\u001b[0m in \u001b[0;36m<module>\u001b[0;34m\u001b[0m\n\u001b[1;32m      2\u001b[0m \u001b[0;32mfrom\u001b[0m \u001b[0mjoblib\u001b[0m \u001b[0;32mimport\u001b[0m \u001b[0mdelayed\u001b[0m\u001b[0;34m,\u001b[0m \u001b[0mParallel\u001b[0m\u001b[0;34m\u001b[0m\u001b[0;34m\u001b[0m\u001b[0m\n\u001b[1;32m      3\u001b[0m r = Parallel(n_jobs=8, verbose=100)(delayed(BBP_RTQC.QC_wmo)(iwmo, PLOT=True, SAVEPLOT=True, SAVEPKL=True, VERBOSE=False)\n\u001b[0;32m----> 4\u001b[0;31m                                    for iwmo in WMO_dac[::])\n\u001b[0m",
      "\u001b[0;32m~/miniconda3/envs/OLTraj/lib/python3.7/site-packages/joblib/parallel.py\u001b[0m in \u001b[0;36m__call__\u001b[0;34m(self, iterable)\u001b[0m\n\u001b[1;32m   1054\u001b[0m \u001b[0;34m\u001b[0m\u001b[0m\n\u001b[1;32m   1055\u001b[0m             \u001b[0;32mwith\u001b[0m \u001b[0mself\u001b[0m\u001b[0;34m.\u001b[0m\u001b[0m_backend\u001b[0m\u001b[0;34m.\u001b[0m\u001b[0mretrieval_context\u001b[0m\u001b[0;34m(\u001b[0m\u001b[0;34m)\u001b[0m\u001b[0;34m:\u001b[0m\u001b[0;34m\u001b[0m\u001b[0;34m\u001b[0m\u001b[0m\n\u001b[0;32m-> 1056\u001b[0;31m                 \u001b[0mself\u001b[0m\u001b[0;34m.\u001b[0m\u001b[0mretrieve\u001b[0m\u001b[0;34m(\u001b[0m\u001b[0;34m)\u001b[0m\u001b[0;34m\u001b[0m\u001b[0;34m\u001b[0m\u001b[0m\n\u001b[0m\u001b[1;32m   1057\u001b[0m             \u001b[0;31m# Make sure that we get a last message telling us we are done\u001b[0m\u001b[0;34m\u001b[0m\u001b[0;34m\u001b[0m\u001b[0;34m\u001b[0m\u001b[0m\n\u001b[1;32m   1058\u001b[0m             \u001b[0melapsed_time\u001b[0m \u001b[0;34m=\u001b[0m \u001b[0mtime\u001b[0m\u001b[0;34m.\u001b[0m\u001b[0mtime\u001b[0m\u001b[0;34m(\u001b[0m\u001b[0;34m)\u001b[0m \u001b[0;34m-\u001b[0m \u001b[0mself\u001b[0m\u001b[0;34m.\u001b[0m\u001b[0m_start_time\u001b[0m\u001b[0;34m\u001b[0m\u001b[0;34m\u001b[0m\u001b[0m\n",
      "\u001b[0;32m~/miniconda3/envs/OLTraj/lib/python3.7/site-packages/joblib/parallel.py\u001b[0m in \u001b[0;36mretrieve\u001b[0;34m(self)\u001b[0m\n\u001b[1;32m    933\u001b[0m             \u001b[0;32mtry\u001b[0m\u001b[0;34m:\u001b[0m\u001b[0;34m\u001b[0m\u001b[0;34m\u001b[0m\u001b[0m\n\u001b[1;32m    934\u001b[0m                 \u001b[0;32mif\u001b[0m \u001b[0mgetattr\u001b[0m\u001b[0;34m(\u001b[0m\u001b[0mself\u001b[0m\u001b[0;34m.\u001b[0m\u001b[0m_backend\u001b[0m\u001b[0;34m,\u001b[0m \u001b[0;34m'supports_timeout'\u001b[0m\u001b[0;34m,\u001b[0m \u001b[0;32mFalse\u001b[0m\u001b[0;34m)\u001b[0m\u001b[0;34m:\u001b[0m\u001b[0;34m\u001b[0m\u001b[0;34m\u001b[0m\u001b[0m\n\u001b[0;32m--> 935\u001b[0;31m                     \u001b[0mself\u001b[0m\u001b[0;34m.\u001b[0m\u001b[0m_output\u001b[0m\u001b[0;34m.\u001b[0m\u001b[0mextend\u001b[0m\u001b[0;34m(\u001b[0m\u001b[0mjob\u001b[0m\u001b[0;34m.\u001b[0m\u001b[0mget\u001b[0m\u001b[0;34m(\u001b[0m\u001b[0mtimeout\u001b[0m\u001b[0;34m=\u001b[0m\u001b[0mself\u001b[0m\u001b[0;34m.\u001b[0m\u001b[0mtimeout\u001b[0m\u001b[0;34m)\u001b[0m\u001b[0;34m)\u001b[0m\u001b[0;34m\u001b[0m\u001b[0;34m\u001b[0m\u001b[0m\n\u001b[0m\u001b[1;32m    936\u001b[0m                 \u001b[0;32melse\u001b[0m\u001b[0;34m:\u001b[0m\u001b[0;34m\u001b[0m\u001b[0;34m\u001b[0m\u001b[0m\n\u001b[1;32m    937\u001b[0m                     \u001b[0mself\u001b[0m\u001b[0;34m.\u001b[0m\u001b[0m_output\u001b[0m\u001b[0;34m.\u001b[0m\u001b[0mextend\u001b[0m\u001b[0;34m(\u001b[0m\u001b[0mjob\u001b[0m\u001b[0;34m.\u001b[0m\u001b[0mget\u001b[0m\u001b[0;34m(\u001b[0m\u001b[0;34m)\u001b[0m\u001b[0;34m)\u001b[0m\u001b[0;34m\u001b[0m\u001b[0;34m\u001b[0m\u001b[0m\n",
      "\u001b[0;32m~/miniconda3/envs/OLTraj/lib/python3.7/site-packages/joblib/_parallel_backends.py\u001b[0m in \u001b[0;36mwrap_future_result\u001b[0;34m(future, timeout)\u001b[0m\n\u001b[1;32m    540\u001b[0m         AsyncResults.get from multiprocessing.\"\"\"\n\u001b[1;32m    541\u001b[0m         \u001b[0;32mtry\u001b[0m\u001b[0;34m:\u001b[0m\u001b[0;34m\u001b[0m\u001b[0;34m\u001b[0m\u001b[0m\n\u001b[0;32m--> 542\u001b[0;31m             \u001b[0;32mreturn\u001b[0m \u001b[0mfuture\u001b[0m\u001b[0;34m.\u001b[0m\u001b[0mresult\u001b[0m\u001b[0;34m(\u001b[0m\u001b[0mtimeout\u001b[0m\u001b[0;34m=\u001b[0m\u001b[0mtimeout\u001b[0m\u001b[0;34m)\u001b[0m\u001b[0;34m\u001b[0m\u001b[0;34m\u001b[0m\u001b[0m\n\u001b[0m\u001b[1;32m    543\u001b[0m         \u001b[0;32mexcept\u001b[0m \u001b[0mCfTimeoutError\u001b[0m \u001b[0;32mas\u001b[0m \u001b[0me\u001b[0m\u001b[0;34m:\u001b[0m\u001b[0;34m\u001b[0m\u001b[0;34m\u001b[0m\u001b[0m\n\u001b[1;32m    544\u001b[0m             \u001b[0;32mraise\u001b[0m \u001b[0mTimeoutError\u001b[0m \u001b[0;32mfrom\u001b[0m \u001b[0me\u001b[0m\u001b[0;34m\u001b[0m\u001b[0;34m\u001b[0m\u001b[0m\n",
      "\u001b[0;32m~/miniconda3/envs/OLTraj/lib/python3.7/concurrent/futures/_base.py\u001b[0m in \u001b[0;36mresult\u001b[0;34m(self, timeout)\u001b[0m\n\u001b[1;32m    430\u001b[0m                 \u001b[0;32mraise\u001b[0m \u001b[0mCancelledError\u001b[0m\u001b[0;34m(\u001b[0m\u001b[0;34m)\u001b[0m\u001b[0;34m\u001b[0m\u001b[0;34m\u001b[0m\u001b[0m\n\u001b[1;32m    431\u001b[0m             \u001b[0;32melif\u001b[0m \u001b[0mself\u001b[0m\u001b[0;34m.\u001b[0m\u001b[0m_state\u001b[0m \u001b[0;34m==\u001b[0m \u001b[0mFINISHED\u001b[0m\u001b[0;34m:\u001b[0m\u001b[0;34m\u001b[0m\u001b[0;34m\u001b[0m\u001b[0m\n\u001b[0;32m--> 432\u001b[0;31m                 \u001b[0;32mreturn\u001b[0m \u001b[0mself\u001b[0m\u001b[0;34m.\u001b[0m\u001b[0m__get_result\u001b[0m\u001b[0;34m(\u001b[0m\u001b[0;34m)\u001b[0m\u001b[0;34m\u001b[0m\u001b[0;34m\u001b[0m\u001b[0m\n\u001b[0m\u001b[1;32m    433\u001b[0m             \u001b[0;32melse\u001b[0m\u001b[0;34m:\u001b[0m\u001b[0;34m\u001b[0m\u001b[0;34m\u001b[0m\u001b[0m\n\u001b[1;32m    434\u001b[0m                 \u001b[0;32mraise\u001b[0m \u001b[0mTimeoutError\u001b[0m\u001b[0;34m(\u001b[0m\u001b[0;34m)\u001b[0m\u001b[0;34m\u001b[0m\u001b[0;34m\u001b[0m\u001b[0m\n",
      "\u001b[0;32m~/miniconda3/envs/OLTraj/lib/python3.7/concurrent/futures/_base.py\u001b[0m in \u001b[0;36m__get_result\u001b[0;34m(self)\u001b[0m\n\u001b[1;32m    382\u001b[0m     \u001b[0;32mdef\u001b[0m \u001b[0m__get_result\u001b[0m\u001b[0;34m(\u001b[0m\u001b[0mself\u001b[0m\u001b[0;34m)\u001b[0m\u001b[0;34m:\u001b[0m\u001b[0;34m\u001b[0m\u001b[0;34m\u001b[0m\u001b[0m\n\u001b[1;32m    383\u001b[0m         \u001b[0;32mif\u001b[0m \u001b[0mself\u001b[0m\u001b[0;34m.\u001b[0m\u001b[0m_exception\u001b[0m\u001b[0;34m:\u001b[0m\u001b[0;34m\u001b[0m\u001b[0;34m\u001b[0m\u001b[0m\n\u001b[0;32m--> 384\u001b[0;31m             \u001b[0;32mraise\u001b[0m \u001b[0mself\u001b[0m\u001b[0;34m.\u001b[0m\u001b[0m_exception\u001b[0m\u001b[0;34m\u001b[0m\u001b[0;34m\u001b[0m\u001b[0m\n\u001b[0m\u001b[1;32m    385\u001b[0m         \u001b[0;32melse\u001b[0m\u001b[0;34m:\u001b[0m\u001b[0;34m\u001b[0m\u001b[0;34m\u001b[0m\u001b[0m\n\u001b[1;32m    386\u001b[0m             \u001b[0;32mreturn\u001b[0m \u001b[0mself\u001b[0m\u001b[0;34m.\u001b[0m\u001b[0m_result\u001b[0m\u001b[0;34m\u001b[0m\u001b[0;34m\u001b[0m\u001b[0m\n",
      "\u001b[0;31mNameError\u001b[0m: name 'ipbd' is not defined"
     ]
    }
   ],
   "source": [
    "# this is to run the QC in parallel on multiple floats\n",
    "from joblib import delayed, Parallel\n",
    "r = Parallel(n_jobs=8, verbose=100)(delayed(BBP_RTQC.QC_wmo)(iwmo, PLOT=True, SAVEPLOT=True, SAVEPKL=True, VERBOSE=False)\n",
    "                                   for iwmo in WMO_dac[::])\n"
   ]
  },
  {
   "cell_type": "code",
   "execution_count": 10,
   "metadata": {},
   "outputs": [],
   "source": [
    "# # # # # # bodc_BR6901183_130\n",
    "# WMO_dac\n",
    "# np.where(WMO_dac == 'aoml/5906304')\n",
    "# # WMO_dac[277:278]"
   ]
  },
  {
   "cell_type": "code",
   "execution_count": 11,
   "metadata": {
    "scrolled": true
   },
   "outputs": [],
   "source": [
    "# # iwmo.split(\"/\")[1]\n",
    "# fns = glob.glob(\"plots/*/*pkl\")\n",
    "# wmo_done = np.asarray([int(iwmo.split(\"/\")[1]) for iwmo in fns])\n",
    "\n",
    "# for ifloat, iwmo in enumerate(WMO_dac[:]):\n",
    "#     if int(iwmo.split(\"/\")[1]) in wmo_done:\n",
    "#         continue\n",
    "#     else:\n",
    "#         print(iwmo)\n",
    "#         BBP_RTQC.QC_wmo(iwmo, PLOT=True, SAVEPLOT=True, SAVEPKL=True, VERBOSE=True)"
   ]
  },
  {
   "cell_type": "code",
   "execution_count": 12,
   "metadata": {
    "scrolled": false
   },
   "outputs": [],
   "source": [
    "# for iwmo in WMO_dac[0:22]:\n",
    "#     BBP_RTQC.QC_wmo(iwmo, PLOT=True, SAVEPLOT=True, SAVEPKL=True, VERBOSE=True)"
   ]
  },
  {
   "cell_type": "code",
   "execution_count": 13,
   "metadata": {
    "scrolled": true
   },
   "outputs": [],
   "source": [
    "# iwmo = np.where(WMO_dac=='aoml/5903717')[0][0]\n",
    "# BBP_RTQC.QC_wmo(WMO_dac[iwmo], PLOT=True, SAVEPLOT=True, SAVEPKL=True, VERBOSE=True)"
   ]
  },
  {
   "cell_type": "code",
   "execution_count": null,
   "metadata": {},
   "outputs": [],
   "source": []
  }
 ],
 "metadata": {
  "kernelspec": {
   "display_name": "Python 3",
   "language": "python",
   "name": "python3"
  },
  "language_info": {
   "codemirror_mode": {
    "name": "ipython",
    "version": 3
   },
   "file_extension": ".py",
   "mimetype": "text/x-python",
   "name": "python",
   "nbconvert_exporter": "python",
   "pygments_lexer": "ipython3",
   "version": "3.7.3"
  }
 },
 "nbformat": 4,
 "nbformat_minor": 4
}
