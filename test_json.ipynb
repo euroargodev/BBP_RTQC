{
 "cells": [
  {
   "cell_type": "code",
   "execution_count": 1,
   "metadata": {},
   "outputs": [
    {
     "data": {
      "text/html": [
       "<style>.container { width:100% !important; }</style>"
      ],
      "text/plain": [
       "<IPython.core.display.HTML object>"
      ]
     },
     "metadata": {},
     "output_type": "display_data"
    }
   ],
   "source": [
    "# this is to make the Jupyter notebook as wide as the screen (on the Mac at least)\n",
    "from IPython.core.display import display, HTML\n",
    "display(HTML(\"<style>.container { width:100% !important; }</style>\"))\n",
    "%config InlineBackend.figure_format ='retina'"
   ]
  },
  {
   "cell_type": "code",
   "execution_count": 2,
   "metadata": {},
   "outputs": [],
   "source": [
    "import BBP_RTQC\n",
    "from BBP_RTQC_paths import *\n",
    "import subprocess\n",
    "import numpy as np\n",
    "import glob\n",
    "\n",
    "import json #json manager\n",
    "import re #regular expressions\n",
    "import os\n",
    "\n",
    "import matplotlib.pyplot as plt"
   ]
  },
  {
   "cell_type": "code",
   "execution_count": 3,
   "metadata": {},
   "outputs": [],
   "source": [
    "f = open(\"BBP_RTQC_example_tests.json\") # open the text file\n",
    "t = json.load(f) # interpret the text file and make it usable by python\n",
    "f.close()"
   ]
  },
  {
   "cell_type": "code",
   "execution_count": 4,
   "metadata": {},
   "outputs": [],
   "source": [
    "a = []\n",
    "for it,tmp in enumerate(t):\n",
    "    a.append(json.loads(t[it]))\n"
   ]
  },
  {
   "cell_type": "code",
   "execution_count": null,
   "metadata": {
    "scrolled": false
   },
   "outputs": [],
   "source": [
    "fig, ax = plt.subplots(len(a), figsize=(4, 40))\n",
    "for it in np.arange(len(a)):\n",
    "    ax[it].plot(a[it]['input']['BBP'], a[it]['input']['PRES'], '.', alpha=0.2)\n",
    "    iQCed = np.where(np.asarray(a[it]['output']['flags_out'])>1)[0]\n",
    "    ax[it].plot(np.asarray(a[it]['input']['BBP'])[iQCed], np.asarray(a[it]['input']['PRES'])[iQCed], 'ro', alpha=0.5, mfc='none')\n",
    "    ax[it].grid('on', linestyle='--')\n",
    "    ax[it].invert_yaxis()\n",
    "    ax[it].set_title(a[it]['description'] + \"(\" + a[it]['code'] + \")\\n\"+\n",
    "                    a[it]['specifics'], color='pink')\n",
    "    ax[it].set_ylim([1050, -10])\n",
    "    # ax.set_ylim([10, 4])\n",
    "fig.tight_layout(pad=3.0)"
   ]
  },
  {
   "cell_type": "code",
   "execution_count": null,
   "metadata": {},
   "outputs": [],
   "source": [
    "# # Global Range Test: median-filtered negative values (A2)\n",
    "# code = \"A2\"\n",
    "# test = tests[code]\n",
    "# test_function = test_functions[code]\n",
    "# fn_eg = egs[code]\n",
    "\n",
    "# # read data from specific example profile\n",
    "# iwmo, fn_p, PRES, BBP700, JULD, LAT, LON, BBP700mf1, miss_no_prof, PARK_PRES, maxPRES, innan = start_rd_4_json(fn_eg)\n",
    "\n",
    "# # create BBP700_QC_flags, BBP700_QC_1st_failed_test\n",
    "# BBP700_QC_1st_failed_test = np.full(shape=BBP700.shape, fill_value='0')\n",
    "\n",
    "# # GLOBAL-RANGE TEST for BBP700\n",
    "# QC_FLAGS_OUT, BBP700_QC_1st_failed_test = BBP_RTQC.BBP_Global_range_test(BBP700, BBP700mf1, PRES, \n",
    "#                                                                   np.ones(BBP700.shape), BBP700_QC_1st_failed_test, \n",
    "#                                                                   fn_p, VERBOSE=False, PLOT=False, SAVEPLOT=False)\n",
    "\n",
    "# # create string to store results of example test\n",
    "# tmp = create_new_test_example(test, code, test_function, PRES.tolist(), BBP700.tolist(), \n",
    "#                               np.ones(BBP700.shape).tolist(), QC_FLAGS_OUT.tolist())\n",
    "\n",
    "# # add example above to list to be saved\n",
    "# all_eg_tests.append(tmp)\n",
    "\n",
    "# del QC_FLAGS_OUT\n",
    "\n",
    "\n",
    "\n"
   ]
  },
  {
   "cell_type": "code",
   "execution_count": null,
   "metadata": {},
   "outputs": [],
   "source": [
    "# f = open(\"BBP_RTQC_example_tests_new.json\") # open the text file\n",
    "# t2 = json.load(f) # interpret the text file and make it usable by python\n",
    "# f.close()"
   ]
  },
  {
   "cell_type": "code",
   "execution_count": null,
   "metadata": {},
   "outputs": [],
   "source": [
    "# a2 = []\n",
    "# for it,tmp in enumerate(t2):\n",
    "#     a2.append(json.loads(t2[it]))\n"
   ]
  },
  {
   "cell_type": "code",
   "execution_count": null,
   "metadata": {},
   "outputs": [],
   "source": [
    "# for it,tmp in enumerate(t2):\n",
    "#     assert np.all(a[it]['output']['flags_out'] == a2[it]['output']['flags_out'])"
   ]
  },
  {
   "cell_type": "code",
   "execution_count": null,
   "metadata": {},
   "outputs": [],
   "source": [
    "icode = [it for it in range(len(a)) if a[it]['code']=='F'][0]\n",
    "a[icode]['input'].keys()\n"
   ]
  },
  {
   "cell_type": "code",
   "execution_count": null,
   "metadata": {},
   "outputs": [],
   "source": []
  }
 ],
 "metadata": {
  "kernelspec": {
   "display_name": "Python 3",
   "language": "python",
   "name": "python3"
  },
  "language_info": {
   "codemirror_mode": {
    "name": "ipython",
    "version": 3
   },
   "file_extension": ".py",
   "mimetype": "text/x-python",
   "name": "python",
   "nbconvert_exporter": "python",
   "pygments_lexer": "ipython3",
   "version": "3.7.3"
  }
 },
 "nbformat": 4,
 "nbformat_minor": 4
}
